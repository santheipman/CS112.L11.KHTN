{
  "nbformat": 4,
  "nbformat_minor": 0,
  "metadata": {
    "colab": {
      "name": "PhanSo.ipynb",
      "provenance": [],
      "collapsed_sections": [],
      "toc_visible": true,
      "authorship_tag": "ABX9TyOoSMeIydmPTfN28c5l8Jft",
      "include_colab_link": true
    },
    "kernelspec": {
      "name": "python3",
      "display_name": "Python 3"
    }
  },
  "cells": [
    {
      "cell_type": "markdown",
      "metadata": {
        "id": "view-in-github",
        "colab_type": "text"
      },
      "source": [
        "<a href=\"https://colab.research.google.com/github/santheipman/CS112.L11.KHTN/blob/master/PhanSo.ipynb\" target=\"_parent\"><img src=\"https://colab.research.google.com/assets/colab-badge.svg\" alt=\"Open In Colab\"/></a>"
      ]
    },
    {
      "cell_type": "markdown",
      "metadata": {
        "id": "Uq5n_LmrwDSx"
      },
      "source": [
        "<img src=\"https://www.uit.edu.vn/sites/vi/files/banner.png\" alt=\"UIT logo\" class=\"left\">\n",
        "<h1 align= \"center\">   <strong>     CS112.PHÂN TÍCH VÀ THIẾT KẾ THUẬT TOÁN</strong> </h1>\n",
        "\n",
        "\n"
      ]
    },
    {
      "cell_type": "markdown",
      "metadata": {
        "id": "U_Pca_MGyrHm"
      },
      "source": [
        "# **CS112.L11.KHTN**\n",
        "## **NHÓM 5**\n",
        "\n",
        "|  STT | HỌ TÊN             | MSSV     | VAI TRÒ     | LIÊN HỆ |\n",
        "|---|--------------------|-----------------|----------------|---------|\n",
        "|**1** | **VŨ QUÍ SAN**         | **18520143** | **NHÓM TRƯỞNG** |[**GitHub**](https://github.com/santheipman) **và** **Gmail**: 18520143@gm.uit.edu.vn          |\n",
        "| **2** | **PHẠM MẠNH TIẾN**     | **18520166**| **THÀNH VIÊN**  | [**GitHub**](https://github.com/tienpm) **và** **Gmail**: 18520166@gm.uit.edu.vn        |\n",
        "| **3** |**NGUYỄN VƯƠNG THỊNH** | **18520367** | **THÀNH VIÊN**  |  [**GitHub**](https://github.com/ThinhNguyen209) **và** **Gmail**: 18520367@gm.uit.edu.vn      |"
      ]
    },
    {
      "cell_type": "markdown",
      "metadata": {
        "id": "NT4yAPPSxPwm"
      },
      "source": [
        "## **ĐỀ BÀI**\n",
        "\n",
        "<div class=\"problem_description\" id=\"problem_description\"  >\n",
        "\t\t\t<p><strong><span style=\"color:#0070c0\">PH&Acirc;N SỐ</span></strong></p>\n",
        "\n",
        "<p style=\"text-align:justify\">Cho 2 ph&acirc;n số đ&uacute;ng v&agrave; tối giản <em> </em><img src=\"data:image/png;base64,iVBORw0KGgoAAAANSUhEUgAAAAsAAAAbCAIAAAAlGOLqAAAAAXNSR0IArs4c6QAAAAlwSFlzAAAOxAAADsQBlSsOGwAAANlJREFUOE/NkrERwjAMRWVmIRQ5JrAnoGMKewI6SgZISuho0yeegEyQSxFrFyP5AsQh5FJwHGrss+QvW/8J7z3Mxmo+TdmlFZgbJTiUUDnGsqSBuUqK9Oi8dxnAdrMeNaZjKTNKU1QadBV2g1iBa+twCa05XfQ+QWvjPnxTUoHUFamFNdYQP5zH3GDFZHL4uH956TL3rWHfx64/P/nZ1N6e0AW7RqcQIFLGjibEFVgWddPC4cYINd0EY2UB2fW8I7YerEQyL7Icg/LOGDBAkhFieHoaI4S+4csdMVO+bHlWAG8AAAAASUVORK5CYII=\" style=\"height:20.25pt; width:8.25pt\" /> , <img src=\"data:image/png;base64,iVBORw0KGgoAAAANSUhEUgAAAAgAAAAbCAIAAADOL1npAAAAAXNSR0IArs4c6QAAAAlwSFlzAAAOxAAADsQBlSsOGwAAALxJREFUKFNj/P//PwM2wIRVFChIWOLOxHRrRjBI3w4yBaLjzkRr1VVaNbf//789IU1LFSwGtBzIs7KaABRFBmAdt68dg7jhzvZ0iEFQHSAtILZVGkIfIw38gSsEMMTpYTnhYIcGMjzYwaGLAMBAS9sG5kIkgLEACUUrBlj4AyVAQWs1YRs4lhDxwsRwZ+sqhgkL8z1VQPHCoKMGpCFRC4slYCS1zNIJUL2zffsdSERtA5sPtBQcXTDLSQ8rAB4NlwIFdFhGAAAAAElFTkSuQmCC\" style=\"height:20.25pt; width:6pt\" /> &nbsp;. Mỗi ph&eacute;p biến đổi l&agrave; tăng <strong><em>a</em></strong> v&agrave; <strong><em>b</em></strong> l&ecirc;n 1, sau đ&oacute; giản ước ph&acirc;n số nhận được.</p>\n",
        "\n",
        "<p style=\"text-align:justify\">H&atilde;y x&aacute;c định sau bao nhi&ecirc;u bước biến đổi từ ph&acirc;n số thứ nhất ban đầu nhận được ph&acirc;n số thứ 2 đ&atilde; cho.</p>\n",
        "\n",
        "<p style=\"text-align:justify\"><strong><em><span style=\"color:black\">Dữ liệu:</span></em></strong> V&agrave;o từ thiết bị nhập chuẩn gồm 4 d&ograve;ng, mỗi d&ograve;ng chứa 1 số nguy&ecirc;n <strong><em>a</em></strong>, <strong><em>b</em></strong>, <strong><em>c</em></strong>, <strong><em>d</em></strong>, 0 &lt; <strong><em>a</em></strong> &lt; <strong><em>b</em></strong> &le;10<sup>5</sup>, 0 &lt; <strong><em>c</em></strong> &lt; <strong><em>d</em></strong> &le; 10<sup>5</sup>, <strong><em>a</em></strong> v&agrave; <strong><em>b</em></strong> nguy&ecirc;n tố c&ugrave;ng nhau, <strong><em>c</em></strong> v&agrave; <strong><em>d</em></strong> nguy&ecirc;n tố c&ugrave;ng nhau <img src=\"data:image/png;base64,iVBORw0KGgoAAAANSUhEUgAAAAsAAAAbCAIAAAAlGOLqAAAAAXNSR0IArs4c6QAAAAlwSFlzAAAOxAAADsQBlSsOGwAAANlJREFUOE/NkrERwjAMRWVmIRQ5JrAnoGMKewI6SgZISuho0yeegEyQSxFrFyP5AsQh5FJwHGrss+QvW/8J7z3Mxmo+TdmlFZgbJTiUUDnGsqSBuUqK9Oi8dxnAdrMeNaZjKTNKU1QadBV2g1iBa+twCa05XfQ+QWvjPnxTUoHUFamFNdYQP5zH3GDFZHL4uH956TL3rWHfx64/P/nZ1N6e0AW7RqcQIFLGjibEFVgWddPC4cYINd0EY2UB2fW8I7YerEQyL7Icg/LOGDBAkhFieHoaI4S+4csdMVO+bHlWAG8AAAAASUVORK5CYII=\" style=\"height:20.25pt; width:8.25pt\" /> &nbsp;&ne; <img src=\"data:image/png;base64,iVBORw0KGgoAAAANSUhEUgAAAA4AAAAbCAIAAADDMSmuAAAAAXNSR0IArs4c6QAAAAlwSFlzAAAOxAAADsQBlSsOGwAAANdJREFUOE/Nk7ERwjAMRe3MgilymcCegKOhSkvnlDAAJQM4LR1teuINGCGNvYuQ7QvHHVEIbkCt/n35S88cANiyKpbJgipH6ttG8ViNnZ6UXH2rRFeeHIAzuhTEozAW9qU0qJuv6OqGezLytqHGYzc6oW1QSj3nzf9mr5+vxinJe4ZfxsLDc/4FWblvjXNICBMDz0IYdE8ANvKauFb7IyNxRekL1zWT9XZFXKVg/tYxcz1sUOEGVq0pJX7DkWvE+nypdsJb66d9AXoduMY4EXA6Vu5e50F8APe90pq6Jj+MAAAAAElFTkSuQmCC\" style=\"height:20.25pt; width:10.5pt\" /></p>\n",
        "\n",
        "<p style=\"text-align:justify\"><strong><em><span style=\"color:black\">Kết quả:</span></em></strong> Đưa ra thiết bị xuất chuẩn số 0 nếu kh&ocirc;ng c&oacute; c&aacute;ch biến đổi hoặc một số nguy&ecirc;n &ndash; số lượng ph&eacute;p biến đổi.</p>\n",
        "\n",
        "<p style=\"text-align:justify\"><strong><em><span style=\"color:black\">V&iacute; dụ:</span></em></strong></p>\n",
        "\n",
        "<table border=\"1\" cellspacing=\"0\">\n",
        "\t<tbody>\n",
        "\t\t<tr>\n",
        "\t\t\t<td style=\"background-color:#ffffcc; width:99.0pt\">\n",
        "\t\t\t<p style=\"text-align:center\"><tt><span style=\"color:black\">INPUT</span></tt></p>\n",
        "\t\t\t</td>\n",
        "\t\t\t<td style=\"vertical-align:top; width:49.5pt\">\n",
        "\t\t\t<p style=\"text-align:center\">&nbsp;</p>\n",
        "\t\t\t</td>\n",
        "\t\t\t<td style=\"background-color:#ffffcc; width:99.2pt\">\n",
        "\t\t\t<p style=\"text-align:center\"><tt><span style=\"color:black\">OUTPUT</span></tt></p>\n",
        "\t\t\t</td>\n",
        "\t\t</tr>\n",
        "\t\t<tr>\n",
        "\t\t\t<td style=\"background-color:#ffffcc; width:99.0pt\">\n",
        "\t\t\t<p style=\"text-align:justify\"><tt><strong><span style=\"color:black\">1 6 2 3</span></strong></tt></p>\n",
        "\t\t\t</td>\n",
        "\t\t\t<td style=\"vertical-align:top; width:49.5pt\">\n",
        "\t\t\t<p style=\"text-align:justify\">&nbsp;</p>\n",
        "\t\t\t</td>\n",
        "\t\t\t<td style=\"background-color:#ffffcc; width:99.2pt\">\n",
        "\t\t\t<p style=\"text-align:justify\"><tt><strong><span style=\"color:black\">5</span></strong></tt></p>\n",
        "\t\t\t</td>\n",
        "\t\t</tr>\n",
        "\t</tbody>\n",
        "</table>"
      ]
    },
    {
      "cell_type": "markdown",
      "metadata": {
        "id": "RM6YkI9nAXvO"
      },
      "source": [
        "## **1. Tóm tắt bài toán**"
      ]
    },
    {
      "cell_type": "markdown",
      "metadata": {
        "id": "7R3WKccYylKB"
      },
      "source": [
        "Cho 2 phân số tối giản $\\frac{a}{b}\\\\$ và $\\frac{c}{d}$ (a < b, c < d).\n",
        "\n",
        "Tìm cách biến đổi phân số  $\\frac{a}{b}\\\\$ thành $\\frac{c}{d}$. Với mỗi phép biển đổi tăng đồng thời a và b lên 1 đơn vị và tối giản phân số nếu có\n",
        "\n"
      ]
    },
    {
      "cell_type": "markdown",
      "metadata": {
        "id": "KMl_1yZt-t46"
      },
      "source": [
        "## **2. Nhận dạng mẫu (Pattern-Recognition)**"
      ]
    },
    {
      "cell_type": "markdown",
      "metadata": {
        "id": "kdgxBdBw0-Uw"
      },
      "source": [
        "- Tìm ước chung lớn nhất của hai số\n",
        "- Tối giản phân số"
      ]
    },
    {
      "cell_type": "markdown",
      "metadata": {
        "id": "DHEyVW9BlXi9"
      },
      "source": [
        "## **3. Thuật toán**"
      ]
    },
    {
      "cell_type": "markdown",
      "metadata": {
        "id": "JPIQ_jG61Tf5"
      },
      "source": [
        "### **3.1. Ý tưởng**\n",
        "\n",
        "Ta thực hiện phép biến đổi và đếm sô phép biến đổi đến khi tìm được bộ số a = b và c = d và in ra kết quá. Nếu giá trị số thực của $\\frac{a}{b} >  \\frac{c}{d}$ thì không thể biến đổi từ $\\frac{a}{b}$ thành  $\\frac{c}{d}$"
      ]
    },
    {
      "cell_type": "markdown",
      "metadata": {
        "id": "MWXEEwSy1ZHK"
      },
      "source": [
        "### **3.2. Mã giả thuật toán**\n",
        "``` psuedocode\n",
        "quotient_of_cd = c / d\n",
        "count = 0\n",
        "while ((a != c or b != d) and (a / b <= quotient_of_cd)) do\n",
        "begin\n",
        "  count += 1\n",
        "  a += 1\n",
        "  b += 1\n",
        "  tmp = gcd(a, b)\n",
        "  a = a div tmp\n",
        "  b = b div tmp\n",
        "end\n",
        "\n",
        "if (a / b >= quotient_of_cd) then\n",
        "  return 0\n",
        "else \n",
        "  return count\n",
        "  \n",
        "```\n",
        "\n"
      ]
    },
    {
      "cell_type": "markdown",
      "metadata": {
        "id": "2QLVpwgwLB6z"
      },
      "source": [
        "## **4. Cài đặt**"
      ]
    },
    {
      "cell_type": "code",
      "metadata": {
        "id": "YHxE1S2l74hK",
        "outputId": "fbd3f8a7-9a54-4df4-c8d3-4477e66fdf54",
        "colab": {
          "base_uri": "https://localhost:8080/"
        }
      },
      "source": [
        "def gcd(a, b):\n",
        "  if b == 0:\n",
        "    return a\n",
        "  else: \n",
        "    return gcd(b, a % b)\n",
        "\n",
        "def main():\n",
        "  a, b, c, d = [int(x) for x in input().split()]\n",
        "  quotient_of_cd = c / d\n",
        "  count = 0\n",
        "  while (a != c or b != d) and (a / b < quotient_of_cd):\n",
        "    count += 1\n",
        "    a += 1\n",
        "    b += 1\n",
        "    tmp = gcd(a, b)\n",
        "    a = a // tmp\n",
        "    b = b // tmp\n",
        "\n",
        "  if (a / b > quotient_of_cd):\n",
        "    print(0)\n",
        "  else:\n",
        "    print(count)\n",
        "\n",
        "if __name__ == \"__main__\":\n",
        "  main()"
      ],
      "execution_count": 1,
      "outputs": [
        {
          "output_type": "stream",
          "text": [
            "1 6 2 3\n",
            "5\n"
          ],
          "name": "stdout"
        }
      ]
    },
    {
      "cell_type": "markdown",
      "metadata": {
        "id": "MDpEYQJOLB7F"
      },
      "source": [
        "## **5. Kết quả trên Wecode**\n",
        "\n",
        "![image.png](data:image/png;base64,iVBORw0KGgoAAAANSUhEUgAABG0AAABPCAIAAADeJ6++AAAgAElEQVR4Ae19d1xUV9r/+est+1s/75Z3s5uNyaoRRIWxgKIUFVDECnaDuhpNNCbWaKJuFHtFE3vsLbbElhU1CRgVOxiVYgELIEgRpSgIwpTn/d17p9yp3Jl7Z+bMuccPHzlz+vN9vg/cL6dcBACPc4vAQ/550FStIUqACdZMo/nuRYBSSyT+MgGQmimSJ2Q0lwkNyHAWtYIMBGjQkeFHvhWPc4sQ1VF8RFyQpoHkApDlOQSllki/ywRAaqZInpDRXCY0IMNZ1AoyEKBBR4Yf+VZQHcVHw0VpGkguAlp+w1BqifS5TACkZorkCRnNZUIDMpxFrSADARp0ZPiRbwXVUXw0XJSmgeQioOU3DKWWSJ/LBEBqpkiekNFcJjQgw1nUCjIQoEFHhh/5VlAdxUfDRWkaSC4CWn7DUGqJ9LlMAKRmiuQJGc1lQgMynEWtIAMBGnRk+JFvBdVRfDRclKaB5CKg5TcMpZZIn8sEQGqmSJ6Q0VwmNCDDWdQKMhCgQUeGH/lWUB3FR8NFaRpILgJafsNQaon0uUwApGaK5AkZzWVCAzKcRa0gAwEadGT4kW8F1VF8NFyUpoHkIqDlNwyllkifywRAaqZInpDRXCY0IMNZ1AoyEKBBR4Yf+VZQHcVHw0VpGkguAlp+w1BqifS5TACkZorkCRnNZUIDMpxFrSADARp0ZPiRbwXVUXw0XJSmgeQioOU3DKWWSJ/LBEBqpkiekNFcJjQgw1nUCjIQoEFHhh/5VlAdxUfDRWkaSC4CWn7DUGqJ9LlMAKRmiuQJGc1lQgMynEWtIAMBGnRk+JFvBdVRfDRclKaB5CKg5TcMpZZIn8sEQGqmSJ6Q0VwmNCDDWdQKMhCgQUeGH/lWOEVHVStzblanJFYm//gy40r1kzIVf0SxaQJYSIAJYr1I2zsHAUotkbjKBEBqpkiekNFcJjTAx1m5qtJ3S1ajezEoPdT9X/di3iqJz1WV4oOPHGaCW9CpIb+uNkZZipRFnvBViupq+qshHyuqSKaj1FCcXLEu8F5PdPFtlNjI6CvJC10fjB4fPFz9SrzxuLHQAYsIMMEBq2kTFyBAqSUSZJkASM0UyRMymsuEBpg4K1dViu4Pcr98MpFw9wdRKeVKhmAVdGrI9xgFxZd5pQgrKSWBjlJD8dHST9Glt4y0k4mU0n5sjNJWbq4UpaawYqFj4UeACY4ZTls5GwFKLZEIywRAaqZInpDRXCY0wMRZb5XEYyeiOE1VtAwTiOQwDayCrq6mv2csQ/FFFJuuq43Ehy1idVSxcjNK+Z2pgjrnh1L6oNuD0M0IdLWZaWmSH7p7PkvjIAhYsdAxGwgwwTHDaStnI0CpJRJhmQBIzRTJEzKay4QGmDgLl+18JutR6aHoXgwmEMlhGlgFnUcuRnGaqhThwxZROiqzYjw6hwwyKbkvyjmY8PJVjbF9Gk3xxYqtkfc6orO/N1S+tu5knXE9YZ+wYqGwKZvWIsAEU5M86nMFgoUIfnvpUZMWNllKLWE4Wa0lEwCpmVYZIKcCmdAAE5diuhjFyipMIJLDNLAKOg9djOKmjQ9bHNdRKeWD0dn/p9VFv3ZBOVcLGrpPokR5sHdaU4OUurTIASmFFQsdcyQBJjhmOBatnsExBFtWYDEXySdBqSUSUpkASM0UyRMymsuEBpg4i+ooTBzh3mlgFXRUR0lCBgd1VHHNJJT031pFdHnm5qp6gbNRQ/lPxT0MAuzq1ttqgU211bBioX1T19UmwASdKabfcxHE8b6WINiJ4F6RtloOgvkInpo2Mnyu6QbrEGxA8MaQJ0UqC5IQLEWwNQbgBJxA8FyKXjHsg2BquQZtpwD4Ovvcd0sm9fpgxVVjI0oT1kyM6uzv26JNWJ8P1ic84pXaKOLVcjjpFDMdno3TGsrETIfxo/g4DJ0DDamOcgA08ppgFXRUR0lCMEd0VB0cQJd02/muOLKmlFk+UCelGqOMeyb7AG0bhhULbU/VWikBJlgzLRfBPATJSyF7MfN16z9hG4IFCLJYH9vWUa+HwbcI7ufBHQS7PpBOSiXBUQSbO0FdJpxBsAkBiRv6tA4hmFrWKCdtvrQAaqpSd8waHNTG18vXr1XTqAU8HaWEjLV9fPxDZn17+vqlX7ZN7+0X4r3hJrukb6NIKmOlNVOqWUnej0zMdBg3io/D0DnQkOooB0AjrwlWQUd1lCQEs1tHqaF82wOdiDo3abNdGkg3ZQ3UJBd20i5nne0xtUxXIOA7ViwUMF8LVQgwwYJVbFYuq5oe84vXwBoEWxcyWbZ1FL8RTTuGAMHUcgwQe1tJDGD+xvGDv1y9N/3JlTldmhjpqPqUKV3/Hm1Yocqe2/39bl+eYlbnbRTZa461+hKbaW0YwfkqyNs9tPknmxz6dWJ9FPeaWZ0wLLTtXqMfhtan6pYS9+LjFpPdOCjVUW4EH5+hsQo6qqMkIYbdOqpO/S+U9B+MBPolsFt+tcOTUMK9z2/p9FjKjy8EdyQ9C19n/3okflpsn3l7DZOozN45fXCwnyKgY8i4pYeLDQVSpKQ3QYpZSdKHBR1VDocRrGnFdJ/DqqzMKNiFYBGCbxBcuacb9hlksItFixCsQHBkjm496gKzgnRoOpxHsJK9H2JPd8sLSrXL4RC7eW8Jgt0Iil7req6GJwi2siPGI0jYqMsn8bt4aqmh4ur28dEh7f0UASF9Zu25pj31yEREtGlEFJxbMa5/Rz9FQIfgEXF7c2tZSNXVyZs/6enf3r9Nu+hP5qbqNnUa4NaoK+8k7Vk6OfqfkzP1uRqoLc08tn3BuOE99tzR5/ISFicAVz4OaOHn7aPgvsauqeC1cCQpHkDLo6Z9YaKjcnaGdUTzT+p2NddB4twAryHznzBhYr3Icuf25wo3s/BAVNu/frQj2zBG4kyvfhMNjjMUGKc0UJsw5R3OL34BUcPGrk94oDSuYviEuY4qPBCl51iLNmG9RsafyjJMnp/SlCcdir/IaScJddSbgqPzR4cH+AW0CRgyaWVGOX9IEWnhNBAxCG2qRYDqKEoFAMAq6KiOkoST9ukoDdTsf2gQP/a+UrgSdvpmTF/8XPvblCfJekwWvNdKWhZqijYObxcZM2XqsMB2M/dpIVVC6qpw/7ELH1So3uSfmx71p3FbCyRBW9uJtCZIOTPRfVnQUReYrX0bxjFd57BHp+IRXJwF9wcyameBbpfdXVYj/TwN8r+D+6xkOnianQ2roxYiRnplLoFUVg5pi/izPcXIrY0I0rZANmIOWa3QHbLKYXs+0h8efwsprNDau4nfkqi0eGq9ODU8uO2sIw+Vaii5tiYyyHv1TRUoIXVlz/Zjlj0oByhNmR3deOKeItAUbYz1HvTVqfIaYMKkf+MRG7NBA7UXZ/tGDD2RWwu1JUdndA2ZdsToFQdcV2FDZ00cqOj/kfZxXAO1yV/5hkRMnDKhT5fm2811lMUJAEDZ0QFBvQ7nlZY+Y/9Vil7PEA+gZT6Z6aj05d6d3tVu5ANgEe7elNMnNoosd25/rnAzOQkRHnw4RyeC7NJRA754CPXw5kX2ua2jw5tM+87K6gz+Oio0+HCxEqAeaiuzf1kUpd+EaYp99ty+KI6Tx1LpKGafZ+92I+ZkFiuh9un+yYGh3Lql6dD2fxZOA/v7pi1MEaA6yhQRWX7GKuiojpKEg/bpqDdw7N3znI7qGFti3wQqYaf2VNWvQ6awUkoN5cvu6FRZeo7A7iRmYV1lZQ0oIWNdJE9H1W7/CI3ltJMSUheHBs3+t8DZCaomsQmCxnRRpVwEcxE8fA7KCubrzRm4wGqnn9gz9Dns6alrusXHKlbhpLALHhU74OFt3STr4SdWSjGfWR21rrOu6BmzurXW7A1sagWzwPWz7g3PL1jdxVxoweqrTTN0zQHumu88NBR6fEo8tW5vGfX5hjwOCE3xmmFo2v5q0BQuGYBmHWFfVMA88g5RTNmmqboU9+GkM9xyE/Onh5DOs/8N9ZC8pEPE3LNaJNNW+UeNusGHVQO1Vc+Ya0SSv/LV6ygAePWc+VOK6swQizrK4gQAIGtdML8T/kCOpcUDaHlcMx2VMr9loO5AFKujMtZG/SNyLIOVjSLLndufK9zMwgNRvpHj/hkaOGad9ic+X0fln1/wUe9AP0VAaFTcoRtGF7Zy61GDPmdW2ABADRVJMxR9JjIG6tc8FW2jxk75NUcJfB2l1mSdXBAb1tnfz7/biAln7qqg8ECUgRVpX3RHs45XCrJZuJm2uys8EBUafFi/sqp+vmHk78bt/G119B/G7WFzlaqEKS17TFn9cVB7/xZeAW0VQ9amQnXCsHZhs+Ln9O/s79u+3Ufxp7VL5OagMR3+fuK8HZ9FdWqvaBv1ybIH3NIuNysVZCSsP5LGLkKpoeLY+H+MWGbnb18r5kmFj5XuabYRAlRHGcEh1w9YBR3VUZLQ0D4dVV/7IUpk7zq/sPKKPeNXanQiKrERsycw9SfuD8fFVdEokX2p1KWtVjZKmA7jDBaa6CgVZG0ZEPjhgszKN8wf2mPem/Vjqek0xHx2hgli5iNhW5P7+uIQLEHw7z3aEUzOR6n/wIifs9wjQzXkIdiHmMNUS9lFp+Xca9ZYHbXja90c6+GkXmLp8pjvx5n1qLUIUndDlX5HH4BawbwqKlGn3Jiao5hBT9u7lsofC+O0tNQqOzE8Kvgws4Tw2+TIv62+wj4na6D21MTGJk9ymuI1oxpPO1QKdfDD1HcGbtRtA2MeQPv+xH8o1INnoqO4fGs6ytoEkuc2axc1on9kl+CuI2askGC/k7QA6o0FT9ZRIZ33pl+c0fP9cdvZ1SSDjnq0ZJD34EUni2o0lXcPj4xoMusMb1uliY4CgOqfhnJy6OnRgSHt4xIeKGteXlwxqP3Y+BK+jspaFxzaY3taOairEr4K8/tkfYW6fHtsk0Fr2GXKtFX+EX3PCdzYJpU3jXRUbd6FNdEhf199Hu6s7dnyw/WMzfVXx/f469IkNYDxelS7ZtEzj+ZW1Femrese0oZdaLUEmvr5huHe7WK/uJxbXVd6dVovxKz3Wvz38v6mDzsMWptqsdDuTKnwsXtgWTagOkqWbjc1GqugozrK1D0OfbZPR6UWt9ReDnHrmvDhTEXUpUXf697A+wZ2oCRuSWrcLqO/Zlrt3hksNNFRAPAme2mMX2tvH0Wrf4R9toP3dGB1XnYUOMMEO4Z3ZlXuvr6UA/DkCPNVfEt3zIkd1IaO4nbf/Xs2PEmB8luMWLJPRwGotsNpVmLFsaeh7rNrKvwlL63dSxid9iPv5jRn4uHqviWkVm3BRuaJ7Tobltcnh71t0FEJU94ZtcDwF3H1m9S1Azpx6xVK9ZFP/xLL11EhvU5YfOq1T0dZmcDjEwuXrU3KePgw89eFw9p1+nS/2I19EgJo5HszHWVj856NIqM+RXwQbmbhgaiu7Q8/hcqL/woMjzjxGECvo66vaBkx+AonkpWQtbVf20m7DPib6yi48nE4Wn0eHm4Z5P3p11pxXXZ0QGj3E8/hif6eibqS7HwduS7ObjZ44kMV5B0c3WzI/CfcDjfhXhZupm0suc2NXr5+3q0C/Np06z146YF0Ji7ubwoK7X6iEN6kzG/Zj11LNNFRhnsm7n7RF8UlqcEiaOrnG0ahiQfYRbY6OPll877LzZXSlY/9ff1aeAUMnZlpMaBsm2CxVCp8LHZOM00QsE9H3f0IlZw+rnrwZUFno4b3F8e9KilTAahfpdZ/jx51M5TaKGJftmuoafbRZKr0o/MQwCro7NJR6kfol4VoSLiXbxvfNl28hsehlFxkVw/KIqS5i8Z4t+y11+6G5gM5z0f29myfjtqvv6kvW+gVe5WwyXBJemIjZPzu3Xq4GnGF1VG/CD0i5QwWmugoVW3C3KA+U/blVajePLu9/MN2sd/ot5zZC7Cl+s4wwdI4bsizcD6KNwurOqoA9iNY95muaj2ctV9HaRtXQ+kK5sKJhexLorj1qHO6/X5MHXY9ittnqBuPnO9SUUvz7LtJXXpM36P7C4LZelRsvPZRVwUZuz7sED3pCvdsx61HxRuvR9WlfRnezt9PERAWxq5usXg3qKPubQv3UwT4KQKGffHAfD1KPwG989JW+YfH2rVMrm9qSEgFoKFHLmWmo0wuk6iHxJntvTl1aqPItFtHPws3k9NRRQCq2oQZwR3HbcnjdBQnk2L+Zdi2d2piY766NtdR1QnDQrw33IZLi0Le9/L103+Ftt2bBvl6HaV5mbxjzqjo7pHdevTs7O87eOJDACg/NCCkzfa7T9YOazRN4KY+CY90G61H8THPWxKDJm5+eXVxcETcGbbAeD3KoKPY/H9DfcKUd8xBM9ZRiV8272u4yJE/HEBFwbEZESFS/WlPOA2MZ0E/OYKADRljVHRn1vjKRwXs369UUGCko9KmL6iBl3C2f8m/0NPvdteq6uEguhPMNLdRZKaajIZjSx2xh7ZxCAGsgs5cnFjLUeeiLX3ebtbR+6N4dPJ7dGI1iu7Quvmw/017ap8ikruO0kDNeu1xpsYhvFdGqqB4W14sun/OfKuUbRHFngrImXCT01GBAg9cOYOFJjoKrht2MamhwuT5wKHYMWrkDBOMBnDfBwd1VAZz54RBR11lPtq1HlXAburTv13XsAx1Ctbrbl3nUKHnoxpkh6Yi4aseERO3aE9JAYCmgDkodYy9nlMJWVsGtp2yjbk9Qg15RyeFDBj1q34XUj0kL+4UpH2mBEhb5c+d+TEftEEdxW9icQIqyEpa9wN3boQ7KxUx2GN0FNxgbvBbdF53Yd8d5t5zLW42ivigiEgL/xGk11EAUJU8oVvzcWNGK7T3YSzz7xlrWI/a0r/FhK1W16PUUJEwvUXUqBuv2JWrGXuMbh/R7+vjqg34+EoJu17FrUcxB+eqto99b9D0xdHCN/W5QEdxq3BD5n3R9y12Ux+Y7usz0VEn1ZBuCTTbOkpTk5G0K1l/z8f15R2sxZS9jBBOA3t7pvXNETBXL5Zz7u8/oj7/yYvP0eNzz+CpkY56YJyT9eN9qFpd3JHpx0YR1VHmznBfDlZBZ001meeXLEe+vi2mXDCopuofUHCr1jEHDTnmrcxz5K6jmGshMrk9eF5BulshGBH1oDW72a8xSjvPl1KmIsrSG3uVkDNDp6Ni9M9iNinuDBaa6ChmO37zfnN/ZP7CXpu/Y3xg6KwTuscdm3MTWOgMEwQO7exqDuqoerjKriCdHgaZwczVfHHsKSlmtgLPR01jbkXfjODufngyg1mPWsCuR3GXBC5EcHwMFOyEm2y3htNWzobD5f2Lp5a6Onll3/DxX+fxDzVxATKGPf7O3Nf3R+b8hgpKkr4M7zfgjP4Jj1Fc7M17PWKY+/pqXhydGWR6X58eErt0lJUJ5O2OVcTOvlGsZMaa0a2D+L/TiwdQb6BRwmw9SgkZW/q3CAhk38N7di/zHt422/Xv4bVWZNSniA/CzeTrKO6uCG8frY6CR0v6+YxYkfxaA7WPToyLaGJ0jpS/HlVbmf3zug/C3pvI3Z+eszMspNPShAdKNVQ8Prlyxa5ivY5SQcnB0c0YHfXy5ZP03Z91b8FpNhWUHBjbzKdZMH/rYIMACDfTdldW16MAcraFefsoIsfe0MZL3hIuOpjzYPz3R+nXqSyBZltHKSFxbofgzzbklQNoypMWRfl/wh7Ksj1nIaVS4SNkLFrHsmqyIXKyjVVTeigqeFoHp1BGkLarm0t2qeD6q6HMRxtFNobQFVHvuAwBrILOXOdYy9na41009n/yiw2qSZWPVoa913yuNgfS0c5PUVhg69b+LUM++t99KYaa9efRnOj3fNv4+vVoNmMzGt6ilX5fn7aVf+tWHXyivrBvo6DLXNbgQHbs69NAzfb7nI5qjB5qDzPVwWrdAadGKLExyrjKHemvVBtv57MkopjjuXBrRArXZ5eP9KsJNmftDBaa6CgAKDirvYeqQ6chn38twfl1vk3OMIHfvxvTDuooALgKiazIWYJg/3C4xb5dirnBTaCOAqgeA9+xPSxkz0fd08vyanjEvplqIYJ4BKfWuBEepw8tnlrccyG3oc5PEaDwDeaulKjTvT8qMHDcvO/ZN6qlfRHs7efFbr3j6of3/akcoMH3R3Eo2KWjAMDCBACgNGHZ2DDuXVXj51/W+9xhoMUDaHloMx3FaM7ypDVTojr7+zKvJBq9PlG7RY7pwEaR5f7tzBVuJl9HMSuQVQkzgrz1748qOLtgVGSgb7vgHj3jdqUavU6Q01Hca5cUbaOiP4w/lq69Ol0NJRe+GR3Vqb1vu+Dew+MTHhnd1/fmwaZP+3VU+AZHDFka/9WQAR9rl7zKTsR0QtO5Q0QCzRVupu0ObegoTfGagU27xiVo/9CmZLe5tmsWvSrZio5if7mYgGZbRwHAy/ubuPcZ+gVGS8Jzzl6p8LGNHi3lEBCro9K6o+KXdXAQZbIb+dJD0e3p89/A49qJyEaRTinZHp36yGUIYBV01lSTSb46B0328fFZYZBGJhU0WWhRWLNmvf6xfj+6eBgt7N/kvdCmu+8w9SEdzejg3bTPexv2oNNb0WfdvL19FJyOUj9CKyOaNI9ssmo/OrsLje7U8v1P/5Mv1UxGMfnoMpc1OJAdOgoAfn7CXtaX2Ahl6hakAFLKB6OzuvxEL3T39mPNZqMzUVZEFHOdAxz9xzlWR/08ZD5zGXLD/7BiYcPTtVSDABMsmUXz3I8ApZZIH8gEQE80szpxdOSAM3ZdseACM9Xl28f/fulZYb+8RJJT8uYuwEfyOXtuh7aVjIVSk/WotO6o5A2ro0K0lTkdVTeN0VHWiqiOwowxWAWdiTKx9lFzF01o7tNpk1UdVRyPWrf1WnZLW0Fzl9VO85mPJcvR+7wiSEYDfFpzOqpyLdMq7oa2Vc1O5O/bXN+Jtcno8/FxrH06qqQ8Untf37VD+qukNVBjLKUao3N6WdUIWRdRzN+Y1Z+jpP9m+jy3KEkYKlixUNiUTWsRYIKpSfQzHghQaon0g0wA9Dgza8surhwQPu2w4fyVEEc73cyqvMT5YYMmal8nLWRKWNVxOj5YWevuyVhQSrZFDtVR7naZM8bHKuj0msR2okEddToWoeF/ySoxCK1L49Efov+aVoJOj0JoyFv6Iv75qNOj0O8G/jX9CarOZb7eXEfDW7Ts/4OhE9uzcoZ3HOvTPh31Rr+LL2nkKt75CTMpxb4kKrEBEcW8i7PgPa0wu3Fe4G9IrFjoMOiONaStKAK2ESAgOmwb6OxSmQDoYWY+WtLbr+ugqYbrTATSwKlm1kHi3E5+Yb3Xn9fdailwVvhUcyo++JiJyUwk0FFm+/pW1Vrd16ctsi3VdKWYQCSHaWAVdLaFir60wX19e/q/jSb8vqrIIIEyvkDvRDQ+X4iOD/oj+rhRqe5gFV9HHRr4Frfxm/9/t12GTvQTsJjAhy326SjDtRCJjdFdw9Y+9ny5yapUwyKqDs4EXNReXNEhV3vgqkFosGJhg7O1WIEAEyzaRTPdjgCllkgXyARAaqZInpDRXCY0wMRZYnVUeijKf1oPSSjTcM/ETjWcfzmM6dlGkU4s2ZgAJhDJYRpYBZ1FfWIxk7ln4uP/0cshZRFS5aMt0X/quJSRPcx61Mj/5R9tOjtBtx41xqiIr6OOj2iEBr995ld0/azhK/M+6TqKuf2svKd2BenXcZt4S1KmUuryypO6l+1ai43kQl9tV+cWnTW6BddaCyYfKxbamqj1MgJMsG4cLXEnApRaItGXCYDUTJE8IaO5TGiAibNsyBjLRSb7+tJDUfa5PChc+LSTtn7WT0/gxeoi9t5zG0VUR2HCAHYaWAWdRclkMTNvBXOWadZFg8hR/YgiWrXi7j1nz0e9/3W6tlSTxZyP+i/2Kr+S5ahpYNNdD7RFwGze097Xl7cE+QQ12X3P0Gc5L21xGvxMfLxq33oUe8Pe1Zhr3CJSI5T6I/+ic05KpZb9E91a16CIqlQvRdwNE4mNkeC3+lIdhQ91dDPR3sGl+yjV9wZUuFIt2U30ddJ1JZXxDveD1c9oh61wY0OZAEjNdCPH8BlaJjTABHDLYsmGyDHXUbc/m/la/QoujS6ag/J37K5VVcIelMleO2GjyMYQuiJMIJLDNLAKOr4ssZ1m38P7TpPOXjM3oJNH0aE1aGinVvr38HL39TXt897WH1DycbR8yLtNgpp9y8oq7s6Jlh/++fQllJ2EVgx4V39fn+Yu+qpL85b931l3CKUmoB9mo06dm2wWLKXwYYvdOgoAiqs/QoncTRJe6P49geea+DbXwbG2V3Vi7PL624IXo6iO4sPo3nS96uv650j5zPC3BNtxaF/pM1RfhupV35jb+E1WITp8De27jLadl+Zr32V0+NrabPGXZptP1tU5WP2MdrXxUownEwCpmVKQxeP7kAkNMPGTBDoqPRTdWzyvKr9MBRrNq9T679HDboZubRTp9JKhsnEOJhDJYRpYBZ1dT2WabHTkCxQV1MqrtZ8ivPk/F6KMXMPjH9xGmz9Cndsx74/qMe5P310zFHHvj/JjWr0/di0a08rH8P4orlVA6+ZtfDsNe3t1kqFVg3PDhy2O6Cg1lO9//HftlrxEBcq+pb+7T4hh9XDMT/vOqEbobL85dl1kS/f1CYHY+XXqVV83yHJJKphIKUZEbb8gjXwykWHbLxAgpbD6Ge18Gko/gkwApGZKTx0P7FEmNMDEM9Y0DA75mEAkh2lgFXSSPKS5qxN82OKIjgIAJdz6PE23oJTYGN3c86uAF2hooCaz6kukvVuiEUrs6FNQZi8WWLHQ3slz9QkwgVmJ4t3N4rx0fRnig8ysRJnoHwk/Hr7GH8sT0wRQy72wywRAaqZ7aYbJ6DKhASZo46CXrM0BE4jkMA2sgs55T24u6Bkftjioo1gpdXV82n/pVqUaoXM9UM6ZdCtqSgM1uTW7gq3V7R8AABEvSURBVNIVhvqJHb2fPHUACKxY6MD8idiaqHTWdj5zbfYMAWjPSinVaim385kLsH2XPf2sFAHR4VhMSdVKJgBSM6UijEf3IxMaYOIjaxoGh3xMIJLDNLAKOheoHecNgQ9bHNdRAKCCnLWPA3nSqBFK8kK3PgvK3bysJGFHWdK2siOLi9f0zB6NrvzFqNqFIVNLqh1DASsWytYE58WGec98kJ24GMXKKv5YnpgmIDrcC7tMAKRmupdmmIwuExpggjYOesnaHDCBSA7TwCrozB+3PCgHH7aI0lHcBX2ZVXHo2h+NZFKi7j285okkP5SxW8gmQGsYYcVCa5O0nU+ACa4MNj6YVEfx0TBPE0Atc6NcmSMTAKmZriQVtmPJhAaY4G9Nw+CQjwlEcpgGVkHnygc5ycfChy1idRRniQbKLz5fgG62sKWmznVB97b88KpepPFYsdAxWwgwQfKQsNEhH2Sqo/homKcJoJa5Ua7MkQmA1ExXkgrbsWRCA0zwx0EvWZsDJhDJYRpYBZ2N5y78i/BhizQ6Sm9Pdf3t78q2jcuZhe6NQZmxKHMiuj9n+JMDu8oflEn0vh+sWKg33K4EASa4Msb42FIdxUfDPE0AtcyNcmWOTACkZrqSVNiOJRMaYIK/NQ2DQz4mEMlhGlgFnSsf5CQfCx+2SKyjXGAYVix0zF4CTHAsJNS56O4tuy/644NsXUddQmcy/X7JaPALHUu23sl5/liemCaAWu6FXSYAUjPdSzNMRpcJDTBBGwe9ZG0OmEAkh2lgFXSOPchh0goftlAd5QZfYBVIjtnvWCBVfo28fRQ+0X87X2iHmuLP0KoEOloo8G3Ob55mWu1kG9VRfLCN0urq5M2f9PRv79+mXfQnc1O5lxarIe+XFR+EdfBv0SZs0Mg91yuMmug/1OYtHdC6/adf13I5r25+82nfED9FQGhU3P67Kn01fkIFJQnT2nb6j9VXdOVvim4c/nb22NCpu5/zK0qcJiA2hSAioZnmftFA7aOTM4Z26aTwDQ6NijuQrnVhZfbO6dHBfoqAjiHjlh4uZm8qyjgweXDfoYNGDNtzrUrIxO2rI6GZ9g3sIbUpPq50lDUNg0O+K3GQ+VhYBZ1jD3KYtMKHSFRHucEXWAWSY/Y7FkjHhzXy9lGg4X/JKpFaR2299KfU1w2+D7qmqrDPkXNUR9nrdA3UXpztGzH0RG4t1JYcndE1ZNoRDQCUnRge2iruZI5SU5X67eg2/cbe0Eol3gBKyNgysK2fIoDTUarXRyYH9Ji6M6+i5tm1df3DvDbc1CklXiOoOjchvJ1/CNLqqBenhof4D/54xpheaBzVUXygHEtL9SPIol80RRtjvQetSH6tUVembezXrcP2O8wrB1NX9mw/ZtmDcoDSlNnRjSfuKQK48PHgkQxn0leGTtqrUUHeoUkLfyx1zCYLraQy00LXRGRRfFzpRnQvBgfJZGEO92JciYPMx8Iq6JSldjyJOfbU56xWpUZvFnUvqaiOcgP+WAWSY/YLjI3X2YYo1WShyb4+3j6Ktl8zmfwi273xZ2hDAqGtl5BNKdWgiEJ0PYqPNS9dD8lLOkTMPavNSlvlHzXqBgBcX94hciyTYDVVTGjw4SIAZfL4Hn9dmqQ7D5mzs3fEmG3Lh7fkdJTy3D8j3mcerAGgHhLnduy+6CIoIWvP4I5j40vYbFDVJswMHRi3bUa4TkdBZWU5gLpiw8jfUR3FgSTqf8l+BFnyS9nRAV2DT3Arlsr67z5DY7cWgKZwyQA06wj7KjgV5O0eopiyTQPXJw8c/msZvEmO6/b5Ac3T42PHzXsgyjDjxpKZadwtMZ8oPq50JSpeYUHDpIe6P7N4uStxkPlYWAVdXU0v209f2JbW1fTEh0hUR7nBF1gFkmP2C4muwu0orH2Lsce0Ukp9EAW08PPy85l1EZUdYIpG7DOoLBsd8mdoS0dtO89IqeuWV6WEiCiqo/hQ89N18MPUdwZuzNbmFR6ICu37Uy0wq0ZhbWYdeaisqbrx7diOQ7iH4JcZv5y4X87W1RRtHOE7bX/p091Dm5vrKCVkbenfYtJejQZqn148c/kh00YNFRf/FTh82sNXKVMNOortjeoorQNEf5P2R5CJX7LWBUcMvsLNsQ4S57Xps+IqwG+TI/+mXV3UQO2piY1HLCtRQ17i4jEjh38wYerxO0UHp/Vcd8vKm9wds1haMx2bA86tKD6u9E6uqhTd6et+1WSi3O70zVVJtwTsSkA9cyysgk4N+cpngh7DbDyhuaHoGVJDPj7+pzrKDb7AKpAcs7/ByMldj4Jb+Xn7KN6OfIc7DZU6lTkc9U5E4+RctCq0qbePwsu3Vb9tqKqogTDmz7ABHWVFSgkUUVRH8aHmp5XqI5/+JZavo0J6nShn3sRdcmpyW28fhbePonPHDVeNH4LVkHdoRJfxWyqY9QedjlLVfPdJq8gp+/Jq6yvvHP8swsd/5j7+UPAqZeoA33imq+uTqY4ygka6D9L+CDLVUatNddSCq4w3w9426KiEKe+MWqBdfmQPSpUc+2zkisu6RUyJLJXWTIkmhVE3FB8XO4ORUoULcdngdy8GFS6kIsrFHMAt6NSQX/e6s8ds8CtFda87YyWiAIDqKBcHETMcboHkAAS2dVTaMmbpydtH0axX4703GZmkytdqp7/PYIQTXEdfhb/PPn/7Rn2NSottSSn+9BrWUWZSSriIojqKDzU/za1HxZutR+Xs6R3RY3tqQT28zk6YFdH3g3PcMhTX9unRgf0jTjxm5JZBRwHAi/PzR0UGKtpGxcxeNalLjyW67YLM87QmeXFE70Xn2edpqqP4PpA0Le2PIFMdZbYetTzVwnpUrG4bJ0OJM2NGTb7xJGXtxJEfDBs2b881S2fm7EdAWjPtHx/3FhQf3D1E50ccAjToiHMp1VHucCkBgWRDR2Uv1oqoxgP//rPufBQko94+vt4+vv1/0EomzV20svc/OCnVZbWtVSm+iwTpqG3n0eaHB3XN7txLEdqKno/SgWbyvR6SF3cKijujzU5b5R859gajjmK1u/WYgsdzB6BZJ3UrCkpIXdWtqZevH/fFOLpVQHisdrsX15GmeM2wP846XmkYrezEcF9dEy9fRor7NRm5KVNbweR53dBMuhQBsSkEDGnNNPFL2dEB3Ek5ADCcjypYMwxNO1bNzI7ZzzmwLXM+iv2nen3ky55Lfqm+uz7y460FAHlLxnRlDtqJ/yetmeLng1sPFB/cPELnQzwCNOjIczFdj3KDTwkIJBs6qvo4imnfmlmM6uj11WmtaipZzmzqaxbQbNcDbU71cTSsXSu2mvfnumoWu+V7SKgiojqKj5rotAZqk7/y7RHD3NdX8+LozCDmvj4N1KbMb9m11+G0clBDyYXl3cLb7H0MAC8zLpx5zF+YMlmPAgCNuvJJ2sE5MQFD5j3grvgruHbmtyfGE6XrUcZ4SPhJ2h9BJjpK/XxDrPegRUmv1VCRtrFfeJu97H19Gesi241Zxribua/vj+x9fQDMVZBzY+adrFFCxurQyQcqQf18w+iuexgiif4nrZmip4NdBxQf7FxCJ0Q6AjToyPMw1VFu8CkBgWRR8OgzX/2CRge09PZRNG/bcsQ+Zq3p0OA/e/so/jTyz/nsFr7C7Sjcz9fbR9EkqPmi87Y29SmLjG63pDrKNl+dRy3L7496k7pjRt/OHf192wX3HRh/KouZnTJ5fCRapr+vjz39YrSvT1W1fUybdkE9xs1Zn8HJLW6BQn9fn9ZGqqNsO1tEqbQ8MdFRzPujTn8+tEsn33ZG74+q070/KjBw3LzvmfdHaf+9esNp6aenPx8SExvdf+ziU3wZrqtm/3dpzbR/fNxbUHxw9xCdH3EI0KAjzqV0X587XEpAIOklk7VE3UU0vjNzy3mTvm//dgdN8GPSQesYyaTKR+vC3/P2Ubzbtem66w2IKKqj7GIoAdSyy17JK8sEQGqm5MzxxA5lQgNPdA2dM6kI0KAjz7N0PcoNPiUgkKzJJ34+XEdffoj2pCHNHu2N5/N1qgluMEXcFRT8JhbTfA/R9Sg+GuZpAqhlbpQrc2QCIDXTlaTCdiyZ0ABb/OnEZIgADTrynE51lBt8SkAgWRQ81jIvTWQOR+kvQLdWzVo+30NCddS393fpbvyi90zwAaRp2wgQEJu2DeRKqZlCUCK+jkxoQLwfqYEehAANOg9ylsCpUh0lECgpqxEQSNY0j3m+Kh8tDmKuOP/DnIa38Jk3d3Bf37Zk9HPhuRrGa1RHScld0vsiIDaFuIiaKQQl4uvIhAbE+5Ea6EEI0KDzIGcJnCrVUQKBkrIaAYFkUfBYy7zzHYqfglYnuVJHnWdWrvalT3hUEX/xktBVLHrvuZQ098i+CIhNIbhTM4WgRHwdmdCAeD9SAz0IARp0HuQsgVOlOkogUFJWIyCQrEkmZ+TzoReuiByryR/LE9MEUMu9sMsEQGqme2mGyegyoQEmaNNpUASY9yzmSvJuPIolRghQHeUGZxAQSM7QS9b65HvIMXUkvBV/LE9ME0At98IuEwCpme6lGSajy4QGmKBNp0ERoDqKSA5QHeUGtxLw28ua5nFGPt9DwhWRYzX5Y3limgBquRd2mQBIzXQvzTAZXSY0wARtOg2KANVRRHKA6ig3uJWA317O0EvW+uR7yDF1JLwVfyxPTBNALffCLhMAqZnupRkmo8uEBpigTadBEaA6ikgOUB3lBrd6/m+vOuUzBy+NsCaWrOY/QwB1nJPq1Gq077JwUWR3zX2X69RqNxBCuiE9n1rSYeFQTzIBkJrpEDtIayQTGpDmNmqPJyNAg86TvWd57lRHWcbFqbkEBFJ9mYt0VP0LxPcFOnzNbnW0jb27T8j/31/nj+WJaQKo5V7YZQIgNdO9NMNkdJnQABO06TQoAnQ9ikgOUB3lBrcS8NurXvWN1RWkIiklVr1qA99Da7OL0PYLTpFS2y9seFDMH8sT0wRQy72wywRAaqZ7aYbJ6DKhASZo02lQBKiOIpIDVEe5wa1k/PaqV33DrEo5aYPfM1T/ApmIKM5VjJQ6fE3KDX77L6PvrxMgoujPaPHBTEZsNogDNbNBiORQQSY0kIMrqY2eggANOk/xlPB5Uh0lHCvJapIVSNrDS5Kho+2ogW4lPMgkYVdSg2B3f2RRy27zxTeQCYDUTPFUIaAHmdCAAE9RE4hBgAYdMa7UG0J1lB4K1yVoILkOa5mNRKkl0uEyAZCaKZInZDSXCQ3IcBa1ggwEaNCR4Ue+FVRH8dFwUZoGkouAlt8wlFoifS4TAKmZInlCRnOZ0IAMZ1EryECABh0ZfuRbQXUUHw0XpWkguQho+Q1DqSXS5zIBkJopkidkNJcJDchwFrWCDARo0JHhR74VVEfx0XBRmgaSi4CW3zCUWiJ9LhMAqZkieUJGc5nQgAxnUSvIQIAGHRl+5FtBdRQfDRelaSC5CGj5DUOpJdLnMgGQmimSJ2Q0lwkNyHAWtYIMBGjQkeFHvhVUR/HRcFGaBpKLgJbfMJRaIn0uEwCpmSJ5QkZzmdCADGdRK8hAgAYdGX7kW0F1FB8NF6VpILkIaPkNQ6kl0ucyAZCaKZInZDSXCQ3IcBa1ggwEaNCR4Ue+FVRH8dFwUZoGkouAlt8wlFoifS4TAKmZInlCRnOZ0IAMZ1EryECABh0ZfuRbQXUUHw0XpWkguQho+Q1DqSXS5zIBkJopkidkNJcJDchwFrWCDARo0JHhR74VVEfx0XBRmgaSi4CW3zCUWiJ9LhMAqZkieUJGc5nQgAxnUSvIQIAGHRl+5FtBdRQfDRelaSC5CGj5DUOpJdLnMgGQmimSJ2Q0lwkNyHAWtYIMBGjQkeFHvhX/36f/B4mmBXj9UOAmAAAAAElFTkSuQmCC)"
      ]
    }
  ]
}
