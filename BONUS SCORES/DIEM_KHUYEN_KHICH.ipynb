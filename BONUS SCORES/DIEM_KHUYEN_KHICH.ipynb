{
  "nbformat": 4,
  "nbformat_minor": 0,
  "metadata": {
    "colab": {
      "name": "DIEM_KHUYEN_KHICH.ipynb",
      "provenance": [],
      "authorship_tag": "ABX9TyMH10+IZKzlY8z2FBA6PKq4",
      "include_colab_link": true
    },
    "kernelspec": {
      "name": "python3",
      "display_name": "Python 3"
    }
  },
  "cells": [
    {
      "cell_type": "markdown",
      "metadata": {
        "id": "view-in-github",
        "colab_type": "text"
      },
      "source": [
        "<a href=\"https://colab.research.google.com/github/santheipman/CS112.L11.KHTN/blob/master/DIEM_KHUYEN_KHICH.ipynb\" target=\"_parent\"><img src=\"https://colab.research.google.com/assets/colab-badge.svg\" alt=\"Open In Colab\"/></a>"
      ]
    },
    {
      "cell_type": "markdown",
      "metadata": {
        "id": "fhfu_576NuuD"
      },
      "source": [
        "<img src=\"https://scontent.fvca1-1.fna.fbcdn.net/v/t1.0-9/399245_381779535247926_46616087_n.jpg?_nc_cat=106&ccb=2&_nc_sid=174925&_nc_ohc=6n-dUVlSSJwAX_8k-PE&_nc_ht=scontent.fvca1-1.fna&oh=add28843e1924799f99cd24578355503&oe=5FC2A81C\">\n",
        "\n"
      ]
    },
    {
      "cell_type": "markdown",
      "metadata": {
        "id": "URJeJOqsSY8p"
      },
      "source": [
        "#**TÊN NHÓM: SNT** \n",
        "\n",
        "XEM CHI TIẾT TẠI: [**GITHUB NHÓM SNT**](https://github.com/santheipman/CS112.L11.KHTN/blob/master/BONUS%20SCORES)"
      ]
    },
    {
      "cell_type": "markdown",
      "metadata": {
        "id": "RBirfHY9OGmi"
      },
      "source": [
        "|  STT | HỌ TÊN             | MSSV     | VAI TRÒ     | LIÊN HỆ |CHÚ THÍCH|\n",
        "|---|--------------------|-----------------|----------------|---------|---------|\n",
        "|**1** | **VŨ QUÍ SAN**         | **18520143** | **NHÓM TRƯỞNG** |[**GitHub**](https://github.com/santheipman) **và** [**Gmail**](mailto:18520143@gm.uit.edu.vn)          | **NHÓM N005**|\n",
        "| **2** | **PHẠM LÊ QUANG NHẬT**     | **18520120**| **THÀNH VIÊN**  | [**GitHub**](https://github.com/PhamLeQuangNhat) **và** [**Gmail**](mailto:18520120@gm.uit.edu.vn)        |**NHÓM N001**\n",
        "| **3** |**NGUYỄN VƯƠNG THỊNH** | **18520367** | **THÀNH VIÊN**  |  [**GitHub**](https://github.com/ThinhNguyen209) **và** [**Gmail**](mailto:18520367@gm.uit.edu.vn)      |**NHÓM N005**|"
      ]
    },
    {
      "cell_type": "markdown",
      "metadata": {
        "id": "_YA72fhJOuVv"
      },
      "source": [
        "## **ĐIỂM KHUYẾN KHÍCH**"
      ]
    },
    {
      "cell_type": "markdown",
      "metadata": {
        "id": "c5qAsdWwPM2i"
      },
      "source": [
        "###E1. Kỳ thi UIT ICPC WARMUP\n",
        "* Ngày tổ chức: 18-10-2020\n",
        "* Kết quả:  \n",
        "\n",
        "<img src=\"https://scontent-hkg4-2.xx.fbcdn.net/v/t1.15752-9/122990275_364769418300975_9097101770464876099_n.png?_nc_cat=104&ccb=2&_nc_sid=ae9488&_nc_ohc=SQIdALu6crYAX9AFOlo&_nc_oc=AQkHDeuMgNXfoQtxGHtiqrWRICR6kvGyEj-a8kHn9hNCv2swLC7PQwr0LkuuTHCuY1E&_nc_ht=scontent-hkg4-2.xx&oh=9a772ea917290ccfef959eb93d20e7b5&oe=5FC0F1D7\">\n",
        "\n",
        "<img src = \"https://scontent.fvca1-2.fna.fbcdn.net/v/t1.15752-9/123120310_1224375591280781_3717878080490678540_n.png?_nc_cat=100&ccb=2&_nc_sid=ae9488&_nc_ohc=DJ9KIC55Un0AX9C-E2M&_nc_ht=scontent.fvca1-2.fna&oh=5e5a947e2764e416e752bce460dea892&oe=5FC04BE6\">"
      ]
    },
    {
      "cell_type": "markdown",
      "metadata": {
        "id": "7ILmuuu2QNTY"
      },
      "source": [
        "### E2. Kỳ thi ICPC Miền Nam\n",
        "* Ngày tổ chức: 25-1-/2020\n",
        "* Kết quả:\n",
        " \n",
        "<img src = \"https://scontent-hkg4-2.xx.fbcdn.net/v/t1.15752-9/123013544_2703449063203875_3539692406222930235_n.png?_nc_cat=104&ccb=2&_nc_sid=ae9488&_nc_ohc=25o8d3CzbvgAX9roO2e&_nc_ht=scontent-hkg4-2.xx&oh=3bafe9c5f11d96b57e21258ab3d0b23a&oe=5FC23A43\">\n",
        "\n",
        "<img src = \"https://scontent.fvca1-1.fna.fbcdn.net/v/t1.15752-9/123094393_689244522026771_6331354074600736592_n.png?_nc_cat=105&ccb=2&_nc_sid=ae9488&_nc_ohc=hMJYedTQh3cAX9CPHJe&_nc_ht=scontent.fvca1-1.fna&oh=524330fd4cb9a297814915dfc9369607&oe=5FC08501\">"
      ]
    },
    {
      "cell_type": "markdown",
      "metadata": {
        "id": "-6yJ5F8EQ4Jv"
      },
      "source": [
        "###E3. Kỳ thi ICPC Miền Bắc + Miền Trung\n",
        "* Ngày tổ chức: 01-11-2020\n",
        "* Kết quả: chờ thi"
      ]
    },
    {
      "cell_type": "markdown",
      "metadata": {
        "id": "RQNN-uLcRhMu"
      },
      "source": [
        "###E4. Kỳ thi ICPC Quốc Gia\n",
        "* Ngày tổ chức: 15-11-2020\n",
        "* Kết quả: chờ thi"
      ]
    },
    {
      "cell_type": "markdown",
      "metadata": {
        "id": "IpD08Jn-RopI"
      },
      "source": [
        "###E5. Kỳ thi chọn đội tuyển UIT tham dự ICPC Asia Region\n",
        "* Ngày tổ chức: 10 -11-2020\n",
        "* Kết quả: chờ thi"
      ]
    }
  ]
}
