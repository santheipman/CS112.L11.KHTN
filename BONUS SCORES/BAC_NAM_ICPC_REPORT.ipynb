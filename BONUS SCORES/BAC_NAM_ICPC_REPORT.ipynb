{
  "nbformat": 4,
  "nbformat_minor": 0,
  "metadata": {
    "colab": {
      "name": "BAC NAM ICPC REPORT.ipynb",
      "provenance": [],
      "authorship_tag": "ABX9TyN3V7wyTi7Sh/vg0sBDxabm",
      "include_colab_link": true
    },
    "kernelspec": {
      "name": "python3",
      "display_name": "Python 3"
    }
  },
  "cells": [
    {
      "cell_type": "markdown",
      "metadata": {
        "id": "view-in-github",
        "colab_type": "text"
      },
      "source": [
        "<a href=\"https://colab.research.google.com/github/santheipman/CS112.L11.KHTN/blob/master/BONUS%20SCORES/BAC_NAM_ICPC_REPORT.ipynb\" target=\"_parent\"><img src=\"https://colab.research.google.com/assets/colab-badge.svg\" alt=\"Open In Colab\"/></a>"
      ]
    },
    {
      "cell_type": "markdown",
      "metadata": {
        "id": "y21OWj6eF9g0"
      },
      "source": [
        "<img src=\"https://scontent.fvca1-1.fna.fbcdn.net/v/t1.0-9/399245_381779535247926_46616087_n.jpg?_nc_cat=106&ccb=2&_nc_sid=174925&_nc_ohc=6n-dUVlSSJwAX_8k-PE&_nc_ht=scontent.fvca1-1.fna&oh=add28843e1924799f99cd24578355503&oe=5FC2A81C\">\n",
        "\n"
      ]
    },
    {
      "cell_type": "markdown",
      "metadata": {
        "id": "kjBh9_TiGFjE"
      },
      "source": [
        "# **ICPC REPORT**"
      ]
    },
    {
      "cell_type": "markdown",
      "metadata": {
        "id": "xQtQBfIAGM7X"
      },
      "source": [
        "#**TÊN NHÓM: UIT.SNT** \n",
        "\n",
        "XEM CHI TIẾT TẠI: [**GITHUB NHÓM UIT.SNT**](https://github.com/santheipman/CS112.L11.KHTN/blob/master/BONUS%20SCORES)\n",
        "\n"
      ]
    },
    {
      "cell_type": "markdown",
      "metadata": {
        "id": "nXo8jqbgGe9b"
      },
      "source": [
        "|  STT | HỌ TÊN             | MSSV     | VAI TRÒ     | LIÊN HỆ |CHÚ THÍCH|\n",
        "|---|--------------------|-----------------|----------------|---------|---------|\n",
        "|**1** | **VŨ QUÍ SAN**         | **18520143** | **NHÓM TRƯỞNG** |[**GitHub**](https://github.com/santheipman) **và** [**Gmail**](mailto:18520143@gm.uit.edu.vn)          | **NHÓM N005**|\n",
        "| **2** | **PHẠM LÊ QUANG NHẬT**     | **18520120**| **THÀNH VIÊN**  | [**GitHub**](https://github.com/PhamLeQuangNhat) **và** [**Gmail**](mailto:18520120@gm.uit.edu.vn)        |**NHÓM N001**\n",
        "| **3** |**NGUYỄN VƯƠNG THỊNH** | **18520367** | **THÀNH VIÊN**  |  [**GitHub**](https://github.com/ThinhNguyen209) **và** [**Gmail**](mailto:18520367@gm.uit.edu.vn)      |**NHÓM N005**|"
      ]
    },
    {
      "cell_type": "markdown",
      "metadata": {
        "id": "Ok2m9a3AGfz3"
      },
      "source": [
        "## **1.PHÂN CÔNG CÔNG VIỆC**\n",
        "* Thịnh: dịch đề, phân tích input, output của bài toán\n",
        "* Nhật: nghĩ giải thuật\n",
        "* San: lập trình\n",
        "\n",
        "> ***Ghi chú***: nhiệm vụ chính của từng người, nhưng trong quá trình làm việc vẫn hỗ trợ lần nhau như: debug khi gặp lỗi, cải tiến giải thuật và cùng nhau tìm hiểu đề nếu cả nhóm chưa hiểu.\n"
      ]
    },
    {
      "cell_type": "markdown",
      "metadata": {
        "id": "WpOaQ6ZqG1Q3"
      },
      "source": [
        "## **2.QUÁ TRÌNH LÀM BÀI**\n"
      ]
    },
    {
      "cell_type": "markdown",
      "metadata": {
        "id": "-TdCntLLLQTV"
      },
      "source": [
        "### **Tổng quan:**\n",
        "* Bước 1: Chọn bài làm - Xem bài nào được giải và accept nhiều nhất trên scoreboard\n",
        "* Bước 2: Dịch - phân tích đề\n",
        "* Bước 3: Thiết kế giải thuật\n",
        "* Bước 4: Lập trình\n",
        "* Bước 5: Debug khi gặp lỗi hoặc cải tiến code nếu bài toán chưa accept\n",
        "* Bước 6: khi bài được accept thì quay lại bước 1 "
      ]
    },
    {
      "cell_type": "markdown",
      "metadata": {
        "id": "uaK3O883LdBE"
      },
      "source": [
        "### **Chi tiết**\n",
        "- Các bài làm được: A, B, C, D, F:\n",
        "  + Bài A: khá dễ nên team em nhanh chóng tìm được hướng giải và AC trong lần thử đầu tiên \n",
        "\n",
        "  +  Bài B: khi đọc đề xong team em nghĩ ngay tới giải bất đẳng thức Cosi 3 số nên không mất thời gian để AC cho bài này \n",
        "\n",
        "  + Bài C: team em sử dụng định lí fermat nhỏ  về việc kiểm tra số nguyên tố, tuy nhiên do nhầm lẫn về việc chia 10 dư 0 là chia 9 dư 1 nên tụi em phải đến lần thứ 2 mới submit thành công \n",
        "\n",
        "  + Bài D: nhìn thấy dễ, nhưng lại làm mất thời gian nhất, tụi em không nghĩ tới vần đế tràn số khi code bằng C++, sau khi submit 2 lần bằng C++ không thành công, team em quyết định dùng Python để xử lí và AC thành công \n",
        "\n",
        "  +  Bài F: sau khi đọc đề team em nghĩ ngay tìm qui luật dãy số , và không khó khăn khi tìm được công thức truy hồi và AC trong lần thử đầu tiên\n",
        "\n",
        "- Các bài chưa làm được : E, G, H, I, J, K, L\n",
        "\n",
        "  Team em đã đọc đề và không tìm được hướng giải quyết khả thi ,nên quyết định dồn sức giải quyết bài M nhưng không tìm được cách giải\n",
        "\n"
      ]
    },
    {
      "cell_type": "markdown",
      "metadata": {
        "id": "neooloYsHB5_"
      },
      "source": [
        "##**3. NHẬN XÉT**\n",
        "\n",
        "* Ưu điểm:\n",
        "  * Lần thi ICPC miền Bắc-Trung, team em đã phối hợp với nhau tốt hơn lần thi ICPC miền Nam.\n",
        "  * Biết cách đánh giá thuật toán nào chạy tốt hơn.\n",
        "* Nhược điểm:\n",
        "  * Team em vẫn còn yếu nhiều kiến thức về cấu trúc dữ liệu nên không thể giải được các bài khó còn lại, cần có thời gian trau dồi thêm."
      ]
    }
  ]
}