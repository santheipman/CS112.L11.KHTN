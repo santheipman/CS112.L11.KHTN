{
  "nbformat": 4,
  "nbformat_minor": 0,
  "metadata": {
    "colab": {
      "name": "PhanSo.ipynb",
      "provenance": [],
      "collapsed_sections": [],
      "include_colab_link": true
    },
    "kernelspec": {
      "display_name": "Python 3",
      "language": "python",
      "name": "python3"
    },
    "language_info": {
      "codemirror_mode": {
        "name": "ipython",
        "version": 3
      },
      "file_extension": ".py",
      "mimetype": "text/x-python",
      "name": "python",
      "nbconvert_exporter": "python",
      "pygments_lexer": "ipython3",
      "version": "3.7.7"
    }
  },
  "cells": [
    {
      "cell_type": "markdown",
      "metadata": {
        "id": "view-in-github",
        "colab_type": "text"
      },
      "source": [
        "<a href=\"https://colab.research.google.com/github/santheipman/CS112.L11.KHTN/blob/master/EXCERSCIE/WEEK_09/PhanSo.ipynb\" target=\"_parent\"><img src=\"https://colab.research.google.com/assets/colab-badge.svg\" alt=\"Open In Colab\"/></a>"
      ]
    },
    {
      "cell_type": "markdown",
      "metadata": {
        "id": "Uq5n_LmrwDSx"
      },
      "source": [
        "<img src=\"https://www.uit.edu.vn/sites/vi/files/banner.png\" alt=\"UIT logo\" class=\"left\">\n",
        "<h1 align= \"center\">   <strong>     CS112.PHÂN TÍCH VÀ THIẾT KẾ THUẬT TOÁN</strong> </h1>\n",
        "\n",
        "\n"
      ]
    },
    {
      "cell_type": "markdown",
      "metadata": {
        "id": "U_Pca_MGyrHm"
      },
      "source": [
        " ## **CS112.L11.KHTN** **NHÓM 5**\n",
        " \n",
        "|  STT | HỌ TÊN             | MSSV     | VAI TRÒ     | LIÊN HỆ |\n",
        "|---|--------------------|-----------------|----------------|---------|\n",
        "|**1** | **VŨ QUÍ SAN**         | **18520143** | **NHÓM TRƯỞNG** |[**GitHub**](https://github.com/santheipman) **và** [**Gmail**](mailto:18520143@gm.uit.edu.vn)          |\n",
        "| **2** | **PHẠM MẠNH TIẾN**     | **18520166**| **THÀNH VIÊN**  | [**GitHub**](https://github.com/tienpm) **và** [**Gmail**](mailto:18520166@gm.uit.edu.vn)        |\n",
        "| **3** |**NGUYỄN VƯƠNG THỊNH** | **18520367** | **THÀNH VIÊN**  |  [**GitHub**](https://github.com/ThinhNguyen209) **và** [**Gmail**](mailto:18520367@gm.uit.edu.vn)      |"
      ]
    },
    {
      "cell_type": "markdown",
      "metadata": {
        "id": "pGqnl3eMlXiy"
      },
      "source": [
        "## **Đề bài**\n",
        "\n",
        "### **PHÂN SỐ**\n",
        "\n",
        "<div class=\"problem_description\" id=\"problem_description\">\n",
        "\t\t\t<p><strong><span style=\"color:#0070c0\">PHÂN SỐ</span></strong></p>\n",
        "\n",
        "<p style=\"text-align:justify\">Cho 2 phân số đúng và tối giản <em> </em><img src=\"data:image/png;base64,iVBORw0KGgoAAAANSUhEUgAAAAsAAAAbCAIAAAAlGOLqAAAAAXNSR0IArs4c6QAAAAlwSFlzAAAOxAAADsQBlSsOGwAAANlJREFUOE/NkrERwjAMRWVmIRQ5JrAnoGMKewI6SgZISuho0yeegEyQSxFrFyP5AsQh5FJwHGrss+QvW/8J7z3Mxmo+TdmlFZgbJTiUUDnGsqSBuUqK9Oi8dxnAdrMeNaZjKTNKU1QadBV2g1iBa+twCa05XfQ+QWvjPnxTUoHUFamFNdYQP5zH3GDFZHL4uH956TL3rWHfx64/P/nZ1N6e0AW7RqcQIFLGjibEFVgWddPC4cYINd0EY2UB2fW8I7YerEQyL7Icg/LOGDBAkhFieHoaI4S+4csdMVO+bHlWAG8AAAAASUVORK5CYII=\" style=\"height:20.25pt; width:8.25pt\"> , <img src=\"data:image/png;base64,iVBORw0KGgoAAAANSUhEUgAAAAgAAAAbCAIAAADOL1npAAAAAXNSR0IArs4c6QAAAAlwSFlzAAAOxAAADsQBlSsOGwAAALxJREFUKFNj/P//PwM2wIRVFChIWOLOxHRrRjBI3w4yBaLjzkRr1VVaNbf//789IU1LFSwGtBzIs7KaABRFBmAdt68dg7jhzvZ0iEFQHSAtILZVGkIfIw38gSsEMMTpYTnhYIcGMjzYwaGLAMBAS9sG5kIkgLEACUUrBlj4AyVAQWs1YRs4lhDxwsRwZ+sqhgkL8z1VQPHCoKMGpCFRC4slYCS1zNIJUL2zffsdSERtA5sPtBQcXTDLSQ8rAB4NlwIFdFhGAAAAAElFTkSuQmCC\" style=\"height:20.25pt; width:6pt\"> &nbsp;. Mỗi phép biến đổi là tăng <strong><em>a</em></strong> và <strong><em>b</em></strong> lên 1, sau đó giản ước phân số nhận được.</p>\n",
        "\n",
        "\n",
        "<p style=\"text-align:justify\">Hãy xác định sau bao nhiêu bước biến đổi từ phân số thứ nhất ban đầu nhận được phân số thứ 2 đã cho.</p>\n",
        "\n",
        "<p style=\"text-align:justify\"><strong><em><span style=\"color:black\">Dữ liệu:</span></em></strong> Vào từ thiết bị nhập chuẩn gồm 4 dòng, mỗi dòng chứa 1 số nguyên <strong><em>a</em></strong>, <strong><em>b</em></strong>, <strong><em>c</em></strong>, <strong><em>d</em></strong>, 0 &lt; <strong><em>a</em></strong> &lt; <strong><em>b</em></strong> ≤10<sup>5</sup>, 0 &lt; <strong><em>c</em></strong> &lt; <strong><em>d</em></strong> ≤ 10<sup>5</sup>, <strong><em>a</em></strong> và <strong><em>b</em></strong> nguyên tố cùng nhau, <strong><em>c</em></strong> và <strong><em>d</em></strong> nguyên tố cùng nhau <img src=\"data:image/png;base64,iVBORw0KGgoAAAANSUhEUgAAAAsAAAAbCAIAAAAlGOLqAAAAAXNSR0IArs4c6QAAAAlwSFlzAAAOxAAADsQBlSsOGwAAANlJREFUOE/NkrERwjAMRWVmIRQ5JrAnoGMKewI6SgZISuho0yeegEyQSxFrFyP5AsQh5FJwHGrss+QvW/8J7z3Mxmo+TdmlFZgbJTiUUDnGsqSBuUqK9Oi8dxnAdrMeNaZjKTNKU1QadBV2g1iBa+twCa05XfQ+QWvjPnxTUoHUFamFNdYQP5zH3GDFZHL4uH956TL3rWHfx64/P/nZ1N6e0AW7RqcQIFLGjibEFVgWddPC4cYINd0EY2UB2fW8I7YerEQyL7Icg/LOGDBAkhFieHoaI4S+4csdMVO+bHlWAG8AAAAASUVORK5CYII=\" style=\"height:20.25pt; width:8.25pt\"> &nbsp;≠ <img src=\"data:image/png;base64,iVBORw0KGgoAAAANSUhEUgAAAA4AAAAbCAIAAADDMSmuAAAAAXNSR0IArs4c6QAAAAlwSFlzAAAOxAAADsQBlSsOGwAAANdJREFUOE/Nk7ERwjAMRe3MgilymcCegKOhSkvnlDAAJQM4LR1teuINGCGNvYuQ7QvHHVEIbkCt/n35S88cANiyKpbJgipH6ttG8ViNnZ6UXH2rRFeeHIAzuhTEozAW9qU0qJuv6OqGezLytqHGYzc6oW1QSj3nzf9mr5+vxinJe4ZfxsLDc/4FWblvjXNICBMDz0IYdE8ANvKauFb7IyNxRekL1zWT9XZFXKVg/tYxcz1sUOEGVq0pJX7DkWvE+nypdsJb66d9AXoduMY4EXA6Vu5e50F8APe90pq6Jj+MAAAAAElFTkSuQmCC\" style=\"height:20.25pt; width:10.5pt\"></p>\n",
        "\n",
        "<p style=\"text-align:justify\"><strong><em><span style=\"color:black\">Kết quả:</span></em></strong> Đưa ra thiết bị xuất chuẩn số 0 nếu không có cách biến đổi hoặc một số nguyên – số lượng phép biến đổi.</p>\n",
        "\n",
        "<p style=\"text-align:justify\"><strong><em><span style=\"color:black\">Ví dụ:</span></em></strong></p>\n",
        "\n",
        "<table border=\"1\" cellspacing=\"0\">\n",
        "\t<tbody>\n",
        "\t\t<tr>\n",
        "\t\t\t<td style=\"background-color:#ffffcc; width:99.0pt\">\n",
        "\t\t\t<p style=\"text-align:center\"><tt><span style=\"color:black\">INPUT</span></tt></p>\n",
        "\t\t\t</td>\n",
        "\t\t\t<td style=\"vertical-align:top; width:49.5pt\">\n",
        "\t\t\t<p style=\"text-align:center\">&nbsp;</p>\n",
        "\t\t\t</td>\n",
        "\t\t\t<td style=\"background-color:#ffffcc; width:99.2pt\">\n",
        "\t\t\t<p style=\"text-align:center\"><tt><span style=\"color:black\">OUTPUT</span></tt></p>\n",
        "\t\t\t</td>\n",
        "\t\t</tr>\n",
        "\t\t<tr>\n",
        "\t\t\t<td style=\"background-color:#ffffcc; width:99.0pt\">\n",
        "\t\t\t<p style=\"text-align:justify\"><tt><strong><span style=\"color:black\">1 6 2 3</span></strong></tt></p>\n",
        "\t\t\t</td>\n",
        "\t\t\t<td style=\"vertical-align:top; width:49.5pt\">\n",
        "\t\t\t<p style=\"text-align:justify\">&nbsp;</p>\n",
        "\t\t\t</td>\n",
        "\t\t\t<td style=\"background-color:#ffffcc; width:99.2pt\">\n",
        "\t\t\t<p style=\"text-align:justify\"><tt><strong><span style=\"color:black\">5</span></strong></tt></p>\n",
        "\t\t\t</td>\n",
        "\t\t</tr>\n",
        "\t</tbody>\n",
        "</table>"
      ]
    },
    {
      "cell_type": "markdown",
      "metadata": {
        "id": "RM6YkI9nAXvO"
      },
      "source": [
        "## **1. Tóm tắt bài toán**"
      ]
    },
    {
      "cell_type": "markdown",
      "metadata": {
        "id": "DZ_ZHpmNlXi2"
      },
      "source": [
        "Cho 2 phân số $\\frac{a}{b}$ và $\\frac{c}{d}$ tối giản. Tìm số bước biến đổi từ $\\frac{a}{b}$ thành $\\frac{c}{d}$ với mỗi lần biến đổi là tăng a và b lên 1 và tối giản phân số nhận được."
      ]
    },
    {
      "cell_type": "markdown",
      "metadata": {
        "id": "KMl_1yZt-t46"
      },
      "source": [
        "## **2. Nhận dạng mẫu (Pattern-Recognition)**"
      ]
    },
    {
      "cell_type": "markdown",
      "metadata": {
        "id": "MvKc6MnglXi5"
      },
      "source": [
        " Đây là bài toán tối giản phân số."
      ]
    },
    {
      "cell_type": "markdown",
      "metadata": {
        "id": "DHEyVW9BlXi9"
      },
      "source": [
        "## **3. Thuật toán**\n",
        "\n",
        "### **3.1. Ý tưởng**\n",
        "\n",
        "- Viết hàm tìm ước chung của tử số a và mẫu số b. Sau đó tiến hành rút gọn\n",
        "- Tạo biến đếm count, thực hiện vòng lặp kiểm tra điều kiện tử số a khác tử số c hoặc mẫu số b khác mẫu số d và chia lấy nguyên của hai phân số bằng nhau\n",
        "- Nếu thỏa điều kiện thì thực hiện phép biến đổi cho tới khi dừng vòng lặp và xuất kết quả count\n",
        "\n",
        "### **3.2. Mã giả thuật toán**\n",
        "\n",
        "```pseudocode\n",
        "Initialize count = 0\n",
        "while (a!=c or b!=d) and a/b <= c/d:\n",
        "  ++a\n",
        "  ++b\n",
        "  Omiting_fraction(a,b)\n",
        "\n",
        "if a/b > c/d:\n",
        "  print 0\n",
        "else:\n",
        "  print count\n",
        "```"
      ]
    },
    {
      "cell_type": "markdown",
      "metadata": {
        "id": "2QLVpwgwLB6z"
      },
      "source": [
        "## **4. Cài đặt**"
      ]
    },
    {
      "cell_type": "code",
      "metadata": {
        "id": "QXuzuI9clXjA",
        "outputId": "b0e4d538-aef2-4095-bac5-6ee68bfbdc95",
        "colab": {
          "base_uri": "https://localhost:8080/"
        }
      },
      "source": [
        "def gcd(x, y):\n",
        "\n",
        "    while y:\n",
        "        x, y = y, x % y\n",
        "\n",
        "    return x\n",
        "\n",
        "a = int(input())\n",
        "b = int(input()) \n",
        "c = int(input())\n",
        "d = int(input())\n",
        "\n",
        "cd_ratio = c/d\n",
        "\n",
        "count = 0\n",
        "while (a != c or b != d) and (a/b <= cd_ratio):\n",
        "    count += 1\n",
        "    a += 1\n",
        "    b += 1\n",
        "    g = gcd(a,b)\n",
        "    a //= g\n",
        "    b //= g\n",
        "\n",
        "if (a/b > cd_ratio):\n",
        "    print(0)\n",
        "else:\n",
        "    print(count)"
      ],
      "execution_count": 4,
      "outputs": [
        {
          "output_type": "stream",
          "text": [
            "1\n",
            "6\n",
            "2\n",
            "3\n",
            "5\n"
          ],
          "name": "stdout"
        }
      ]
    },
    {
      "cell_type": "markdown",
      "metadata": {
        "id": "MDpEYQJOLB7F"
      },
      "source": [
        "## **5. Kết quả trên Wecode**"
      ]
    },
    {
      "cell_type": "markdown",
      "metadata": {
        "id": "q8ElylpcLB7I"
      },
      "source": [
        "![image.png](data:image/png;base64,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)"
      ]
    }
  ]
}