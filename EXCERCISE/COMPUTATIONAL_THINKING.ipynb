{
  "nbformat": 4,
  "nbformat_minor": 0,
  "metadata": {
    "colab": {
      "name": "COMPUTATIONAL THINKING",
      "provenance": [],
      "toc_visible": true,
      "authorship_tag": "ABX9TyNcur07WB4XlvTmCYnWgf1n",
      "include_colab_link": true
    },
    "kernelspec": {
      "name": "python3",
      "display_name": "Python 3"
    }
  },
  "cells": [
    {
      "cell_type": "markdown",
      "metadata": {
        "id": "view-in-github",
        "colab_type": "text"
      },
      "source": [
        "<a href=\"https://colab.research.google.com/github/santheipman/CS112.L11.KHTN/blob/master/EXERCISE/COMPUTATIONAL_THINKING.ipynb\" target=\"_parent\"><img src=\"https://colab.research.google.com/assets/colab-badge.svg\" alt=\"Open In Colab\"/></a>"
      ]
    },
    {
      "cell_type": "markdown",
      "metadata": {
        "id": "9SmJwf7q_Fat",
        "colab_type": "text"
      },
      "source": [
        "# COMPUTATIONAL THINKING"
      ]
    },
    {
      "cell_type": "markdown",
      "metadata": {
        "id": "PUeQnCTUAlv8",
        "colab_type": "text"
      },
      "source": [
        "## I. KHÁI NIỆM\n",
        "\n",
        "Là kỹ năng giải quyết vấn đề. Đưa ra các giải pháp mà cả người và máy tính đều hiểu.\n",
        "\n",
        "\n"
      ]
    },
    {
      "cell_type": "markdown",
      "metadata": {
        "id": "PaT3yvsxCHIH",
        "colab_type": "text"
      },
      "source": [
        "## II. ĐẶC TRƯNG"
      ]
    },
    {
      "cell_type": "markdown",
      "metadata": {
        "id": "ShS5NYUeCKNe",
        "colab_type": "text"
      },
      "source": [
        "Có 4 đặc trưng trong Computational Thinking\n",
        "\n",
        "1. **Decomposition**\n",
        "> Phân rã vấn đề thành nhiều bài toán nhỏ có thể giải quyết được.\n",
        "2. **Pattern Recognition**\n",
        "> Xem xét các bài toán nhỏ mình đã từng giải quyết trong quá khứ chưa?\n",
        "3. **Abstraction**\n",
        "> Đơn giản hóa vấn đề bằng cách loại bỏ các chi tiết. Giữ lại phần cốt lõi của vấn đề.\n",
        "4. **Algorithmic Thinking**\n",
        "> Nghĩ ra cách giải quyết vấn đề theo từng bước cụ thể.\n",
        "\n"
      ]
    },
    {
      "cell_type": "markdown",
      "metadata": {
        "id": "BPzRXDKfFLzF",
        "colab_type": "text"
      },
      "source": [
        "## III. ỨNG DỤNG\n",
        "\n",
        "* Đưa ra cách giải quyết vấn đề rõ ràng, hợp lí, logic.\n",
        "* Đề xuất những hướng giải, chỉ dẫn có thể tối ưu nhất cho máy tính thực hiên."
      ]
    },
    {
      "cell_type": "markdown",
      "metadata": {
        "id": "7yVJbdycGTLO",
        "colab_type": "text"
      },
      "source": [
        "## IV. VÍ DỤ\n",
        "\n",
        "BÀI TOÁN: "
      ]
    }
  ]
}
