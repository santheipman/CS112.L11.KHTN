{
  "nbformat": 4,
  "nbformat_minor": 0,
  "metadata": {
    "colab": {
      "name": "MucDoGiongNhau.ipynb",
      "provenance": [],
      "collapsed_sections": [],
      "include_colab_link": true
    },
    "kernelspec": {
      "display_name": "Python 3",
      "language": "python",
      "name": "python3"
    },
    "language_info": {
      "codemirror_mode": {
        "name": "ipython",
        "version": 3
      },
      "file_extension": ".py",
      "mimetype": "text/x-python",
      "name": "python",
      "nbconvert_exporter": "python",
      "pygments_lexer": "ipython3",
      "version": "3.7.7"
    }
  },
  "cells": [
    {
      "cell_type": "markdown",
      "metadata": {
        "id": "view-in-github",
        "colab_type": "text"
      },
      "source": [
        "<a href=\"https://colab.research.google.com/github/santheipman/CS112.L11.KHTN/blob/master/EXCERCISE/WEEK_06/MucDoGiongNhau.ipynb\" target=\"_parent\"><img src=\"https://colab.research.google.com/assets/colab-badge.svg\" alt=\"Open In Colab\"/></a>"
      ]
    },
    {
      "cell_type": "markdown",
      "metadata": {
        "id": "Uq5n_LmrwDSx"
      },
      "source": [
        "<img src=\"https://www.uit.edu.vn/sites/vi/files/banner.png\" alt=\"UIT logo\" class=\"left\">\n",
        "<h1 align= \"center\">   <strong>     CS112.PHÂN TÍCH VÀ THIẾT KẾ THUẬT TOÁN</strong> </h1>\n",
        "\n",
        "\n"
      ]
    },
    {
      "cell_type": "markdown",
      "metadata": {
        "id": "U_Pca_MGyrHm"
      },
      "source": [
        "# **CS112.L11.KHTN**\n",
        "## **NHÓM 5**\n",
        "\n",
        "|  STT | HỌ TÊN             | MSSV     | VAI TRÒ     | LIÊN HỆ |\n",
        "|---|--------------------|-----------------|----------------|---------|\n",
        "|**1** | **VŨ QUÍ SAN**         | **18520143** | **NHÓM TRƯỞNG** |[**GitHub**](https://github.com/santheipman) **và** **Gmail**: 18520143@gm.uit.edu.vn          |\n",
        "| **2** | **PHẠM MẠNH TIẾN**     | **18520166**| **THÀNH VIÊN**  | [**GitHub**](https://github.com/tienpm) **và** **Gmail**: 18520166@gm.uit.edu.vn        |\n",
        "| **3** |**NGUYỄN VƯƠNG THỊNH** | **18520367** | **THÀNH VIÊN**  |  [**GitHub**](https://github.com/ThinhNguyen209) **và** **Gmail**: 18520367@gm.uit.edu.vn      |"
      ]
    },
    {
      "cell_type": "markdown",
      "metadata": {
        "id": "X88J4m9T6oPb"
      },
      "source": [
        "## **Đề bài**\n",
        "\n",
        "### **MỨC ĐỘ GIỐNG NHAU (0.2s, 50MB)**\n",
        "\n",
        "<p><span style=\"color:black\">Một quần thể sinh vật ngoài hành tinh có gene tạo thành từ 26 cơ sở ký hiệu từ </span><strong><em><span style=\"color:black\">A</span></em></strong><span style=\"color:black\"> tới </span><strong><em><span style=\"color:black\">Z</span></em></strong><span style=\"color:black\">. Mỗi gene là một xâu ký tự các chữ cái la tinh hoa. Hai cá thể khác nhau có gene khác nhau. Mức độ giống nhau của 2 gene sẽ xác định độ huyết thống của chúng.</span></p>\n",
        "\n",
        "<p><span style=\"color:black\">Độ giống nhau của gene thứ nhất đối với gene thứ 2 là số lượng cặp 2 cơ sở liên tiếp nhau trong gene thứ nhất đồng thời là cặp 2 cơ sở liên tiếp nhau trong gene thứ hai.</span></p>\n",
        "\n",
        "<p><img src=\"data:image/png;base64,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\"></p>\n",
        "\n",
        "<p>&nbsp;</p>\n",
        "\n",
        "<p><span style=\"color:black\">Ví dụ, gene thứ nhất là </span><strong><em><span style=\"color:black\">ABBACAB</span></em></strong><span style=\"color:black\">, gene thứ 2 là </span><strong><em><span style=\"color:black\">BCABB</span></em></strong><span style=\"color:black\"> thì mức độ giống nhau là 4.</span></p>\n",
        "\n",
        "<p>&nbsp;</p>\n",
        "\n",
        "<p><span style=\"color:black\">Cho hai gene. Hãy xác định mức độ giống nhau của gene thứ nhất với gene thứ 2.</span></p>\n",
        "\n",
        "<p><strong><em>Dữ liệu:</em></strong><span style=\"color:black\"> Vào từ thiết bị nhập chuẩn</span><span style=\"color:black\"> bao gồm 2 dòng chứa 2 xâu khác rỗng xác định gene thứ nhất và gene thứ 2, mỗi xâu chỉ chứa các ký tự chữ cái in hoa và có độ dài không quá 10<sup>5</sup>.</span></p>\n",
        "\n",
        "<p><strong><em>Kết quả:</em></strong><span style=\"color:black\"> Đưa ra thiết bị xuất chuẩn </span><span style=\"color:black\">một số nguyên – mức độ giống nhau của 2 genes.</span></p>\n",
        "\n",
        "<p style=\"text-align:justify\"><strong><em>Ví dụ: </em></strong></p>\n",
        "\n",
        "<p>&nbsp;</p>\n",
        "\n",
        "\n",
        "|  Input | Output             |\n",
        "|---|--------------------|\n",
        "|ABBACAB<br>BCABB | 4         |\n",
        "\n",
        "\t\t"
      ]
    },
    {
      "cell_type": "markdown",
      "metadata": {
        "id": "RM6YkI9nAXvO"
      },
      "source": [
        "## **1. Tóm tắt bài toán**"
      ]
    },
    {
      "cell_type": "markdown",
      "metadata": {
        "id": "FthqRNCo6oPg"
      },
      "source": [
        "Cho hai xâu $a$ và $b$, tìm số lượng xâu con độ dài bằng 2 của xâu $a$ mà đồng thời cũng là một xâu con của xâu $b$."
      ]
    },
    {
      "cell_type": "markdown",
      "metadata": {
        "id": "KMl_1yZt-t46"
      },
      "source": [
        "## **2. Nhận dạng mẫu (Pattern-Recognition)**"
      ]
    },
    {
      "cell_type": "markdown",
      "metadata": {
        "id": "253umVW96oPk"
      },
      "source": [
        "Việc ta cần làm là **đếm có bao nhiêu phần tử thuộc tập $a$ mà đồng thời thuộc tập $b$.**"
      ]
    },
    {
      "cell_type": "markdown",
      "metadata": {
        "id": "JVhjg4hf6oPp"
      },
      "source": [
        "## **3. Thuật toán**\n",
        "\n",
        "### **3.1. Ý tưởng**\n",
        "\n",
        "- Ở đây ta thấy rằng độ dài xâu con được cố định bằng 2, nên ta chỉ cần duyệt từ đầu đến cuối xâu, mỗi lần xét hai kí tự liên tiếp là có thể duyệt qua được tất cả các xâu con cần kiểm tra của dãy đó rồi.\n",
        "- Tại mỗi lần duyệt, để kiểm tra xâu con `s_i` có phải là xâu con của `b` hay không bằng cách kiểm tra `s_i in b` (ta chuyển `b` thành kiểu `set` để chương trình thực hiện thao tác này với thời gian trung bình $O(1)$), nếu có thì tăng biến đếm lên 1.\n",
        "\n",
        "Độ phức tạp thuật toán là $\\mathbf{O(n)}$.\n",
        "\n",
        "### **3.2. Mã giả thuật toán**\n",
        "\n",
        "```pseudocode\n",
        "count = 0\n",
        "\n",
        "for i = 1 -> length(a-1):\n",
        "    if (a[i] + a[i+1]) is a substring of b:\n",
        "        count = count + 1\n",
        "```"
      ]
    },
    {
      "cell_type": "markdown",
      "metadata": {
        "id": "2QLVpwgwLB6z"
      },
      "source": [
        "## **4. Cài đặt**"
      ]
    },
    {
      "cell_type": "code",
      "metadata": {
        "id": "xjHjCgvP6oPs",
        "outputId": "e333d352-60fc-4220-9210-55a9534a321a"
      },
      "source": [
        "s1 = input()\n",
        "s2 = input()\n",
        "\n",
        "# tạo set_s2 có kiểu dữ liệu set lưu tất cả các xâu con của b\n",
        "set_s2 = set()\n",
        "for i in range(len(s2) - 1):\n",
        "    set_s2.add(s2[i:i+2])\n",
        "    \n",
        "\n",
        "count = 0\n",
        "# duyệt các xâu con của a\n",
        "for i in range(len(s1) - 1):\n",
        "    # nếu xâu con này cũng thuộc b thì tăng biến đếm lên 1\n",
        "    if (s1[i:i+2]) in set_s2:\n",
        "        count += 1\n",
        "\n",
        "print(count)"
      ],
      "execution_count": null,
      "outputs": [
        {
          "output_type": "stream",
          "text": [
            "ABBACAB\n",
            "BCABB\n",
            "4\n"
          ],
          "name": "stdout"
        }
      ]
    },
    {
      "cell_type": "markdown",
      "metadata": {
        "id": "MDpEYQJOLB7F"
      },
      "source": [
        "## **5. Kết quả trên Wecode**"
      ]
    },
    {
      "cell_type": "markdown",
      "metadata": {
        "id": "q8ElylpcLB7I"
      },
      "source": [
        "![wecode_res.jpg](data:image/png;base64,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)"
      ]
    }
  ]
}