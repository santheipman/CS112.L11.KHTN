{
  "nbformat": 4,
  "nbformat_minor": 0,
  "metadata": {
    "colab": {
      "name": "DiaLan.ipynb",
      "provenance": [],
      "collapsed_sections": [],
      "include_colab_link": true
    },
    "kernelspec": {
      "display_name": "Python 3",
      "language": "python",
      "name": "python3"
    },
    "language_info": {
      "codemirror_mode": {
        "name": "ipython",
        "version": 3
      },
      "file_extension": ".py",
      "mimetype": "text/x-python",
      "name": "python",
      "nbconvert_exporter": "python",
      "pygments_lexer": "ipython3",
      "version": "3.7.7"
    }
  },
  "cells": [
    {
      "cell_type": "markdown",
      "metadata": {
        "id": "view-in-github",
        "colab_type": "text"
      },
      "source": [
        "<a href=\"https://colab.research.google.com/github/santheipman/CS112.L11.KHTN/blob/master/EXCERCISE/WEEK_06/DiaLan.ipynb\" target=\"_parent\"><img src=\"https://colab.research.google.com/assets/colab-badge.svg\" alt=\"Open In Colab\"/></a>"
      ]
    },
    {
      "cell_type": "markdown",
      "metadata": {
        "id": "Uq5n_LmrwDSx"
      },
      "source": [
        "<img src=\"https://www.uit.edu.vn/sites/vi/files/banner.png\" alt=\"UIT logo\" class=\"left\">\n",
        "<h1 align= \"center\">   <strong>     CS112.PHÂN TÍCH VÀ THIẾT KẾ THUẬT TOÁN</strong> </h1>\n",
        "\n",
        "\n"
      ]
    },
    {
      "cell_type": "markdown",
      "metadata": {
        "id": "U_Pca_MGyrHm"
      },
      "source": [
        "# **CS112.L11.KHTN**\n",
        "## **NHÓM 5**\n",
        "\n",
        "|  STT | HỌ TÊN             | MSSV     | VAI TRÒ     | LIÊN HỆ |\n",
        "|---|--------------------|-----------------|----------------|---------|\n",
        "|**1** | **VŨ QUÍ SAN**         | **18520143** | **NHÓM TRƯỞNG** |[**GitHub**](https://github.com/santheipman) **và** **Gmail**: 18520143@gm.uit.edu.vn          |\n",
        "| **2** | **PHẠM MẠNH TIẾN**     | **18520166**| **THÀNH VIÊN**  | [**GitHub**](https://github.com/tienpm) **và** **Gmail**: 18520166@gm.uit.edu.vn        |\n",
        "| **3** |**NGUYỄN VƯƠNG THỊNH** | **18520367** | **THÀNH VIÊN**  |  [**GitHub**](https://github.com/ThinhNguyen209) **và** **Gmail**: 18520367@gm.uit.edu.vn      |"
      ]
    },
    {
      "cell_type": "markdown",
      "metadata": {
        "id": "yzKj7-5eXnHT"
      },
      "source": [
        "## **Đề bài**\n",
        "\n",
        "### **ĐỊA LAN (1s, 100MB)**\n",
        "\n",
        "<p style=\"text-align:justify\"><span style=\"color:black\">Giáo sư Braun đã lai giống tạo ra </span><strong><em><span style=\"color:black\">n</span></em></strong><span style=\"color:black\"> loại địa lan mới độc đáo. Mỗi loại địa lan được trồng trong một chậu riêng và được ghi một số thể hiện đặc điểm gene của loại hoa đó, chậu thứ </span><strong><em><span style=\"color:black\">i</span></em></strong><span style=\"color:black\"> có số là </span><strong><em><span style=\"color:black\">a<sub>i</sub></span></em></strong><span style=\"color:black\">, </span><strong><em><span style=\"color:black\">i</span></em></strong><span style=\"color:black\"> = 1 </span><span style=\"color:black\">÷</span> <strong><em><span style=\"color:black\">n</span></em></strong><span style=\"color:black\">.</span></p>\n",
        "\n",
        "<p style=\"text-align:justify\"><span style=\"color:black\">Hội chợ hoa địa lan thế giới mời giáo sư tham gia và giới thiệu các thành quả nghiên cứu của ông. Các chậu hoa do ông mang tới sẽ được đặt trên </span><strong><em><span style=\"color:black\">k</span></em></strong><span style=\"color:black\"> đôn dọc theo đường đi dẫn tới gian hàng chính của hội chợ.&nbsp; </span></p>\n",
        "\n",
        "<p style=\"text-align:justify\"><span style=\"color:black\">Muốn gây ấn tượng mạnh cho những người tham dự, đặc biệt là các nhà khoa học Giáo sư yêu cầu trợ lý của mình chọn </span><strong><em><span style=\"color:black\">k</span></em></strong><span style=\"color:black\"> chậu sao cho khi thực hiện phép </span><strong><em><span style=\"color:black\">AND</span></em></strong><span style=\"color:black\"> số trên các chậu hoa tới (nếu xét chúng ở dạng biểu diễn nhị phân) sẽ có kết quả bằng 0.</span></p>\n",
        "\n",
        "<p style=\"text-align:justify\"><span style=\"color:black\">Hãy xác định xem người trợ lý có thể chọn được </span><strong><em><span style=\"color:black\">k</span></em></strong><span style=\"color:black\"> chậu như vậy hay không và đưa ra thông báo “</span><strong><em><span style=\"color:black\">YES</span></em></strong><span style=\"color:black\">” hoặc “</span><strong><em><span style=\"color:black\">NO</span></em></strong><span style=\"color:black\">”.</span></p>\n",
        "\n",
        "<p style=\"text-align:justify\"><strong><em>Dữ liệu:</em></strong><span style=\"color:black\"> Vào từ thiết bị nhập chuẩn:</span></p>\n",
        "\n",
        "<ul>\n",
        "\t<li style=\"text-align:justify\"><span style=\"color:black\">Dòng đầu tiên chứa 2 số nguyên </span><strong><em><span style=\"color:black\">n</span></em></strong><span style=\"color:black\"> và </span><strong><em><span style=\"color:black\">k</span></em></strong><span style=\"color:black\"> (1 ≤ </span><strong><em><span style=\"color:black\">n</span></em></strong><span style=\"color:black\"> ≤ 2×10<sup>4</sup>, 1 ≤ </span><strong><em><span style=\"color:black\">k</span></em></strong><span style=\"color:black\"> ≤ </span><strong><em><span style=\"color:black\">n</span></em></strong><span style=\"color:black\">),</span></li>\n",
        "\t<li style=\"text-align:justify\"><span style=\"color:black\">Dòng thứ 2 chứa </span><strong><em><span style=\"color:black\">n</span></em></strong><span style=\"color:black\"> số nguyên </span><strong><em><span style=\"color:black\">a<sub>1</sub></span></em></strong><span style=\"color:black\">, </span><strong><em><span style=\"color:black\">a<sub>2</sub></span></em></strong><span style=\"color:black\">, . . ., </span><strong><em><span style=\"color:black\">a<sub>n</sub></span></em></strong><span style=\"color:black\"> (0 ≤ </span><strong><em><span style=\"color:black\">a<sub>i</sub></span></em></strong><span style=\"color:black\"> &lt; 2<sup>12</sup>, </span><strong><em><span style=\"color:black\">i</span></em></strong><span style=\"color:black\"> = 1 </span><span style=\"color:black\">÷</span> <strong><em><span style=\"color:black\">n</span></em></strong><span style=\"color:black\">).</span></li>\n",
        "</ul>\n",
        "\n",
        "<p style=\"text-align:justify\"><strong><em>Kết quả:</em></strong><span style=\"color:black\"> Đưa ra thiết bị xuất chuẩn thông báo tìm được.</span></p>\n",
        "\n",
        "<p style=\"text-align:justify\"><strong><em>Ví dụ: </em></strong></p>\n",
        "\n",
        "|  Input | Output             |\n",
        "|---|--------------------|\n",
        "|3 2<br>5 4 3 | YES         |\n",
        "\n",
        "<p style=\"text-align:justify\">&nbsp;</p>\n",
        "\n",
        "\t\t\n",
        "\t\t"
      ]
    },
    {
      "cell_type": "markdown",
      "metadata": {
        "id": "RM6YkI9nAXvO"
      },
      "source": [
        "## **1. Tóm tắt bài toán**"
      ]
    },
    {
      "cell_type": "markdown",
      "metadata": {
        "id": "CZxfnx4RXnHX"
      },
      "source": [
        "Cho một dãy số nguyên $a_1, a_2, a_3, ..., a_n$, **có hay không** việc chọn được $k$ phần tử từ dãy sao cho nếu thực hiện phép ***AND*** $k$ phần tử này lại với nhau thu được kết quả là 0?"
      ]
    },
    {
      "cell_type": "markdown",
      "metadata": {
        "id": "dfhQIssxXnHY"
      },
      "source": [
        "***Lưu ý***: Nếu chúng ta giải bài này với giả định rằng $k$ phần tử chọn ra phải là các phần tử liên tiếp nhau trong dãy thì ta vẫn thu được kết quả đúng trên Wecode. Nghĩa là có hai khả năng xảy ra: hoặc là đề bài cho thiếu dữ kiện này hoặc là đề bài không thiếu nhưng bộ test trên Wecode còn yếu. Ở đây ta cho rằng khả năng thứ nhất xảy ra, tức là ta **thêm giả định rằng $k$ phần tử chọn ra phải là liên tiếp nhau trong dãy.**"
      ]
    },
    {
      "cell_type": "markdown",
      "metadata": {
        "id": "KMl_1yZt-t46"
      },
      "source": [
        "## **2. Nhận dạng mẫu (Pattern-Recognition)**"
      ]
    },
    {
      "cell_type": "markdown",
      "metadata": {
        "id": "KKn34f7oXnHf"
      },
      "source": [
        "**Cửa sổ trượt (Sliding window)**\n",
        "\n",
        "- Ta dùng kĩ thuật cửa sổ trượt để kiểm tra xem từng nhóm $k$ phần tử liên tiếp nhau trong dãy có thỏa điều kiện *AND* với nhau ra 0 hay không.\n",
        "\n",
        "- Kĩ thuật này giúp ta thay hai vòng lặp lồng nhau thành một vòng lặp (xem thêm tại [đây](https://www.geeksforgeeks.org/window-sliding-technique/))."
      ]
    },
    {
      "cell_type": "markdown",
      "metadata": {
        "id": "IGbx4AyiXnHg"
      },
      "source": [
        "## **3. Thuật toán**\n",
        "\n",
        "### **3.1. Ý tưởng**\n",
        "\n",
        "Ta trượt cửa sổ từ trái qua phải, tại mỗi trạng thái của cửa sổ nếu phép *AND* cửa sổ đó cho kết quả bằng 0 thì ta dừng trượt cửa sổ và kết luận tồn tại lời giải cho bài toán (trả về 'YES'). Nếu trượt hết dãy rồi mà không có trạng thái nào của cửa sổ thỏa thì ta kết luận không tồn tại lời giải cho bài toán (trả về 'NO').\n",
        "\n",
        "Độ phức tạp thuật toán là $\\mathbf{O(n)}$.\n",
        "\n",
        "### **3.2. Mã giả thuật toán**\n",
        "\n",
        "```pseudocode\n",
        "k = False\n",
        "Cho i = 1 -> n - k:\n",
        "    Nếu phép AND các số từ a[i] đến a[k] bằng 0:\n",
        "        k = True\n",
        "        Thoát vòng lặp\n",
        "\n",
        "Nếu k == True:\n",
        "    Tồn tại lời giải\n",
        "Còn lại:\n",
        "    Không tồn tại lời giải\n",
        "```"
      ]
    },
    {
      "cell_type": "markdown",
      "metadata": {
        "id": "2QLVpwgwLB6z"
      },
      "source": [
        "## **4. Cài đặt**"
      ]
    },
    {
      "cell_type": "code",
      "metadata": {
        "id": "SP6ZBiyfXnHj",
        "outputId": "b85df417-df49-4630-983d-92302960e876"
      },
      "source": [
        "NUM_BIT = 12\n",
        "\n",
        "def bin2dec(bit, k):\n",
        "    \"\"\"\n",
        "    Hàm chuyển từ số nhị phân (thực chất là một mảng các bit)\n",
        "    sang số nguyên.\n",
        "    \"\"\"\n",
        "    dec = 0 \n",
        "  \n",
        "    for i in range(NUM_BIT): \n",
        "        if (bit[i] == k): \n",
        "            dec += (1 << i)\n",
        "  \n",
        "    return dec \n",
        "  \n",
        "    \n",
        "def exist_k(arr, n, k): \n",
        "    \"\"\"\n",
        "    Hàm kiểm tra xem có tồn tại \n",
        "    k phần tử thỏa điều kiện hay không\n",
        "    \"\"\"\n",
        "    # mảng bit dùng để lưu kết quả phép AND của cửa sổ\n",
        "    # kích thước k\n",
        "    bit = [0] * NUM_BIT \n",
        "    for i in range(k): \n",
        "        for j in range(NUM_BIT): \n",
        "            if ((arr[i] & (1 << j)) > 0): \n",
        "                bit[j] += 1\n",
        "\n",
        "    # nếu cửa sổ đầu tiên thỏa thì trả về True ngay lập tức\n",
        "    if bin2dec(bit, k) == 0:\n",
        "        return True\n",
        "    \n",
        "    # bắt đầu trượt cửa sổ qua phải và tính kết quả phép AND\n",
        "    # của cửa sổ đó\n",
        "    for i in range(k, n): \n",
        "        \n",
        "        # lấy phần tử ngoài cùng bên trái ra khỏi cửa sổ\n",
        "        for j in range(NUM_BIT): \n",
        "            if ((arr[i - k] & (1 << j)) > 0): \n",
        "                bit[j] -=1;\n",
        "        # thêm phần tử mới vào vị trí ngoài cùng bên phải cửa sổ\n",
        "        for j in range(NUM_BIT): \n",
        "            if ((arr[i] & (1 << j)) > 0): \n",
        "                bit[j] += 1 \n",
        "  \n",
        "        # nếu cửa sổ thỏa điều kiện thì trả về True\n",
        "        if bin2dec(bit, k) == 0:\n",
        "            return True\n",
        "  \n",
        "    return False\n",
        "  \n",
        "  \n",
        "if __name__ == '__main__': \n",
        "    n, k = [int(x) for x in input().split()]\n",
        "    arr = [int(x) for x in input().split()]\n",
        "\n",
        "    if exist_k(arr, n, k):\n",
        "        print('YES')\n",
        "    else:\n",
        "        print('NO')"
      ],
      "execution_count": null,
      "outputs": [
        {
          "output_type": "stream",
          "text": [
            "3 2\n",
            "5 4 3\n",
            "YES\n"
          ],
          "name": "stdout"
        }
      ]
    },
    {
      "cell_type": "markdown",
      "metadata": {
        "id": "MDpEYQJOLB7F"
      },
      "source": [
        "## **5. Kết quả trên Wecode**"
      ]
    },
    {
      "cell_type": "markdown",
      "metadata": {
        "id": "q8ElylpcLB7I"
      },
      "source": [
        "![wecode_khoaso.jpg](data:image/png;base64,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)"
      ]
    }
  ]
}