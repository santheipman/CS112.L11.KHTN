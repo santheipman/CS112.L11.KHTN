{
  "nbformat": 4,
  "nbformat_minor": 0,
  "metadata": {
    "colab": {
      "name": "Computational Thinking.ipynb",
      "provenance": [],
      "collapsed_sections": [],
      "toc_visible": true,
      "include_colab_link": true
    },
    "kernelspec": {
      "name": "python3",
      "display_name": "Python 3"
    }
  },
  "cells": [
    {
      "cell_type": "markdown",
      "metadata": {
        "id": "view-in-github",
        "colab_type": "text"
      },
      "source": [
        "<a href=\"https://colab.research.google.com/github/santheipman/CS112.L11.KHTN/blob/master/EXCERCISE/WEEK_01/Computational_Thinking.ipynb\" target=\"_parent\"><img src=\"https://colab.research.google.com/assets/colab-badge.svg\" alt=\"Open In Colab\"/></a>"
      ]
    },
    {
      "cell_type": "markdown",
      "metadata": {
        "id": "9SmJwf7q_Fat",
        "colab_type": "text"
      },
      "source": [
        "# COMPUTATIONAL THINKING"
      ]
    },
    {
      "cell_type": "markdown",
      "metadata": {
        "id": "PUeQnCTUAlv8",
        "colab_type": "text"
      },
      "source": [
        "## I. KHÁI NIỆM\n",
        "\n",
        "Là kỹ năng giải quyết vấn đề. Đưa ra các giải pháp cho mọi người cùng hiểu và máy tính có thể hiện thực thành chương trình.\n",
        "\n"
      ]
    },
    {
      "cell_type": "markdown",
      "metadata": {
        "id": "PaT3yvsxCHIH",
        "colab_type": "text"
      },
      "source": [
        "## II. ĐẶC TRƯNG"
      ]
    },
    {
      "cell_type": "markdown",
      "metadata": {
        "id": "ShS5NYUeCKNe",
        "colab_type": "text"
      },
      "source": [
        "Có 4 đặc trưng trong Computational Thinking\n",
        "\n",
        "1. **Decomposition**\n",
        "> Chia nhỏ, chuyển từ bài toàn lớn, khó giải quyết thành các bài toán nhỏ đơn giản hơn.\n",
        "2. **Pattern Recognition**\n",
        "> Khi một vấn đề đã được chia thành nhiều bài toán nhỏ, ta xem xét từng bài toán nhỏ đã giải trước đây chưa, nếu chưa ta liên hệ các bài toán đó với các bài toán tương tự đã được giải quyết trước đó để tìm lời giải.\n",
        "3. **Abstraction**\n",
        "> Đơn giản hóa vấn đề bằng cách loại bỏ các chi tiết, dữ kiện không ảnh hưởng đến kết quả bài toán. Giữ lại phần cốt lõi, dữ kiện ảnh hưởng đến kết quả của vấn đề. \n",
        "4. **Algorithmic Thinking**\n",
        "> Nghĩ ra cách giải quyết vấn đề theo từng bước cụ thể và hiện thực thành chương trình.\n"
      ]
    },
    {
      "cell_type": "markdown",
      "metadata": {
        "id": "BPzRXDKfFLzF",
        "colab_type": "text"
      },
      "source": [
        "## III. CÔNG DỤNG CỦA COMPUTATIONAL THINKING\n",
        "\n",
        "* Đưa ra cách giải quyết vấn đề rõ ràng, hợp lí, logic trước những vấn đề từ dễ đến khó, từ đơn giản đến phức tạp.\n",
        "* Giải quyết vấn đề một cách rõ ràng, có phương pháp tạo thuận lợi cho làm việc nhóm.\n",
        "* Đề xuất những hướng giải, chỉ dẫn có thể tối ưu nhất cho máy tính thực hiên."
      ]
    },
    {
      "cell_type": "markdown",
      "metadata": {
        "id": "7yVJbdycGTLO",
        "colab_type": "text"
      },
      "source": [
        "## IV. VÍ DỤ\n",
        "\n",
        "Giả sử có một người tập lái xe máy, trước đó người này chỉ biết lái xe đạp.\n",
        "\n",
        "Anh ta đã xem qua hướng dẫn về các bộ phận điều khiển trên xe. Lần đầu ngồi lên xe, anh đánh thử tay lái, thử bấm một số nút điều khiển nhưng xe không có phản ứng gì hết. Anh nhận ra trước hết mình phải biết khởi động xe, nổ máy để xe có thể di chuyển, tiếp đến mới là biết cách điều khiển xe, sau cùng là dừng xe lại và tắt máy. Ở đây anh đã thực hiện bước **Decomposition**, cụ thể là chia vấn đề lái xe thành 3 phần: khởi động xe, lái xe, tắt máy.\n",
        "\n",
        "Anh thấy xe máy cũng là xe hai bánh hình dáng giống xe đạp nên cách đánh lái, cách dùng phanh,… của xe máy phần nào sẽ giống như xe đạp, đây chính là **Pattern recognition**\n",
        "\n",
        "Khi quen hơn với xe máy thì anh biết được bộ phận điều khiển nào là ít cần quan tâm đối với người mới tập lái xe như đèn xa gần, xi-nhan,… và tập trung vào điều quan trọng hơn như việc tập điều khiển ga, lên số về số,… Anh đã áp dụng **Pattern abstraction** để tập trung vào những điều chính.\n",
        "\n",
        "Dần dần, anh đã trải qua ba giai đoạn của Computational Thinking, anh đến giai đoạn cuối cùng đó là **Algorithm design**. Giai đoạn này là lúc anh đã làm quen được với việc lái xe máy, anh biết rõ lúc khởi động xe cần làm những gì, trong lúc lái xe cần quan tâm những gì, muốn dừng xe thì cần thao tác như thế nào. Nắm được những điều đó cũng có thể coi là anh đã vạch ra được “thuật toán” để lái xe vậy."
      ]
    }
  ]
}