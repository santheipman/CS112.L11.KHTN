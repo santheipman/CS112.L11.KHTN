{
  "nbformat": 4,
  "nbformat_minor": 0,
  "metadata": {
    "kernelspec": {
      "display_name": "Python 3",
      "language": "python",
      "name": "python3"
    },
    "language_info": {
      "codemirror_mode": {
        "name": "ipython",
        "version": 3
      },
      "file_extension": ".py",
      "mimetype": "text/x-python",
      "name": "python",
      "nbconvert_exporter": "python",
      "pygments_lexer": "ipython3",
      "version": "3.7.7"
    },
    "colab": {
      "name": "BOT.ipynb",
      "provenance": [],
      "include_colab_link": true
    }
  },
  "cells": [
    {
      "cell_type": "markdown",
      "metadata": {
        "id": "view-in-github",
        "colab_type": "text"
      },
      "source": [
        "<a href=\"https://colab.research.google.com/github/santheipman/CS112.L11.KHTN/blob/master/EXCERCISE/WEEK_01/BOT.ipynb\" target=\"_parent\"><img src=\"https://colab.research.google.com/assets/colab-badge.svg\" alt=\"Open In Colab\"/></a>"
      ]
    },
    {
      "cell_type": "markdown",
      "metadata": {
        "id": "VwEkjhFQvjan",
        "colab_type": "text"
      },
      "source": [
        "# Bài tập #1: BOT"
      ]
    },
    {
      "cell_type": "markdown",
      "metadata": {
        "id": "qekxof_8vjaq",
        "colab_type": "text"
      },
      "source": [
        "## **Nhóm N005**\n",
        "\n",
        "| Thành viên     | MSSV |\n",
        "| ----------- | ----------- |\n",
        "| Vũ Quí San (Nhóm trưởng)        | 18520143 |\n",
        "| Phạm Mạnh Tiến     | 18520166 |\n",
        "| Nguyễn Vương Thịnh | 18520367 |"
      ]
    },
    {
      "cell_type": "markdown",
      "metadata": {
        "id": "eEgBeSo5vjar",
        "colab_type": "text"
      },
      "source": [
        "## Đề bài"
      ]
    },
    {
      "cell_type": "markdown",
      "metadata": {
        "id": "jiZt5eN7vjau",
        "colab_type": "text"
      },
      "source": [
        "**BOT** (*Built-Operation-Transfer*, có nghĩa: Xây dựng-Vận hành-Chuyển giao) là hình thức Chính phủ kêu gọi các công ty bỏ vốn xây dựng trước (*Built*) thông qua đấu thầu, sau đó khai thác vận hành một thời gian (*Operation*) và sau cùng là chuyển giao (*Transfer*) lại cho nhà nước sở tại.\n",
        "\n",
        "Đường cao tốc xuyên quốc gia được xây dựng theo hình thức BOT. Công ty Đa quốc gia *Modern Highway* trúng thầu, chia toàn bộ con đường thành $\\mathbf{n}$ đoạn. Theo tính toán của Công ty sau khi chuyển giao con đường cho chính phủ sở tại quản lý thì lãi thu được ở đoạn đường thứ $\\mathbf{i}$ là $\\mathbf{a_i}$, $\\mathbf{a_i}$ có thể dương, âm hoặc bằng 0, tức là với từng đoạn con có thể lãi, lỗ hoặc hòa vốn. Từng nhóm các đoạn đường liên tiếp nhau (gọi tắt là khoảng) được chia cho các công ty con thực hiện. Công ty con *ASEAM Highway* hiện đang có trụ sở ở nước sở tại được quyền chọn trước khoảng tùy ý (có thể là cả con đường).\n",
        "\n",
        "Dĩ nhiên Ban Giám đốc *ASEAM Highway* muốn chọn khoảng bắt đầu từ đoạn $\\mathbf{p}$ đến hết đoạn $\\mathbf{q}$ mang lại lợi nhuận cao nhất hoặc lỗ ít nhất nếu không có khoảng nào cho lãi.\n",
        "\n",
        "Hãy chỉ ra khoảng cần chọn và lãi thu được. Nếu có nhiều cách chọn thì chỉ ra cách chọn có $\\mathbf{p}$ nhỏ nhất.\n",
        "\n",
        "***Dữ liệu:*** Vào từ thiết bị nhập chuẩn:\n",
        "- Dòng đầu tiên chứa số nguyên $\\mathbf{n}$ (1 ≤ $\\mathbf{n}$ ≤ 106),\n",
        "- Dòng thứ 2 chứa n số nguyên $\\mathbf{a_1}$, $\\mathbf{a_2}$, . . ., $\\mathbf{a_n}$ (0 ≤ |$\\mathbf{a_i}$| ≤ $10^{9}$, $\\mathbf{i}$ = 1 ÷ $\\mathbf{n}$).\n",
        "\n",
        "***Kết quả:*** Đưa ra thiết bị xuất chuẩn trên một dòng 2 số nguyên p, q và lãi thu được\n",
        "\n",
        "***Ví dụ:***\n",
        "\n",
        "| INPUT | OUTPUT |\n",
        "| :--- | :----------- |\n",
        "| 16<br>2 -4 5 -8 4 -1 -1 1 1 1 -2 2 4 -6 9 -4 | 5 15 12 |"
      ]
    },
    {
      "cell_type": "markdown",
      "metadata": {
        "id": "PHRSl1NPvjaw",
        "colab_type": "text"
      },
      "source": [
        "## 1. Tóm tắt bài toán\n",
        "Tìm đoạn từ $p$ đến $q$ trong dãy $a_1, a_2, ... , a_n$ có tổng các phần tử là lớn nhất."
      ]
    },
    {
      "cell_type": "markdown",
      "metadata": {
        "id": "L4u9ozCZvjax",
        "colab_type": "text"
      },
      "source": [
        "## 2. Kỹ thuật áp dụng\n",
        "\n",
        "**Tổng tiền tố**\n",
        "\n",
        "Kỹ thuật tổng tiền tố xây dựng mảng $f$ với mỗi phần tử được định nghĩa như sau:\n",
        "$f_i = \\sum_{j=1}^{i} a_i$\n",
        "\n",
        "Từ đó ta có thể tính được tổng các phần tử của đoạn từ $p$ đến $q$ với công thức: $S_{pq} = f_p - f_{q-1}$\n",
        "\n",
        "Trong cài đặt thực ra ta chỉ cần hai biến `fi` và `f_min` (sẽ giải thích kĩ hơn ở bên dưới) để lưu hai giá trị thay vì tạo mảng để lưu tất cả giá trị $f_i$."
      ]
    },
    {
      "cell_type": "markdown",
      "metadata": {
        "id": "qYjWpVv7vjaz",
        "colab_type": "text"
      },
      "source": [
        "## 3. Thuật toán\n",
        "\n",
        "**Ý tưởng**\n",
        "\n",
        "- $S_{max}$ là tổng của đoạn có tổng lớn nhất trong dãy $a$ (tổng cần tìm).\n",
        "- $S_i$ là tổng của đoạn kết thúc tại vị trí $i$ có tổng lớn nhất.\n",
        "- Khi đó ta có thể tính được $S_{max}$ theo công thức sau:\n",
        "\n",
        "\\begin{align}\n",
        "S_{max} = max(S_1, S_2, ... , S_n)\n",
        "\\end{align}\n",
        "\n",
        "- Cách tính $S_i$: tổng của đoạn kết thúc tại vị trí $i$ có dạng $f_i - f_{j}$, với $j<i$. Vì vậy để tổng đó lớn nhất thì ta phải tìm $f_j$ nhỏ nhất, ta gọi giá trị nhỏ nhất này là $f_{min}$.\n",
        "\n",
        "Tóm lại để giải bài toán này ta sẽ duyệt từ đầu đến cuối dãy $a$, tại mỗi lần lặp ta thực hiện: \n",
        "- Tính $f_i$ = $f_{i-1} + a_i$\n",
        "- Nếu $f_i < f_{min}$ thì cập nhật $f_{min} = f_i$\n",
        "- Tính $S_i = f_i - f_{min}$\n",
        "- Nếu $S_i > S_{max}$ thì cập nhật $S_{max} = S_i$, đồng thời cập nhật các giá trị $p$, $q$\n",
        "\n",
        "*Độ phức tạp của thuật toán là $O(n)$.*\n",
        "\n",
        "**Mã giả thuật toán**\n",
        "\n",
        "```pseudocode\n",
        "initialize variables\n",
        "\n",
        "for i = 1 to n:\n",
        "    fi = fi + a[i]\n",
        "    if fi < f_min:\n",
        "        update fi = f_min\n",
        "    if fi - f_min > S_max:\n",
        "        update S_max, p, q\n",
        "```"
      ]
    },
    {
      "cell_type": "markdown",
      "metadata": {
        "id": "X9krqDS5vja3",
        "colab_type": "text"
      },
      "source": [
        "## 4. Cài đặt\n",
        "\n",
        "Tên biến trong code:\n",
        "- `S_max`: $S_{max}$\n",
        "- `fi`: $f_i$\n",
        "- `f_min`: $f_{min}$\n",
        "- `p`, `p_temp`: vị trí bắt đầu của đoạn có tổng $S_{max}$ (`p_temp` để lưu giá trị tạm).\n",
        "- `q`: vị trí kết thúc của đoạn có tổng $S_{max}$\n",
        "- `MAX_VAL`: giá trị lớn nhất trong miền giá trị của phần tử thuộc $a$."
      ]
    },
    {
      "cell_type": "code",
      "metadata": {
        "scrolled": true,
        "id": "krdsq_DIvja6",
        "colab_type": "code",
        "colab": {},
        "outputId": "28ea5cd2-4861-46fa-ab6c-e2531f0aeab9"
      },
      "source": [
        "MAX_VAL = 1e9\n",
        "\n",
        "def find_max_sum(a):\n",
        "    \"\"\"\n",
        "    Hàm tìm đoạn từ p đến q trong dãy a có tổng các phần tử là lớn nhất\n",
        "    \n",
        "    Đối số:\n",
        "    a -- dãy a từ input\n",
        "    \n",
        "    Kết quả trả về:\n",
        "    p -- vị trí bắt đầu của đoạn có tổng lớn nhất trong dãy a\n",
        "    q -- vị trí kết thúc của đoạn có tổng lớn nhất trong dãy a\n",
        "    S_max -- tổng của đoạn có tổng lớn nhất trong dãy a\n",
        "    \"\"\"\n",
        "    \n",
        "    # Khởi tạo giá trị cho các biến\n",
        "    fi = 0 \n",
        "    f_min = MAX_VAL\n",
        "    S_max = - MAX_VAL\n",
        "    p = q = p_tmp = 0\n",
        "\n",
        "    # Duyệt qua từng a[i] để tính fi, kiểm tra và cập nhật f_min, S_max, p, q\n",
        "    for i in range(len(a)):\n",
        "\n",
        "        fi = fi + a[i]\n",
        "\n",
        "        if fi < f_min:\n",
        "            f_min = fi\n",
        "            p_tmp = i\n",
        "    \n",
        "        if fi - f_min > S_max:\n",
        "            S_max = fi - f_min\n",
        "            p = p_tmp\n",
        "            q = i\n",
        "\n",
        "    # giải quyết trường hợp p==q==1 \n",
        "    if p == q:\n",
        "        S_max = a[1] # phần tử đầu tiên của dãy a (tại vì ta phần tử a[0] là phần tử ta thêm vào\n",
        "                     # nên phần tử đầu thứ nhất của a trở thành a[1])\n",
        "    else:\n",
        "        p = p + 1\n",
        "\n",
        "    return p, q, S_max\n",
        "\n",
        "    \n",
        "# nhập input\n",
        "input()\n",
        "st = input()\n",
        "a = [int(x) for x in st.split()]\n",
        "\n",
        "# tìm và in kết quả\n",
        "p, q, S_max = find_max_sum([0] + a) # thêm phần tử 0 vào đầu dãy a để thuận tiện cho việc tính toán\n",
        "                                    # mà không làm thay đổi kết quả\n",
        "print(p, q, S_max)"
      ],
      "execution_count": null,
      "outputs": [
        {
          "output_type": "stream",
          "text": [
            "16\n",
            "2 -4 5 -8 4 -1 -1 1 1 1 -2 2 4 -6 9 -4\n",
            "5 15 12\n"
          ],
          "name": "stdout"
        }
      ]
    },
    {
      "cell_type": "markdown",
      "metadata": {
        "id": "Gy3d9RxdvjbD",
        "colab_type": "text"
      },
      "source": [
        "| Input | Kết quả đúng |\n",
        "| :--- | :----------- |\n",
        "| 16<br>2 -4 5 -8 4 -1 -1 1 1 1 -2 2 4 -6 9 -4 | 5 15 12 |"
      ]
    },
    {
      "cell_type": "markdown",
      "metadata": {
        "id": "RSQAz3UGvjbF",
        "colab_type": "text"
      },
      "source": [
        "## 5. Kết quả trên Wecode"
      ]
    },
    {
      "cell_type": "markdown",
      "metadata": {
        "id": "PHCtlEzcvjbH",
        "colab_type": "text"
      },
      "source": [
        "<img src=\"https://drive.google.com/uc?export=view&id=19UTV3gJiXDjhe9EFqdsIQuFzlcokQGMb\" class=\"center\" width=900 />"
      ]
    }
  ]
}