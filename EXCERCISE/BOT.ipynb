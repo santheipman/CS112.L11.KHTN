{
 "cells": [
  {
   "cell_type": "markdown",
   "metadata": {},
   "source": [
    "# Bài tập #1: BOT"
   ]
  },
  {
   "cell_type": "markdown",
   "metadata": {},
   "source": [
    "## 1. Tóm tắt bài toán\n",
    "Tìm đoạn từ $p$ đến $q$ trong dãy $a_1, a_2, ... , a_n$ có tổng các phần tử là lớn nhất."
   ]
  },
  {
   "cell_type": "markdown",
   "metadata": {},
   "source": [
    "## 2. Kỹ thuật áp dụng\n",
    "Kỹ thuật áp dụng cho bài toán này gồm:\n",
    "\n",
    "**Tổng tiền tố**\n",
    "\n",
    "Kỹ thuật tổng tiền tố xây dựng mảng $f$ với mỗi phần tử được định nghĩa như sau:\n",
    "$f_i = \\sum_{j=1}^{i} a_i$\n",
    "\n",
    "Từ đó ta có thể tính được tổng các phần tử của đoạn từ $p$ đến $q$ với công thức: $S_{pq} = f_p - f_{q-1}$"
   ]
  },
  {
   "cell_type": "markdown",
   "metadata": {},
   "source": [
    "## 3. Thuật toán\n",
    "\n",
    "**Ý tưởng**\n",
    "\n",
    "- $S_{max}$ là tổng của đoạn có tổng lớn nhất trong dãy $a$ (tổng cần tìm)\n",
    "- $S_i$ là tổng của đoạn kết thúc tại vị trí $i$ có tổng lớn nhất\n",
    "- Khi đó ta có thể tính được $S_{max}$ theo công thức sau:\n",
    "\n",
    "\\begin{align}\n",
    "S_{max} = max(S_1, S_2, ... , S_n)\n",
    "\\end{align}\n",
    "\n",
    "- Tính $S_i$: tổng của đoạn kết thúc tại vị trí $i$ có dạng $f_i - f_{j}$, với $j<i$. Vì vậy để tổng đó lớn nhất thì $f_j$ phải nhỏ nhất, ta gọi giá trị nhỏ nhất này là $f_{min}$.\n",
    "\n",
    "**Thuật toán**\n",
    "\n",
    "- Tên biến trong code:\n",
    "    - `S_max`: $S_{max}$\n",
    "    - `fi`: $f_i$\n",
    "    - `f_min`: $f_{min}$\n",
    "    - `p`, `p_temp`: vị trí bắt đầu của đoạn có tổng $S_{max}$ (`p_temp` để lưu giá trị tạm)\n",
    "    - `q`: vị trí kết thúc của đoạn có tổng $S_{max}$\n",
    "    "
   ]
  },
  {
   "cell_type": "markdown",
   "metadata": {},
   "source": [
    "## 4. Cài đặt"
   ]
  },
  {
   "cell_type": "code",
   "execution_count": 8,
   "metadata": {},
   "outputs": [
    {
     "name": "stdout",
     "output_type": "stream",
     "text": [
      "1\n",
      "1 2 3\n",
      "1 3 6\n"
     ]
    }
   ],
   "source": [
    "MAX_VAL = 1e9\n",
    "\n",
    "def find_max_sum(a):\n",
    "    \"\"\"\n",
    "    Hàm tìm đoạn từ p đến q trong dãy a có tổng các phần tử là lớn nhất\n",
    "    \n",
    "    Đối số:\n",
    "    a -- dãy a từ input\n",
    "    \n",
    "    Kết quả trả về:\n",
    "    p -- vị trí bắt đầu của đoạn có tổng lớn nhất trong dãy a\n",
    "    q -- vị trí kết thúc của đoạn có tổng lớn nhất trong dãy a\n",
    "    S_max -- tổng của đoạn có tổng lớn nhất trong dãy a\n",
    "    \"\"\"\n",
    "    \n",
    "    # Khởi tạo giá trị cho các biến\n",
    "    fi = 0 \n",
    "    f_min = MAX_VAL\n",
    "    S_max = - MAX_VAL\n",
    "    p = q = p_tmp = 0\n",
    "\n",
    "    for i in range(len(a)):\n",
    "\n",
    "        fi = fi + a[i]\n",
    "\n",
    "        if fi < f_min:\n",
    "            f_min = fi\n",
    "            p_tmp = i\n",
    "    \n",
    "        if fi - f_min > S_max:\n",
    "            S_max = fi - f_min\n",
    "            p = p_tmp\n",
    "            q = i\n",
    "\n",
    "    # giải quyết trường hợp p==q==1 \n",
    "    if p == q:\n",
    "        S_max = a[1]\n",
    "    else:\n",
    "        p = p + 1\n",
    "\n",
    "    return p, q, S_max\n",
    "\n",
    "    \n",
    "# nhập input\n",
    "input()\n",
    "st = input()\n",
    "a = [int(x) for x in st.split()]\n",
    "\n",
    "# tìm và in kết quả\n",
    "p, q, S_max = find_max_sum([0] + a)\n",
    "print(p, q, S_max)"
   ]
  }
 ],
 "metadata": {
  "kernelspec": {
   "display_name": "Python 3",
   "language": "python",
   "name": "python3"
  },
  "language_info": {
   "codemirror_mode": {
    "name": "ipython",
    "version": 3
   },
   "file_extension": ".py",
   "mimetype": "text/x-python",
   "name": "python",
   "nbconvert_exporter": "python",
   "pygments_lexer": "ipython3",
   "version": "3.7.7"
  }
 },
 "nbformat": 4,
 "nbformat_minor": 4
}
