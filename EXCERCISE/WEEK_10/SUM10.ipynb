{
  "nbformat": 4,
  "nbformat_minor": 0,
  "metadata": {
    "colab": {
      "name": "SUM10.ipynb",
      "provenance": [],
      "include_colab_link": true
    },
    "kernelspec": {
      "name": "python3",
      "display_name": "Python 3"
    }
  },
  "cells": [
    {
      "cell_type": "markdown",
      "metadata": {
        "id": "view-in-github",
        "colab_type": "text"
      },
      "source": [
        "<a href=\"https://colab.research.google.com/github/santheipman/CS112.L11.KHTN/blob/master/EXCERCISE/WEEK_10/SUM10.ipynb\" target=\"_parent\"><img src=\"https://colab.research.google.com/assets/colab-badge.svg\" alt=\"Open In Colab\"/></a>"
      ]
    },
    {
      "cell_type": "markdown",
      "metadata": {
        "id": "ldaV9NGlx2Xy"
      },
      "source": [
        "##  <img src=\"https://www.uit.edu.vn/sites/vi/files/banner.png\" alt=\"UIT logo\" class=\"left\"><h1 align= \"center\">   <strong>     CS112.PHÂN TÍCH VÀ THIẾT KẾ THUẬT TOÁN</strong> </h1>"
      ]
    },
    {
      "cell_type": "markdown",
      "metadata": {
        "id": "_4DKgQyLyAzz"
      },
      "source": [
        " ## **CS112.L11.KHTN** **NHÓM 5**\n",
        " \n",
        "|  STT | HỌ TÊN             | MSSV     | VAI TRÒ     | LIÊN HỆ |\n",
        "|---|--------------------|-----------------|----------------|---------|\n",
        "|**1** | **VŨ QUÍ SAN**         | **18520143** | **NHÓM TRƯỞNG** |[**GitHub**](https://github.com/santheipman) **và** [**Gmail**](mailto:18520143@gm.uit.edu.vn)          |\n",
        "| **2** | **PHẠM MẠNH TIẾN**     | **18520166**| **THÀNH VIÊN**  | [**GitHub**](https://github.com/tienpm) **và** [**Gmail**](mailto:18520166@gm.uit.edu.vn)        |\n",
        "| **3** |**NGUYỄN VƯƠNG THỊNH** | **18520367** | **THÀNH VIÊN**  |  [**GitHub**](https://github.com/ThinhNguyen209) **và** [**Gmail**](mailto:18520367@gm.uit.edu.vn)      |"
      ]
    },
    {
      "cell_type": "markdown",
      "metadata": {
        "id": "leV3pnx0zsQD"
      },
      "source": [
        " # **SUM10 - TÓM TẮT BÀI GIẢNG BUỔI 10**"
      ]
    },
    {
      "cell_type": "markdown",
      "metadata": {
        "id": "KOLk4aO5zv5y"
      },
      "source": [
        "##**TÓM TẮT**\n",
        "* Học lớp tân binh của thầy Tùng\n",
        "* Nghe thầy giảng và giải bài tập"
      ]
    },
    {
      "cell_type": "markdown",
      "metadata": {
        "id": "vju22jhlz1AQ"
      },
      "source": [
        " ## **GHI CHÚ**\n",
        " >*LẬP TRÌNH LÀ MỘT NGHỆ THUẬT!*"
      ]
    },
    {
      "cell_type": "markdown",
      "metadata": {
        "id": "zV6caZdaz75w"
      },
      "source": [
        "## **THẢO LUẬN**\n",
        "* Nhóm thảo luận trả lời câu hỏi\n",
        "* Phân công công việc tuần tới\n",
        "* Trả lời câu hỏi của thầy"
      ]
    }
  ]
}