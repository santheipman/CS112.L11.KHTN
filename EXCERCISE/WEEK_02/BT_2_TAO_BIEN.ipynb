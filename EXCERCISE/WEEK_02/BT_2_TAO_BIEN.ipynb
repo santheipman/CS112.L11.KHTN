{
 "cells": [
  {
   "cell_type": "markdown",
   "metadata": {
    "colab_type": "text",
    "id": "Uq5n_LmrwDSx"
   },
   "source": [
    "<img src=\"https://www.uit.edu.vn/sites/vi/files/banner.png\" alt=\"UIT logo\" class=\"left\">\n",
    "<h1 align= \"center\">   <strong>     CS112.PHÂN TÍCH VÀ THIẾT KẾ THUẬT TOÁN</strong> </h1>\n",
    "\n",
    "\n"
   ]
  },
  {
   "cell_type": "markdown",
   "metadata": {
    "colab_type": "text",
    "id": "U_Pca_MGyrHm"
   },
   "source": [
    "# **CS112.L11.KHTN**\n",
    "## **NHÓM 5**\n",
    "\n",
    "|  STT | HỌ TÊN             | MSSV     | VAI TRÒ     | LIÊN HỆ |\n",
    "|---|:--------------------|-----------------|----------------|---------|\n",
    "|1 | VŨ QUÍ SAN         | 18520143 | Nhóm trưởng |[**GitHub**](\"https://github.com/santheipman\") hoặc Gmail: 18520143@gm.uit.edu.vn          |\n",
    "| 2 | PHẠM MẠNH TIẾN     | 18520166| Thành viên  | [**GitHub**](\"https://github.com/tienpm\") hoặc Gmail: 18520166@gm.uit.edu.vn        |\n",
    "| 3 |NGUYỄN VƯƠNG THỊNH | 18520367 | Thành viên  |  [**GitHub**](\"https://github.com/ThinhNguyen209\") hoặc Gmail: 18520367@gm.uit.edu.vn      |"
   ]
  },
  {
   "cell_type": "markdown",
   "metadata": {
    "colab_type": "text",
    "id": "RJZRRRrvAX8p"
   },
   "source": [
    "\n",
    "## **Đề bài**\n",
    "\n",
    "### **Tảo Biển (1s, 50M)**\n",
    "Tảo biển sinh sản rất nhanh khi có môi trường thuận lợi với chúng và có những loài còn tiết ra môi trường những chất độc hại.\n",
    "\n",
    "Một loại tảo nâu trong môi trường nước bị ô nhiễm nặng sinh sản theo quy luật sau:\n",
    "\n",
    "* Ngày đầu tiên (ngày 0) có **n** cá thể ở mức 1,\n",
    "* Ở mỗi ngày tiếp theo, mỗi cá thể mức **i** sinh ra **i** cá thể mức 1, các cá thể mới sinh sẽ sinh sôi, phát triển từ ngày hôm sau.\n",
    "* Bản thân các cá thể mức **i** phát triển thành mức **i**+1 và chu kỳ phát triển trong ngày chấm dứt.\n",
    "Hãy xác định sau **k** ngày trong nước biển có bao nhiêu cá thể.\n",
    "\n",
    "***Dữ liệu:*** Vào từ thiết bị nhập chuẩn gồm một dòng chứa 2 số nguyên **n** và **k** ($1 ≤ n ≤ 1000,  1 ≤ k ≤ 10^{18}$).\n",
    "\n",
    "(test hiện tại chỉ có $k \\le 10^5$,  thầy sẽ chấm lại sau khi nâng cấp test)\n",
    "\n",
    "***Kết quả:*** Đưa ra thiết bị xuất chuẩn một số nguyên – số lượng cá thể  tảo theo mô đun $10^9+7$.\n",
    "\n",
    "***Ví dụ:***\n",
    "\n",
    "![figure_tao_bien.png](data:image/png;base64,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)\n"
   ]
  },
  {
   "cell_type": "markdown",
   "metadata": {
    "colab_type": "text",
    "id": "RM6YkI9nAXvO"
   },
   "source": [
    "## **1. Tóm tắt bài toán**"
   ]
  },
  {
   "cell_type": "markdown",
   "metadata": {
    "colab_type": "text",
    "id": "KMl_1yZt-t46"
   },
   "source": [
    "## **2. Kỹ thuật áp dụng**"
   ]
  },
  {
   "cell_type": "markdown",
   "metadata": {
    "colab_type": "text",
    "id": "_EnOcDkTFs9R"
   },
   "source": [
    "## **3. Thuật toán**\n",
    "\n",
    "**Ý tưởng**\n",
    "\n",
    "**Mã giả thuật toán**\n"
   ]
  },
  {
   "cell_type": "markdown",
   "metadata": {},
   "source": [
    "## **4. Cài đặt**\n",
    "\n",
    "Tên biến trong code:\n",
    "- `S_max`: $S_{max}$\n",
    "- `fi`: $f_i$\n",
    "- `f_min`: $f_{min}$\n",
    "- `p`, `p_temp`: vị trí bắt đầu của đoạn có tổng $S_{max}$ (`p_temp` để lưu giá trị tạm).\n",
    "- `q`: vị trí kết thúc của đoạn có tổng $S_{max}$\n",
    "- `MAX_VAL`: giá trị lớn nhất trong miền giá trị của phần tử thuộc $a$."
   ]
  },
  {
   "cell_type": "markdown",
   "metadata": {},
   "source": [
    "## **5. Kết quả**"
   ]
  },
  {
   "cell_type": "markdown",
   "metadata": {
    "colab_type": "text",
    "id": "gdqxl8OR-t0M"
   },
   "source": []
  }
 ],
 "metadata": {
  "colab": {
   "collapsed_sections": [],
   "name": "Copy of BT#2_TAO_BIEN.ipynb",
   "provenance": []
  },
  "kernelspec": {
   "display_name": "Python 3",
   "language": "python",
   "name": "python3"
  },
  "language_info": {
   "codemirror_mode": {
    "name": "ipython",
    "version": 3
   },
   "file_extension": ".py",
   "mimetype": "text/x-python",
   "name": "python",
   "nbconvert_exporter": "python",
   "pygments_lexer": "ipython3",
   "version": "3.7.7"
  }
 },
 "nbformat": 4,
 "nbformat_minor": 1
}
