{
  "nbformat": 4,
  "nbformat_minor": 0,
  "metadata": {
    "colab": {
      "name": "SUM2.ipynb",
      "provenance": [],
      "authorship_tag": "ABX9TyMwioiyiPsveK8PIVSGeXBO",
      "include_colab_link": true
    },
    "kernelspec": {
      "name": "python3",
      "display_name": "Python 3"
    }
  },
  "cells": [
    {
      "cell_type": "markdown",
      "metadata": {
        "id": "view-in-github",
        "colab_type": "text"
      },
      "source": [
        "<a href=\"https://colab.research.google.com/github/santheipman/CS112.L11.KHTN/blob/master/EXCERCISE/WEEK_02/SUM2.ipynb\" target=\"_parent\"><img src=\"https://colab.research.google.com/assets/colab-badge.svg\" alt=\"Open In Colab\"/></a>"
      ]
    },
    {
      "cell_type": "markdown",
      "metadata": {
        "id": "RXikoUjr0fvY",
        "colab_type": "text"
      },
      "source": [
        "<img src=\"https://www.uit.edu.vn/sites/vi/files/banner.png\" alt=\"UIT logo\" class=\"left\">\n",
        "<h1 align= \"center\">   <strong>     CS112.PHÂN TÍCH VÀ THIẾT KẾ THUẬT TOÁN</strong> </h1>\n",
        "\n",
        "\n"
      ]
    },
    {
      "cell_type": "markdown",
      "metadata": {
        "id": "rjfx5qLe0n1a",
        "colab_type": "text"
      },
      "source": [
        "#**CS112.L11.KHTN**\n",
        "## **NHÓM 5**\n",
        "\n",
        "|  STT | HỌ TÊN             | MSSV     | VAI TRÒ     | LIÊN HỆ |\n",
        "|---|--------------------|-----------------|----------------|---------|\n",
        "|**1** | **VŨ QUÍ SAN**         | **18520143** | **NHÓM TRƯỞNG** |[**GitHub**](https://github.com/santheipman) **và** [**Gmail**](mailto:18520143@gm.uit.edu.vn)          |\n",
        "| **2** | **PHẠM MẠNH TIẾN**     | **18520166**| **THÀNH VIÊN**  | [**GitHub**](https://github.com/tienpm) **và** [**Gmail**](mailto:18520166@gm.uit.edu.vn)        |\n",
        "| **3** |**NGUYỄN VƯƠNG THỊNH** | **18520367** | **THÀNH VIÊN**  |  [**GitHub**](https://github.com/ThinhNguyen209) **và** [**Gmail**](mailto:18520367@gm.uit.edu.vn)      |"
      ]
    },
    {
      "cell_type": "markdown",
      "metadata": {
        "id": "Qx4kEEqp0pog",
        "colab_type": "text"
      },
      "source": [
        "# **SUM2 - TÓM TẮT BÀI GIẢNG BUỔI 2**"
      ]
    },
    {
      "cell_type": "markdown",
      "metadata": {
        "id": "nDjzuwZSOzQB",
        "colab_type": "text"
      },
      "source": [
        ""
      ]
    },
    {
      "cell_type": "markdown",
      "metadata": {
        "id": "Rpyk6X3T04sW",
        "colab_type": "text"
      },
      "source": [
        "##**TÓM TẮT**\n"
      ]
    },
    {
      "cell_type": "markdown",
      "metadata": {
        "id": "riwjgNvV2Vf4",
        "colab_type": "text"
      },
      "source": [
        "* Nghe thầy hướng dẫn cách tóm tắt, gợi ý cách giải quyết bài toán.\n",
        "* Họp nhóm chọn đề tài (đề tài của nhóm: Phân tích thuật toán).\n",
        "* Xem bài nộp của một số nhóm và rút ra nhận xét(cách trình bày, phân tích)\n",
        "* Hướng dẫn teamwork trong cuộc thi. "
      ]
    },
    {
      "cell_type": "markdown",
      "metadata": {
        "id": "Do9pMqZh30kT",
        "colab_type": "text"
      },
      "source": [
        "##**GHI CHÚ**"
      ]
    },
    {
      "cell_type": "markdown",
      "metadata": {
        "id": "FbCkkRFq35E6",
        "colab_type": "text"
      },
      "source": [
        "* Xem xét ý tưởng có đáp ứng nhu cầu bài toán(giới hạn thời gian giải quyết, lưu trữ trên bộ nhớ).\n",
        "* Nên phát triển, cải thiện từ ý tưởng ban đầu.\n",
        "* Trình bày code nên có chú thích.\n",
        "* Nêu ưu nhược điểm của các giải pháp cùng một bài toán.\n",
        "* Trong cuộc thi lập trình, khi teamwork theo:\n",
        "  1. Chia số bài toán ra để các thành viên đọc-hiểu đề.\n",
        "  2. Sau 15' họp nhóm thảo luận, xem xét trình tự giải bài, ưu tiên giải bài mà các thành viên trong nhóm đều hiểu rõ nhất, nếu không thì xem bài nào được nhiều đội giải nhiều nhất trên scoreboard.\n",
        "  3. Tiến hành chia công việc: 1 người -  code, 1 người - test, 1 người - hỗ trợ."
      ]
    },
    {
      "cell_type": "markdown",
      "metadata": {
        "id": "7lDR5Tjx41W1",
        "colab_type": "text"
      },
      "source": [
        "## **THẢO LUẬN**"
      ]
    },
    {
      "cell_type": "markdown",
      "metadata": {
        "id": "eO0d4c2P5D4k",
        "colab_type": "text"
      },
      "source": [
        "* Bàn về cách phân chia công việc trong teamwork ở các cuộc thi lập trình.\n",
        "* Phân công giải bài tập trên classroom, wecode."
      ]
    }
  ]
}