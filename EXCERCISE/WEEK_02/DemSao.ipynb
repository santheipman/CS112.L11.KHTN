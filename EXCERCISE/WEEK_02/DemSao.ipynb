{
 "cells": [
  {
   "cell_type": "markdown",
   "metadata": {},
   "source": [
    "## Nhập input"
   ]
  },
  {
   "cell_type": "code",
   "execution_count": 6,
   "metadata": {},
   "outputs": [],
   "source": [
    "def get_input():\n",
    "    n = int(input())\n",
    "    s = input().split()\n",
    "    a, b = [int(x) for x in s[0].split('/')]\n",
    "    c, d = [int(x) for x in s[1].split('/')]\n",
    "\n",
    "    arr = []\n",
    "    for i in range(n):\n",
    "        arr.append([int(x) for x in input().split()])\n",
    "\n",
    "    # Lưu low = tan(alpha_1), high = tan(alpha_2)\n",
    "    # trường hợp alpha_2 = 90 -> cos(alpha_2) = 0 -> tan(alpha_2) không tồn tại: trường hợp này\n",
    "    # gán high = -1\n",
    "    low = a/b\n",
    "    if d == 0:\n",
    "        high = -1\n",
    "    else:\n",
    "        high = c/d\n",
    "\n",
    "    return arr, low, high"
   ]
  },
  {
   "cell_type": "markdown",
   "metadata": {},
   "source": [
    "## Hàm kiểm tra điểm $Q$ có nằm trong góc vẽ từ điểm $P$ hay không"
   ]
  },
  {
   "cell_type": "markdown",
   "metadata": {},
   "source": [
    "$Q$ nằm trong góc vẽ từ điểm $P$ <=> tan(alpha_1) < tan(QPx') < tan(alpha_2), với Px' // Ox"
   ]
  },
  {
   "cell_type": "code",
   "execution_count": 2,
   "metadata": {},
   "outputs": [],
   "source": [
    "def is_between(p, q, low, high):\n",
    "    x_diff = q[0] - p[0]\n",
    "    y_diff = q[1] - p[1]\n",
    "    between = False\n",
    "\n",
    "    if x_diff > 0:\n",
    "        if ((high == -1) and (y_diff / x_diff) > low) or \\\n",
    "            ((high != -1) and  high > (y_diff / x_diff) > low):\n",
    "            between = True\n",
    "\n",
    "    return between"
   ]
  },
  {
   "cell_type": "markdown",
   "metadata": {},
   "source": [
    "# Giải thuật 1"
   ]
  },
  {
   "cell_type": "markdown",
   "metadata": {},
   "source": [
    "## Hàm duyệt tìm ra tất cả các dãy thỏa tính chất (giống DFS)"
   ]
  },
  {
   "cell_type": "code",
   "execution_count": 3,
   "metadata": {},
   "outputs": [],
   "source": [
    "def duyettrau(arr, chain, p, low, high):\n",
    "    global longest\n",
    "    out_of_point = True\n",
    "    for q in arr:\n",
    "        if (p != q) and is_between(p, q, low, high):\n",
    "            out_of_point = False\n",
    "            new_chain = chain + [q]\n",
    "            duyettrau(arr, new_chain, q, low, high)\n",
    "\n",
    "    if out_of_point and len(chain) > longest:\n",
    "            longest = len(chain)"
   ]
  },
  {
   "cell_type": "markdown",
   "metadata": {},
   "source": [
    "## Main"
   ]
  },
  {
   "cell_type": "code",
   "execution_count": 5,
   "metadata": {},
   "outputs": [
    {
     "name": "stdout",
     "output_type": "stream",
     "text": [
      "15\n",
      "1/4 2/1\n",
      "3 1\n",
      "6 2\n",
      "9 3\n",
      "12 4\n",
      "15 5\n",
      "2 1\n",
      "4 2\n",
      "5 3\n",
      "7 4\n",
      "1 3\n",
      "3 4\n",
      "2 5\n",
      "4 5\n",
      "1 6\n",
      "6 6\n",
      "5\n"
     ]
    }
   ],
   "source": [
    "arr, low, high = get_input()\n",
    "\n",
    "longest = 1\n",
    "origin = [0,0]\n",
    "chain = [origin]\n",
    "\n",
    "duyettrau(arr, chain, origin, low, high)\n",
    "\n",
    "print(longest-1)"
   ]
  },
  {
   "cell_type": "markdown",
   "metadata": {},
   "source": [
    "# Giải thuật 2"
   ]
  },
  {
   "cell_type": "markdown",
   "metadata": {},
   "source": [
    "## Sắp xếp lại dãy các điểm sao cho điểm a[i] không nằm trong góc vẽ từ a[j], với mọi i<j"
   ]
  },
  {
   "cell_type": "code",
   "execution_count": 1,
   "metadata": {},
   "outputs": [],
   "source": [
    "def sort(a, low, high):\n",
    "    for i in range(len(a)-1):\n",
    "        for j in range(i+1, len(a)):\n",
    "            if is_between(a[j], a[i], low, high):\n",
    "                a_tmp = a[i]\n",
    "                a[i] = a[j]\n",
    "                a[j] = a_tmp\n",
    "\n",
    "    return a"
   ]
  },
  {
   "cell_type": "markdown",
   "metadata": {},
   "source": [
    "## Đưa về bài toán tìm dãy con tăng dài nhất\n",
    "\n",
    "Thay điều kiện a[i]<a[i+1] trong bài dãy con tăng thông thường bằng điều kiện is_between(a[i+1], a[i], low, high)==False"
   ]
  },
  {
   "cell_type": "code",
   "execution_count": 4,
   "metadata": {},
   "outputs": [],
   "source": [
    "## Hàm tìm dãy con tăng\n",
    "def find_max_len(arr, low, high): # arr bắt đầu bằng phần tử [0,0]\n",
    "    # .....\n",
    "    return None"
   ]
  },
  {
   "cell_type": "markdown",
   "metadata": {},
   "source": [
    "## Main"
   ]
  },
  {
   "cell_type": "code",
   "execution_count": null,
   "metadata": {},
   "outputs": [],
   "source": [
    "arr, low, high = get_input()\n",
    "\n",
    "origin = [0,0]\n",
    "arr = sort([origin] + arr, low, high)\n",
    "print(arr)\n",
    "print(find_max_len(arr, low, high))"
   ]
  }
 ],
 "metadata": {
  "kernelspec": {
   "display_name": "Python 3",
   "language": "python",
   "name": "python3"
  },
  "language_info": {
   "codemirror_mode": {
    "name": "ipython",
    "version": 3
   },
   "file_extension": ".py",
   "mimetype": "text/x-python",
   "name": "python",
   "nbconvert_exporter": "python",
   "pygments_lexer": "ipython3",
   "version": "3.7.7"
  }
 },
 "nbformat": 4,
 "nbformat_minor": 4
}
