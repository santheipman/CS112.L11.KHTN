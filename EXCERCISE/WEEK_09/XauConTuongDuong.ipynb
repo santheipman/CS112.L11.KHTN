{
  "nbformat": 4,
  "nbformat_minor": 0,
  "metadata": {
    "colab": {
      "name": "XauConTuongDuong.ipynb",
      "provenance": [],
      "collapsed_sections": [],
      "include_colab_link": true
    },
    "kernelspec": {
      "display_name": "Python 3",
      "language": "python",
      "name": "python3"
    },
    "language_info": {
      "codemirror_mode": {
        "name": "ipython",
        "version": 3
      },
      "file_extension": ".py",
      "mimetype": "text/x-python",
      "name": "python",
      "nbconvert_exporter": "python",
      "pygments_lexer": "ipython3",
      "version": "3.7.7"
    }
  },
  "cells": [
    {
      "cell_type": "markdown",
      "metadata": {
        "id": "view-in-github",
        "colab_type": "text"
      },
      "source": [
        "<a href=\"https://colab.research.google.com/github/santheipman/CS112.L11.KHTN/blob/master/EXCERCISE/WEEK_09/XauConTuongDuong.ipynb\" target=\"_parent\"><img src=\"https://colab.research.google.com/assets/colab-badge.svg\" alt=\"Open In Colab\"/></a>"
      ]
    },
    {
      "cell_type": "markdown",
      "metadata": {
        "id": "Uq5n_LmrwDSx"
      },
      "source": [
        "<img src=\"https://www.uit.edu.vn/sites/vi/files/banner.png\" alt=\"UIT logo\" class=\"left\">\n",
        "<h1 align= \"center\">   <strong>     CS112.PHÂN TÍCH VÀ THIẾT KẾ THUẬT TOÁN</strong> </h1>\n",
        "\n",
        "\n"
      ]
    },
    {
      "cell_type": "markdown",
      "metadata": {
        "id": "U_Pca_MGyrHm"
      },
      "source": [
        "# **CS112.L11.KHTN**\n",
        "## **NHÓM 5**\n",
        "\n",
        "|  STT | HỌ TÊN             | MSSV     | VAI TRÒ     | LIÊN HỆ |\n",
        "|---|--------------------|-----------------|----------------|---------|\n",
        "|**1** | **VŨ QUÍ SAN**         | **18520143** | **NHÓM TRƯỞNG** |[**GitHub**](https://github.com/santheipman) **và** **Gmail**: 18520143@gm.uit.edu.vn          |\n",
        "| **2** | **PHẠM MẠNH TIẾN**     | **18520166**| **THÀNH VIÊN**  | [**GitHub**](https://github.com/tienpm) **và** **Gmail**: 18520166@gm.uit.edu.vn        |\n",
        "| **3** |**NGUYỄN VƯƠNG THỊNH** | **18520367** | **THÀNH VIÊN**  |  [**GitHub**](https://github.com/ThinhNguyen209) **và** **Gmail**: 18520367@gm.uit.edu.vn      |"
      ]
    },
    {
      "cell_type": "markdown",
      "metadata": {
        "id": "pGqnl3eMlXiy"
      },
      "source": [
        "## **Đề bài**\n",
        "\n",
        "### **XÂU CON TƯƠNG ĐƯƠNG (1s, 50M)**\n",
        "\n",
        "<p style=\"text-align:justify\"><span style=\"background-color:transparent; color:#000000\">Cho xâu </span><strong><em>s</em></strong><span style=\"background-color:transparent; color:#000000\"> chỉ chứa các ký tự la tinh thường độ dài </span><strong><em>n</em></strong><span style=\"background-color:transparent; color:#000000\"> không quá 10</span><sup><span style=\"background-color:transparent; color:#000000\">5</span></sup><span style=\"background-color:transparent; color:#000000\">. Ký hiệu </span><em><strong>s</strong>[<strong>i</strong>..<strong>j</strong>]</em><span style=\"background-color:transparent; color:#000000\"> là xâu con các ký tự liên tiếp nhau của <strong>s</strong> từ vị trí </span><strong><em>i</em></strong><span style=\"background-color:transparent; color:#000000\"> đến vị trí </span><em><strong>j</strong>.</em><span style=\"background-color:transparent; color:#000000\"> Hai xâu con </span><strong><em>x</em></strong><span style=\"background-color:transparent; color:#000000\"> = </span><em><strong>s</strong>[<strong>a</strong>..<strong>b</strong>]</em><span style=\"background-color:transparent; color:#000000\"> và </span><em><strong>y</strong> =</em><span style=\"background-color:transparent; color:#000000\"> </span><em><strong>s</strong>[<strong>c</strong>..<strong>d</strong>]</em><span style=\"background-color:transparent; color:#000000\"> được gọi là cùng một lớp tương đương nếu có cách đổi chỗ các ký tự trong một xâu để nhận được xâu kia. Các vị trí được đánh số từ 1 trở đi.</span></p>\n",
        "\n",
        "<p style=\"text-align:justify\"><span style=\"background-color:transparent; color:#000000\">Ví dụ với </span><strong><em>s</em></strong><span style=\"background-color:transparent; color:#000000\"> = “</span><em>abcbacaac</em><span style=\"background-color:transparent; color:#000000\">”, </span><em><strong>s</strong>[</em><strong>1</strong><em>..</em><strong>3</strong><em>]</em><span style=\"background-color:transparent; color:#000000\"> tương đương với </span><em><strong>s</strong>[</em><strong>4</strong><em>..</em><strong>6</strong><em>]</em><span style=\"background-color:transparent; color:#000000\">, còn </span><em><strong>s</strong>[</em><strong>1</strong><em>..</em><strong>3</strong><em>]</em><span style=\"background-color:transparent; color:#000000\"> không tương đương với </span><em><strong>s</strong>[</em><strong>5</strong><em>..</em><strong>7</strong><em>].</em></p>\n",
        "\n",
        "<p style=\"text-align:justify\"><span style=\"background-color:transparent; color:#000000\">Cho </span><strong><em>q</em></strong><span style=\"background-color:transparent; color:#000000\"> truy vấn, mỗi truy vấn là 4 số nguyên </span><strong><em>a</em></strong><span style=\"background-color:transparent; color:#000000\">, </span><strong><em>b</em></strong><span style=\"background-color:transparent; color:#000000\">, </span><strong><em>c</em></strong><span style=\"background-color:transparent; color:#000000\">, </span><strong><em>d</em></strong><span style=\"background-color:transparent; color:#000000\"> xác định các xâu con </span><strong><em>x</em></strong><span style=\"background-color:transparent; color:#000000\"> và </span><strong><em>y</em></strong><span style=\"background-color:transparent; color:#000000\">. Với mỗi truy vấn hãy xác định hai xâu con này có cùng một lớp tương đương hay không và đưa ra câu trả lời tương ứng “</span><em>YES</em><span style=\"background-color:transparent; color:#000000\">” hoặc “</span><em>NO</em><span style=\"background-color:transparent; color:#000000\">”.</span></p>\n",
        "\n",
        "<p style=\"text-align:justify\"><em>Dữ liệu:</em><span style=\"background-color:transparent; color:#000000\"> Vào từ thiết bị nhập chuẩn:</span></p>\n",
        "\n",
        "<ul>\n",
        "\t<li>\n",
        "\t<p style=\"text-align:justify\"><span style=\"background-color:transparent; color:#000000\">Dòng đầu tiên chứa xâu </span><strong><em>s</em></strong><span style=\"background-color:transparent; color:#000000\">,</span></p>\n",
        "\t</li>\n",
        "\t<li>\n",
        "\t<p style=\"text-align:justify\"><span style=\"background-color:transparent; color:#000000\">Dòng thứ 2 chứa số nguyên </span><strong><em>q</em></strong><span style=\"background-color:transparent; color:#000000\"> (1 ≤ &nbsp;</span><strong><em>q</em></strong><span style=\"background-color:transparent; color:#000000\"> &nbsp;≤ 10</span><sup><span style=\"background-color:transparent; color:#000000\">5</span></sup><span style=\"background-color:transparent; color:#000000\">),</span></p>\n",
        "\t</li>\n",
        "\t<li>\n",
        "\t<p style=\"text-align:justify\"><span style=\"background-color:transparent; color:#000000\">Mỗi dòng trong </span><em>q</em><span style=\"background-color:transparent; color:#000000\"> dòng tiếp theo chứa 4 số nguyên </span><strong><em>a</em></strong><span style=\"background-color:transparent; color:#000000\">, </span><strong><em>b</em></strong><span style=\"background-color:transparent; color:#000000\">, </span><strong><em>c</em></strong><span style=\"background-color:transparent; color:#000000\">, </span><strong><em>d</em></strong><span style=\"background-color:transparent; color:#000000\"> (1 ≤ </span><strong><em>a</em></strong><span style=\"background-color:transparent; color:#000000\"> ≤ </span><strong><em>b</em></strong><span style=\"background-color:transparent; color:#000000\"> ≤ </span><strong><em>n</em></strong><span style=\"background-color:transparent; color:#000000\">, 1 ≤ </span><strong><em>c</em></strong><span style=\"background-color:transparent; color:#000000\"> ≤ </span><strong><em>d</em></strong><span style=\"background-color:transparent; color:#000000\"> ≤ </span><strong><em>n</em></strong><span style=\"background-color:transparent; color:#000000\">).</span></p>\n",
        "\t</li>\n",
        "</ul>\n",
        "\n",
        "<p style=\"text-align:justify\"><em>Kết quả:</em><span style=\"background-color:transparent; color:#000000\"> Đưa ra thiết bị xuất chuẩn các câu trả lời xác định được cho mỗi truy vấn, mỗi câu trả lời trên một dòng.</span></p>\n",
        "\n",
        "<p style=\"text-align:justify\"><em>Dữ liệu mẫu:</em></p>\n",
        "\n",
        "|  Input | Output             |\n",
        "|---|--------------------|\n",
        "|abcbacaac<br>2<br>1 3 4 6<br>1 3 5 7 | YES<br>NO         |\n"
      ]
    },
    {
      "cell_type": "markdown",
      "metadata": {
        "id": "RM6YkI9nAXvO"
      },
      "source": [
        "## **1. Tóm tắt bài toán**"
      ]
    },
    {
      "cell_type": "markdown",
      "metadata": {
        "id": "DZ_ZHpmNlXi2"
      },
      "source": [
        "Cho xâu **s** và **q** truy vấn, mỗi truy vấn đưa vào 4 số nguyên **a, b, c, d** và yêu cầu kiểm tra xem xâu con từ **a** đến **b** có phải là hoán vị của xâu con từ **c** đến **d** hay không."
      ]
    },
    {
      "cell_type": "markdown",
      "metadata": {
        "id": "KMl_1yZt-t46"
      },
      "source": [
        "## **2. Nhận dạng mẫu (Pattern-Recognition)**"
      ]
    },
    {
      "cell_type": "markdown",
      "metadata": {
        "id": "MvKc6MnglXi5"
      },
      "source": [
        "Vì giới hạn thời gian chỉ là 1s cho nhiều nhất là $10^5$ truy vấn nên thời gian xử lý của mỗi truy vấn phải ngắn. Ở bài này ta có thể dùng phần lớn thời gian để tiền xử lí xâu ngay khi được nhập vào, rồi với mỗi truy vấn thì ta chỉ cần thực hiện thêm một chút xử lí dựa trên kết quả tiền xử lí đã thu được trước đó.\n",
        "\n",
        "Gọi:\n",
        "- $V_i$ là tập hợp các chữ cái có trong xâu $S_i$.\n",
        "- $count_{ij}$ là số lần chữ cái $j$ xuất hiện trong xâu $S_i$.\n",
        "\n",
        "Ta có:\n",
        "\n",
        "($S_1$ là một hoán vị của $S_2$) $\\Leftrightarrow$ (($V_1$ = $V_2$) và ($count_{1i} = count_{2i}, \\forall i \\in V_1$)) **(1)**\n",
        "\n",
        "Ví dụ:\n",
        "\n",
        "- $S_1$ = 'aabc' là một hoán vị của $S_2$ = 'baca', bởi vì $S_1$ và $S_2$ đều có 2 chữ a, 1 chữ b, và 1 chữ c.\n",
        "- $S_3$ = 'aaac' không phải là một hoán vị của $S_2$ = 'baca', bởi vì $S_3$ không có chứa chữ b nên không thể hoán vị trở thành $S_2$ được.\n",
        "\n",
        "Ta dùng vế phải của **(1)** làm điều kiện kiểm tra xem xâu $S_1$ có phải là một hoán vị của $S_2$ hay không.\n",
        "\n",
        "Ở bài này ta sẽ dùng kĩ thuật **Hashing**: kiểm tra xem hai tổng các hash value của các chữ cái của hai xâu có bằng nhau hay không, nếu có thì xâu này là hoán vị của xâu kia và ngược lại.\n",
        "\n",
        "Bên cạnh đó ta sử dụng thêm kĩ thuật **tổng tiền tố** nhằm mục đích với mỗi truy vấn được đưa vào thì ta có thể cho tính được tổng các hash value của các chữ cái trong một xâu một cách nhanh chóng."
      ]
    },
    {
      "cell_type": "markdown",
      "metadata": {
        "id": "DHEyVW9BlXi9"
      },
      "source": [
        "## **3. Thuật toán**\n",
        "\n",
        "### **3.1. Ý tưởng**\n",
        "\n",
        "- Ta duyệt từ đầu đến cuối xâu input $s$ để tạo mảng lưu tổng tiền tố $f$, với $f_i$ là tổng các hash value của các kí tự từ đầu xâu đến vị trí i.\n",
        "- Với một kí tự c, ta có $hashValue(c) = base^{order(c)}$, trong đó $order(c)$ là số thứ tự của kí tự $c$ trong bảng chữ cái alphabet, còn $base$ là một số nguyên đủ lớn để tổng các hash value của hai xâu khác nhau thì không bằng nhau (đối với bài này ta chọn $base = 3$ là đủ).\n",
        "- Lần lượt đọc vào các truy vấn, với mỗi truy vấn ta kiểm tra `f[b] - f[a-1] == f[d] - f[c-1]`, tức là kiểm tra xem hai tổng các hash value có bằng nhau hay không, nếu có thì xâu này là một hoán vị của xâu kia và ngược lại. \n",
        "\n",
        "### **3.2. Mã giả thuật toán**\n",
        "\n",
        "```pseudocode\n",
        "\n",
        "Initialize Suffix_sum[i] = 0 for all i\n",
        "for i = 1 -> n:\n",
        "    hash_value_i = Get hash value of s[i]\n",
        "    Suffix_sum[i] = Suffix_sum[i-1] + hash_value_i\n",
        "    \n",
        "for i = 1 -> q:\n",
        "    sum_hash_1 = Suffix_sum[b] - Suffix_sum[a-1]\n",
        "    sum_hash_2 = Suffix_sum[d] - Suffix_sum[c-1]\n",
        "    \n",
        "    if sum_hash_1 == sum_hash_2:\n",
        "        S1 is a permutation of S2\n",
        "    else:\n",
        "        S1 is not a permutation of S2\n",
        "```"
      ]
    },
    {
      "cell_type": "markdown",
      "metadata": {
        "id": "2QLVpwgwLB6z"
      },
      "source": [
        "## **4. Cài đặt**"
      ]
    },
    {
      "cell_type": "code",
      "metadata": {
        "id": "QXuzuI9clXjA",
        "outputId": "743762b5-68c6-433a-fe2c-e613e0ee295a"
      },
      "source": [
        "import sys\n",
        "\n",
        "def get_ints():\n",
        "    \"\"\"\n",
        "    Hàm giúp nhập các số a,b,c,d trong truy vấn nhanh hơn\n",
        "    khi chạy trên hệ thống Wecode\n",
        "    \"\"\"\n",
        "    return map(int, sys.stdin.readline().strip().split())\n",
        "\n",
        "def get_string():\n",
        "    \"\"\"\n",
        "    hàm giúp nhập xâu nhanh nhanh hơn\n",
        "    khi chạy trên hệ thống Wecode\n",
        "    \"\"\"\n",
        "    return sys.stdin.readline().strip()\n",
        " \n",
        "def get_hash_val(c):\n",
        "    \"\"\"\n",
        "    hàm tính giá trị hash của một kí tự\n",
        "    ví dụ:\n",
        "        c = 'a' -> return = 3 ^ 0\n",
        "        c = 'b' -> return = 3 ^ 1\n",
        "        c = 'c' -> return = 3 ^ 2\n",
        "        ...\n",
        "    \"\"\"\n",
        "    return 3 ** (ord(c) - 97)\n",
        "\n",
        "# s = get_string() # nhập xâu bằng lệnh này\n",
        "                   # để chạy nhanh hơn trên Wecocde\n",
        "s = input()\n",
        "\n",
        "q = int(input())\n",
        "\n",
        "# tạo mảng lưu tổng tiền tố\n",
        "f = [0]\n",
        "for i in range(len(s)):\n",
        "    f.append(f[i] + get_hash_val(s[i]))\n",
        "\n",
        "for _ in range(q):\n",
        "    # a, b, c, d = get_ints() # nhập 4 số nguyên bằng lệnh này\n",
        "                              # để chạy nhanh hơn trên Wecode\n",
        "    a, b, c, d = map(int, input().split())\n",
        "    \n",
        "    if (f[b] - f[a-1] == f[d] - f[c-1]):\n",
        "        print('YES')\n",
        "    else:\n",
        "        print('NO')"
      ],
      "execution_count": null,
      "outputs": [
        {
          "output_type": "stream",
          "text": [
            "abcbacaac\n",
            "2\n",
            "1 3 4 6\n",
            "YES\n",
            "1 3 5 7\n",
            "NO\n"
          ],
          "name": "stdout"
        }
      ]
    },
    {
      "cell_type": "markdown",
      "metadata": {
        "id": "MDpEYQJOLB7F"
      },
      "source": [
        "## **5. Kết quả trên Wecode**"
      ]
    },
    {
      "cell_type": "markdown",
      "metadata": {
        "id": "q8ElylpcLB7I"
      },
      "source": [
        "![wecode_res.jpg](data:image/png;base64,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)"
      ]
    }
  ]
}