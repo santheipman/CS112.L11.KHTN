{
  "nbformat": 4,
  "nbformat_minor": 0,
  "metadata": {
    "colab": {
      "name": "H_INDEX.ipynb",
      "provenance": [],
      "authorship_tag": "ABX9TyMy2YEsvmXC79UC63+COXUk",
      "include_colab_link": true
    },
    "kernelspec": {
      "name": "python3",
      "display_name": "Python 3"
    }
  },
  "cells": [
    {
      "cell_type": "markdown",
      "metadata": {
        "id": "view-in-github",
        "colab_type": "text"
      },
      "source": [
        "<a href=\"https://colab.research.google.com/github/santheipman/CS112.L11.KHTN/blob/master/EXCERCISE/WEEK_03/H_INDEX.ipynb\" target=\"_parent\"><img src=\"https://colab.research.google.com/assets/colab-badge.svg\" alt=\"Open In Colab\"/></a>"
      ]
    },
    {
      "cell_type": "markdown",
      "metadata": {
        "id": "sdLDc49ErUoq"
      },
      "source": [
        "<img src=\"https://www.uit.edu.vn/sites/vi/files/banner.png\" alt=\"UIT logo\" class=\"left\">\n",
        "<h1 align= \"center\">   <strong>     CS112.PHÂN TÍCH VÀ THIẾT KẾ THUẬT TOÁN</strong> </h1>\n",
        "\n",
        "\n"
      ]
    },
    {
      "cell_type": "markdown",
      "metadata": {
        "id": "Gob-oRNGrYkr"
      },
      "source": [
        "# **CS112.L11.KHTN**\n",
        "## **NHÓM 5**\n",
        "\n",
        "|  STT | HỌ TÊN             | MSSV     | VAI TRÒ     | LIÊN HỆ |\n",
        "|---|--------------------|-----------------|----------------|---------|\n",
        "|**1** | **VŨ QUÍ SAN**         | **18520143** | **NHÓM TRƯỞNG** |[**GitHub**](https://github.com/santheipman) **và** [**Gmail**](mailto:18520143@gm.uit.edu.vn)          |\n",
        "| **2** | **PHẠM MẠNH TIẾN**     | **18520166**| **THÀNH VIÊN**  | [**GitHub**](https://github.com/tienpm) **và** [**Gmail**](mailto:18520166@gm.uit.edu.vn)        |\n",
        "| **3** |**NGUYỄN VƯƠNG THỊNH** | **18520367** | **THÀNH VIÊN**  |  [**GitHub**](https://github.com/ThinhNguyen209) **và** [**Gmail**](18520367@gm.uit.edu.vn)      |"
      ]
    },
    {
      "cell_type": "markdown",
      "metadata": {
        "id": "9QuTelJYrvAk"
      },
      "source": [
        "##**ĐỀ BÀI**"
      ]
    },
    {
      "cell_type": "markdown",
      "metadata": {
        "id": "0VfI-8h9r0KV"
      },
      "source": [
        "Làm thế nào để đánh giá sự thành công của một nhà khoa học?  Dựa vào số bài báo được công bố hay dựa vào số lần một bài báo được trích dẫn tới ở công trình của những người khác? Cả hai tham số đó đều quan trọng.\n",
        "\n",
        "Một bài báo có điểm số trích dẫn là **c** nếu nó được trích dẫn tới **c** lần trong các công trình của những nhà khoa học khác. Một trong số các cách đánh giá sự thành công của một nhà khoa học là tính chỉ số ảnh hưởng ***H_Index*** dựa trên sự kết hợp giữa số lượng bài báo và chỉ số trích dẫn của các bài báo đó.\n",
        "\n",
        "Chỉ số ***H_Index*** của một nhà khoa học bằng **k** lớn nhất nếu người đó có **k** bài báo, mỗi bài có điểm số trích dẫn không nhỏ hơn **k**. Ví dụ, một người có 10 bài báo, mỗi bài báo được trích dẫn không dưới 10 lần thì ***H_Index*** của người đó ít nhất là bằng 10.\n",
        "\n",
        "Một người có **n** bài báo, bài báo thứ **i** có điểm trích dẫn là $c_i, i = 1 ÷ n$. Hãy xác định ***H_Index*** của người đó.\n",
        "\n",
        "***Dữ liệu:*** Vào từ thiết bị nhập chuẩn:\n",
        "\n",
        "Dòng đầu tiên chứa một số nguyên $n (1 ≤ n ≤ 5×10^5)$,\n",
        "Dòng thứ 2 chứa n số nguyên $c_1, c_2, . . ., c_n (0 ≤ c_i ≤ 106, i = 1 ÷ n)$.\n",
        "\n",
        "***Kết quả:*** Đưa ra thiết bị xuất chuẩn một số nguyên – ***H_Index*** tìm được.\n",
        "\n",
        "***Ví dụ:***"
      ]
    },
    {
      "cell_type": "markdown",
      "metadata": {
        "id": "aGd1CvOttNfy"
      },
      "source": [
        "![image.png](data:image/png;base64,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)"
      ]
    },
    {
      "cell_type": "markdown",
      "metadata": {
        "id": "nHV5_HFKtRoq"
      },
      "source": [
        "##**1.TÓM TẮT BÀI TOÁN**\n",
        "\n",
        "Cho dãy gồm $n$ phần tử. Tìm $k_{max}$ với $k$ là số phần tử trog dãy mang giá trị lớn hơn hoặc bằng $k$"
      ]
    },
    {
      "cell_type": "markdown",
      "metadata": {
        "id": "W0hc_pw4tdnR"
      },
      "source": [
        "##**2.NHẬN DẠNG MẪU**\n",
        "Đếm số phần tử trong mảng theo điều kiện. Trong bài toán này thì giá trị của các phần tử lớn hơn hoặc bằng $k$"
      ]
    },
    {
      "cell_type": "markdown",
      "metadata": {
        "id": "gotf5ZG9tj1Z"
      },
      "source": [
        "##**3.THUẬT TOÁN**\n",
        "\n",
        "\n",
        "```\n",
        "sort the array in increasing order\n",
        "loop the array\n",
        "the remain numbers of element is H-index\n",
        "\n",
        "\n",
        "```\n",
        "\n"
      ]
    },
    {
      "cell_type": "markdown",
      "metadata": {
        "id": "3YCGy_2HtpaV"
      },
      "source": [
        "##**4.CÀI ĐẶT**\n",
        "\n",
        "\n",
        "\n"
      ]
    },
    {
      "cell_type": "code",
      "metadata": {
        "id": "7F62zz_i0yig",
        "outputId": "2f4f2a62-7494-48db-b480-9e7d55c1d467",
        "colab": {
          "base_uri": "https://localhost:8080/",
          "height": 68
        }
      },
      "source": [
        "n = int(input())\n",
        "a = [int(x) for x in input().split()]\n",
        "\n",
        "a.sort()\n",
        "\n",
        "k = n\n",
        "while k > 0:\n",
        "    if a[n-k] >= k:\n",
        "        break\n",
        "    k -= 1\n",
        "\n",
        "print(k)"
      ],
      "execution_count": 2,
      "outputs": [
        {
          "output_type": "stream",
          "text": [
            "5\n",
            "8 5 3 4 10\n",
            "4\n"
          ],
          "name": "stdout"
        }
      ]
    },
    {
      "cell_type": "markdown",
      "metadata": {
        "id": "rvyElL_HtvKu"
      },
      "source": [
        "##**5.KẾT QUẢ TRÊN WECODE**\n",
        "![image.png](data:image/png;base64,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)"
      ]
    }
  ]
}