{
  "nbformat": 4,
  "nbformat_minor": 0,
  "metadata": {
    "colab": {
      "name": "SUM3.ipynb",
      "provenance": [],
      "collapsed_sections": [],
      "authorship_tag": "ABX9TyNR4ZCiFv385+igvRN/ns0Q",
      "include_colab_link": true
    },
    "kernelspec": {
      "name": "python3",
      "display_name": "Python 3"
    }
  },
  "cells": [
    {
      "cell_type": "markdown",
      "metadata": {
        "id": "view-in-github",
        "colab_type": "text"
      },
      "source": [
        "<a href=\"https://colab.research.google.com/github/santheipman/CS112.L11.KHTN/blob/master/EXCERCISE/WEEK_03/SUM3.ipynb\" target=\"_parent\"><img src=\"https://colab.research.google.com/assets/colab-badge.svg\" alt=\"Open In Colab\"/></a>"
      ]
    },
    {
      "cell_type": "markdown",
      "metadata": {
        "id": "f4NDQjgFr6s0"
      },
      "source": [
        "<img src=\"https://www.uit.edu.vn/sites/vi/files/banner.png\" alt=\"UIT logo\" class=\"left\">\n",
        "<h1 align= \"center\">   <strong>     CS112.PHÂN TÍCH VÀ THIẾT KẾ THUẬT TOÁN</strong> </h1>\n",
        "\n",
        "\n"
      ]
    },
    {
      "cell_type": "markdown",
      "metadata": {
        "id": "NyAD7kF2r0bp"
      },
      "source": [
        "#**CS112.L11.KHTN**\n",
        "## **NHÓM 5**\n",
        "\n",
        "|  STT | HỌ TÊN             | MSSV     | VAI TRÒ     | LIÊN HỆ |\n",
        "|---|--------------------|-----------------|----------------|---------|\n",
        "|**1** | **VŨ QUÍ SAN**         | **18520143** | **NHÓM TRƯỞNG** |[**GitHub**](https://github.com/santheipman) **và** [**Gmail**](mailto:18520143@gm.uit.edu.vn)          |\n",
        "| **2** | **PHẠM MẠNH TIẾN**     | **18520166**| **THÀNH VIÊN**  | [**GitHub**](https://github.com/tienpm) **và** [**Gmail**](mailto:18520166@gm.uit.edu.vn)        |\n",
        "| **3** |**NGUYỄN VƯƠNG THỊNH** | **18520367** | **THÀNH VIÊN**  |  [**GitHub**](https://github.com/ThinhNguyen209) **và** [**Gmail**](mailto:18520367@gm.uit.edu.vn)      |"
      ]
    },
    {
      "cell_type": "markdown",
      "metadata": {
        "id": "q-nkPebMr4Xx"
      },
      "source": [
        "# **SUM3 - TÓM TẮT BÀI GIẢNG BUỔI 3**"
      ]
    },
    {
      "cell_type": "markdown",
      "metadata": {
        "id": "qnWS1o-gr9hb"
      },
      "source": [
        "##**TÓM TẮT**"
      ]
    },
    {
      "cell_type": "markdown",
      "metadata": {
        "id": "odL2-X05sYI2"
      },
      "source": [
        "* Điểm danh\n",
        "* Hướng dẫn giải bài đếm sao\n",
        "* Đặt lịch seminar cho các nhóm"
      ]
    },
    {
      "cell_type": "markdown",
      "metadata": {
        "id": "3fX2s67OsON3"
      },
      "source": [
        "##**GHI CHÚ**\n",
        "* Cập nhật lại bài Computational Thinking"
      ]
    },
    {
      "cell_type": "markdown",
      "metadata": {
        "id": "KqEWD9K_sTfO"
      },
      "source": [
        "##**THẢO LUẬN**\n",
        "* Cùng code bài đếm sao\n",
        "* Phân công công việc tuần sau"
      ]
    }
  ]
}