{
  "nbformat": 4,
  "nbformat_minor": 0,
  "metadata": {
    "colab": {
      "name": "SUM4.ipynb",
      "provenance": [],
      "authorship_tag": "ABX9TyMCAxAqjVM9LmZrbIlyZa6o",
      "include_colab_link": true
    },
    "kernelspec": {
      "name": "python3",
      "display_name": "Python 3"
    }
  },
  "cells": [
    {
      "cell_type": "markdown",
      "metadata": {
        "id": "view-in-github",
        "colab_type": "text"
      },
      "source": [
        "<a href=\"https://colab.research.google.com/github/santheipman/CS112.L11.KHTN/blob/master/EXCERCISE/WEEK_04/SUM4.ipynb\" target=\"_parent\"><img src=\"https://colab.research.google.com/assets/colab-badge.svg\" alt=\"Open In Colab\"/></a>"
      ]
    },
    {
      "cell_type": "markdown",
      "metadata": {
        "id": "2PkxDODjjLF5"
      },
      "source": [
        "<img src=\"https://www.uit.edu.vn/sites/vi/files/banner.png\" alt=\"UIT logo\" class=\"left\">\n",
        "<h1 align= \"center\">   <strong>     CS112.PHÂN TÍCH VÀ THIẾT KẾ THUẬT TOÁN</strong> </h1>\n",
        "\n",
        "\n"
      ]
    },
    {
      "cell_type": "markdown",
      "metadata": {
        "id": "OxS_sYEgkgn9"
      },
      "source": [
        "#**CS112.L11.KHTN**\n",
        "## **NHÓM 5**\n",
        "\n",
        "|  STT | HỌ TÊN             | MSSV     | VAI TRÒ     | LIÊN HỆ |\n",
        "|---|--------------------|-----------------|----------------|---------|\n",
        "|**1** | **VŨ QUÍ SAN**         | **18520143** | **NHÓM TRƯỞNG** |[**GitHub**](https://github.com/santheipman) **và** [**Gmail**](mailto:18520143@gm.uit.edu.vn)          |\n",
        "| **2** | **PHẠM MẠNH TIẾN**     | **18520166**| **THÀNH VIÊN**  | [**GitHub**](https://github.com/tienpm) **và** [**Gmail**](mailto:18520166@gm.uit.edu.vn)        |\n",
        "| **3** |**NGUYỄN VƯƠNG THỊNH** | **18520367** | **THÀNH VIÊN**  |  [**GitHub**](https://github.com/ThinhNguyen209) **và** [**Gmail**](mailto:18520367@gm.uit.edu.vn)      |"
      ]
    },
    {
      "cell_type": "markdown",
      "metadata": {
        "id": "vRWHcAn0khkO"
      },
      "source": [
        "# **SUM4 - TÓM TẮT BÀI GIẢNG BUỔI 4**"
      ]
    },
    {
      "cell_type": "markdown",
      "metadata": {
        "id": "h7HINJ9bkmD9"
      },
      "source": [
        "##**TÓM TẮT**\n",
        "* Hướng dẫn làm bài hệ thống cấp nước\n",
        "* Seminar(chủ đề: Testing)\n",
        "* Đặt câu hỏi"
      ]
    },
    {
      "cell_type": "markdown",
      "metadata": {
        "id": "hnmFNok8lJSQ"
      },
      "source": [
        "##**GHI CHÚ**\n",
        "* Không nên đặt câu hỏi yes/no\n",
        "* Câu hỏi có thể mở rộng ngoài phạm vi của seminar"
      ]
    },
    {
      "cell_type": "markdown",
      "metadata": {
        "id": "BVX1QfBilOZR"
      },
      "source": [
        "##**THẢO LUẬN**\n",
        "* Đặt cậu hỏi cho nhóm thuyết trình\n",
        "* Cùng code bài tập\n",
        "* Phân công công việc tuần sau"
      ]
    }
  ]
}