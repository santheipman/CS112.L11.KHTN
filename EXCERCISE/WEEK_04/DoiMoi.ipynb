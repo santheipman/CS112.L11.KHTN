{
  "nbformat": 4,
  "nbformat_minor": 0,
  "metadata": {
    "colab": {
      "name": "DoiMoi.ipynb",
      "provenance": [],
      "collapsed_sections": [],
      "include_colab_link": true
    },
    "kernelspec": {
      "display_name": "Python 3",
      "language": "python",
      "name": "python3"
    },
    "language_info": {
      "codemirror_mode": {
        "name": "ipython",
        "version": 3
      },
      "file_extension": ".py",
      "mimetype": "text/x-python",
      "name": "python",
      "nbconvert_exporter": "python",
      "pygments_lexer": "ipython3",
      "version": "3.7.7"
    }
  },
  "cells": [
    {
      "cell_type": "markdown",
      "metadata": {
        "id": "view-in-github",
        "colab_type": "text"
      },
      "source": [
        "<a href=\"https://colab.research.google.com/github/santheipman/CS112.L11.KHTN/blob/master/EXCERCISE/WEEK_04/DoiMoi.ipynb\" target=\"_parent\"><img src=\"https://colab.research.google.com/assets/colab-badge.svg\" alt=\"Open In Colab\"/></a>"
      ]
    },
    {
      "cell_type": "markdown",
      "metadata": {
        "id": "Uq5n_LmrwDSx"
      },
      "source": [
        "<img src=\"https://www.uit.edu.vn/sites/vi/files/banner.png\" alt=\"UIT logo\" class=\"left\">\n",
        "<h1 align= \"center\">   <strong>     CS112.PHÂN TÍCH VÀ THIẾT KẾ THUẬT TOÁN</strong> </h1>\n",
        "\n",
        "\n"
      ]
    },
    {
      "cell_type": "markdown",
      "metadata": {
        "id": "U_Pca_MGyrHm"
      },
      "source": [
        "# **CS112.L11.KHTN**\n",
        "## **NHÓM 5**\n",
        "\n",
        "|  STT | HỌ TÊN             | MSSV     | VAI TRÒ     | LIÊN HỆ |\n",
        "|---|--------------------|-----------------|----------------|---------|\n",
        "|**1** | **VŨ QUÍ SAN**         | **18520143** | **NHÓM TRƯỞNG** |[**GitHub**](https://github.com/santheipman) **và** **Gmail**: 18520143@gm.uit.edu.vn          |\n",
        "| **2** | **PHẠM MẠNH TIẾN**     | **18520166**| **THÀNH VIÊN**  | [**GitHub**](https://github.com/tienpm) **và** **Gmail**: 18520166@gm.uit.edu.vn        |\n",
        "| **3** |**NGUYỄN VƯƠNG THỊNH** | **18520367** | **THÀNH VIÊN**  |  [**GitHub**](https://github.com/ThinhNguyen209) **và** **Gmail**: 18520367@gm.uit.edu.vn      |"
      ]
    },
    {
      "cell_type": "markdown",
      "metadata": {
        "id": "RJZRRRrvAX8p"
      },
      "source": [
        "\n",
        "## **Đề bài**\n",
        "\n",
        "### **Đổi Mới**\n",
        "\n",
        "<p style=\"text-align:justify\">Thành phố quyết định chặt hạ hết <strong><em>n</em></strong> cây xanh hiện có trong thành phố để trồng chỉ một loại cây mới. Nhiệm vụ được giao cho Công ty Cây xanh thành phố. Do hạn chế về thiết bị Công ty chỉ tổ chức được 2 đội đốn hạ cây. Đội I hạ được <strong><em>a</em></strong> cây mỗi ngày, nhưng cứ mối ngày thứ <strong><em>k</em></strong> thì phải nghỉ để bảo dưỡng kỹ thuật, tức là đội I sẽ nghỉ vào các ngày <strong><em>k</em></strong>, 2<strong><em>k</em></strong>, 3<strong><em>k</em></strong>, . . . Đội II hạ được <strong><em>b</em></strong> cây mỗi ngày, nhưng cứ mỗi ngày thứ <strong><em>m</em></strong> thì phải nghỉ để bảo dưỡng kỹ thuật, tức là đội II sẽ nghỉ vào các ngày <strong><em>m</em></strong>, 2<strong><em>m</em></strong>, 3<strong><em>m</em></strong>, . . . Ở ngày nghỉ, số cây chặt hạ của đội sẽ là 0. Cả hai đội bắt đầu công việc vào cùng một ngày và làm việc song song với nhau.</p>\n",
        "\n",
        "<p style=\"text-align:justify\">Công việc trồng cây mới sẽ bắt đầu sau khi toàn bộ cây cũ đã bị đốn hạ.</p>\n",
        "\n",
        "<p style=\"text-align:justify\">Hãy xác định sau bao nhiêu ngày thì có thể bắt đầu việc trồng mới cây.</p>\n",
        "\n",
        "<p style=\"text-align:justify\"><strong><em>Dữ liệu:</em></strong> Vào từ thiết bị nhập chuẩn gồm một dòng chứa 5 số nguyên <strong><em>a</em></strong>, <strong><em>k</em></strong>, <strong><em>b</em></strong>, <strong><em>m</em></strong> và <strong><em>n</em></strong> (1 ≤ <strong><em>a</em></strong>, <strong><em>b</em></strong> ≤ 10<sup>9</sup>, 2 ≤ <strong><em>k</em></strong>, <strong><em>m</em></strong> ≤ 10<sup>18</sup>, 1 ≤ <strong><em>n</em></strong> ≤ 10<sup>18</sup>).</p>\n",
        "\n",
        "<p style=\"text-align:justify\"><strong><em>Kết quả:</em></strong> Đưa ra thiết bị xuất chuẩn một số nguyên – số ngày tính được.</p>\n",
        "\n",
        "<p style=\"text-align:justify\"><strong><em>Ví dụ:</em></strong></p>\n",
        "\n",
        "<table style=\"border-collapse:collapse\" cellspacing=\"0\" cellpadding=\"5\" bordercolor=\"#ccc\" border=\"1\">\n",
        "\t<tbody>\n",
        "\t\t<tr>\n",
        "\t\t\t<td style=\"background-color:#ffffcc; width:108.0pt\">\n",
        "\t\t\t<p style=\"text-align:center\"><strong><tt>INPUT</tt></strong></p>\n",
        "\t\t\t</td>\n",
        "\t\t\t<td style=\"vertical-align:top; width:40.5pt\">\n",
        "\t\t\t<p style=\"text-align:center\">&nbsp;</p>\n",
        "\t\t\t</td>\n",
        "\t\t\t<td style=\"background-color:#ffffcc; width:121.5pt\">\n",
        "\t\t\t<p style=\"text-align:center\"><strong><tt>OUTPUT</tt></strong></p>\n",
        "\t\t\t</td>\n",
        "\t\t</tr>\n",
        "\t\t<tr>\n",
        "\t\t\t<td style=\"background-color:#ffffcc; height:16.6pt; width:108.0pt\">\n",
        "\t\t\t<p><tt><strong><span style=\"color:black\">2 4 3 3 25 </span></strong></tt></p>\n",
        "\t\t\t</td>\n",
        "\t\t\t<td style=\"height:16.6pt; vertical-align:top; width:40.5pt\">\n",
        "\t\t\t<p>&nbsp;</p>\n",
        "\t\t\t</td>\n",
        "\t\t\t<td style=\"background-color:#ffffcc; height:16.6pt; width:121.5pt\">\n",
        "\t\t\t<p><tt><strong>7</strong></tt></p>\n",
        "\t\t\t</td>\n",
        "\t\t</tr>\n",
        "\t</tbody>\n",
        "</table>\n",
        "\n",
        "\t\t"
      ]
    },
    {
      "cell_type": "markdown",
      "metadata": {
        "id": "RM6YkI9nAXvO"
      },
      "source": [
        "## **1. Tóm tắt bài toán**"
      ]
    },
    {
      "cell_type": "markdown",
      "metadata": {
        "id": "PsDSXYQ1LB6g"
      },
      "source": [
        "Cho các số nguyên $a$, $k$, $b$, $m$, $n$, tìm số nguyên $x$ nhỏ nhất sao cho:\n",
        "$$S(x) = a \\times (x - \\lfloor \\frac{x}{k} \\rfloor) + b \\times (x - \\lfloor \\frac{x}{m} \\rfloor) \\geqslant n$$"
      ]
    },
    {
      "cell_type": "markdown",
      "metadata": {
        "id": "ysm95yjiLB6j"
      },
      "source": [
        "Giải thích:\n",
        "- Gọi $x$ là số ngày thực hiện việc chặt cây (tính cả ngày nghỉ)\n",
        "- Vì đội $I$ nghỉ vào các ngày $k$, $2k$, $3k$, ... nên cứ $x$ ngày thì đội $I$ nghỉ $\\lfloor \\frac{x}{k} \\rfloor$. ngày. Do đó trong $x$ ngày thì số ngày đội $I$ thực sự làm việc là $x - \\lfloor \\frac{x}{k} \\rfloor$.\n",
        "- Tương tự, trong $x$ ngày thì số ngày đội $II$ thực sự làm việc là $x - \\lfloor \\frac{x}{m} \\rfloor$.\n",
        "- Như vậy số cây cả hai đội chặt được sau $x$ ngày là $S(x) = a \\times (x - \\lfloor \\frac{x}{k} \\rfloor) + b \\times (x - \\lfloor \\frac{x}{m} \\rfloor)$.\n",
        "- $S(x)$ tăng dần (hoặc giữ nguyên vào ngày cả hai đội cùng nghỉ) khi $x$ tăng. Công việc chặt cây kết thúc khi số cây chặt được $S(x)$ bắt đầu lớn hơn hoặc bằng số cây cần chặt $n$."
      ]
    },
    {
      "cell_type": "markdown",
      "metadata": {
        "id": "KMl_1yZt-t46"
      },
      "source": [
        "## **2. Nhận dạng mẫu (Pattern-Recognition)**"
      ]
    },
    {
      "cell_type": "markdown",
      "metadata": {
        "id": "0w2HrkDyLB6v"
      },
      "source": [
        "**Thuật toán $O(n)$**\n",
        "\n",
        "Ta có thể thay $x$ bằng các giá trị $1,2,3,...$ từ nhỏ đến lớn vào $S(x)$ đến khi nào thỏa $S(x) \\geqslant n$. Giá trị đầu tiên thỏa điều kiện chính là giá trị nhỏ nhất của $x$ cần tìm.\n",
        "\n",
        "**Thuật toán $O(log(n))$**\n",
        "\n",
        "Ta nhận thấy rằng tổng số cây chặt được $S(x)$ không giảm sau mỗi ngày, hay nói cách khác hàm $S(x)$ là hàm không giảm, do đó ta có thể sử dụng ***tìm kiếm nhị phân*** để tìm ra $x$ nhỏ nhất thỏa điều kiện."
      ]
    },
    {
      "cell_type": "markdown",
      "metadata": {
        "id": "TaBvCdRwLB6x"
      },
      "source": [
        "## **3. Thuật toán**\n",
        "\n",
        "### **3.1. Ý tưởng**\n",
        "\n",
        "Sử dụng tìm kiếm nhị phân:\n",
        "- Khởi tạo `low`, `high` là đoạn ta cần tìm.\n",
        "- Nếu `S[mid]` $\\geqslant$ $n$ (với `mid` là vị trí giữa của đoạn từ `low` đến `high`) thì ta tiếp tục tìm trong đoạn từ `low` đến `mid` (bởi vì mục đích là đi tìm tổng nhỏ nhất thỏa điều kiện), ngược lại nếu `S[mid]` $<$ $n$ tức là các phần tử từ `low` đến `mid` đều không thỏa thì ta tiếp tục tìm trong đoạn từ `mid + 1` đến `high`.\n",
        "\n",
        "Độ phức tạp thuật toán là $\\mathbf{O(log(n))}$\n",
        "\n",
        "### **3.2. Mã giả thuật toán**\n",
        "\n",
        "```pseudocode\n",
        "initialize low, high\n",
        "loop:\n",
        "    mid = (low + high) / 2\n",
        "    if S(mid) >= n:\n",
        "        find low->mid\n",
        "    else:\n",
        "        find (mid+1)->high\n",
        "```"
      ]
    },
    {
      "cell_type": "markdown",
      "metadata": {
        "id": "2QLVpwgwLB6z"
      },
      "source": [
        "## **4. Cài đặt**"
      ]
    },
    {
      "cell_type": "code",
      "metadata": {
        "id": "woQXFchnLB62",
        "outputId": "24754813-54eb-4f1d-a175-aa18e3a5c506"
      },
      "source": [
        "# Nhập input\n",
        "a, k, b, m, n = [int(x) for x in input().split()]\n",
        "\n",
        "\n",
        "def S(x):\n",
        "    \"\"\"\n",
        "    Tính số cây S(x) hai đội chặt được sau x ngày\n",
        "    \"\"\"\n",
        "    \n",
        "    return a * (x - x//k) + b * (x - x//m)\n",
        "\n",
        "\n",
        "res = -1\n",
        "low = 0\n",
        "high = int(1e18)\n",
        "\n",
        "# tìm kiếm nhị phân\n",
        "while low <= high:\n",
        "    mid = (low + high) //2\n",
        "    if S(mid) >= n:  # nếu S(mid) thỏa thì tìm tiếp đoạn [low, mid-1]\n",
        "                     # bởi vì ta đang muốn tìm S(x) nhỏ nhất thỏa S(x) >= n\n",
        "        res = mid\n",
        "        high = mid - 1\n",
        "    else:            # S(mid) không thỏa nghĩa là đoạn [low, mid] đều\n",
        "                     # không thỏa, vì vậy ta tìm tiếp trong đoạn [mid+1, high]\n",
        "        low = mid + 1\n",
        "\n",
        "print(res)"
      ],
      "execution_count": null,
      "outputs": [
        {
          "output_type": "stream",
          "text": [
            "2 4 3 3 25\n",
            "7\n"
          ],
          "name": "stdout"
        }
      ]
    },
    {
      "cell_type": "markdown",
      "metadata": {
        "id": "MDpEYQJOLB7F"
      },
      "source": [
        "## **5. Kết quả trên Wecode**"
      ]
    },
    {
      "cell_type": "markdown",
      "metadata": {
        "id": "q8ElylpcLB7I"
      },
      "source": [
        "![wecode_doimoi.jpg](data:image/png;base64,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)"
      ]
    }
  ]
}