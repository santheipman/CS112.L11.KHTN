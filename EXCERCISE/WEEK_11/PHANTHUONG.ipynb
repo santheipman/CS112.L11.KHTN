{
  "nbformat": 4,
  "nbformat_minor": 0,
  "metadata": {
    "colab": {
      "name": "PHANTHUONG.ipynb",
      "provenance": [],
      "collapsed_sections": [
        "DHEyVW9BlXi9"
      ],
      "include_colab_link": true
    },
    "kernelspec": {
      "display_name": "Python 3",
      "language": "python",
      "name": "python3"
    },
    "language_info": {
      "codemirror_mode": {
        "name": "ipython",
        "version": 3
      },
      "file_extension": ".py",
      "mimetype": "text/x-python",
      "name": "python",
      "nbconvert_exporter": "python",
      "pygments_lexer": "ipython3",
      "version": "3.7.7"
    }
  },
  "cells": [
    {
      "cell_type": "markdown",
      "metadata": {
        "id": "view-in-github",
        "colab_type": "text"
      },
      "source": [
        "<a href=\"https://colab.research.google.com/github/santheipman/CS112.L11.KHTN/blob/master/EXCERCISE/WEEK_11/PHANTHUONG.ipynb\" target=\"_parent\"><img src=\"https://colab.research.google.com/assets/colab-badge.svg\" alt=\"Open In Colab\"/></a>"
      ]
    },
    {
      "cell_type": "markdown",
      "metadata": {
        "id": "Uq5n_LmrwDSx"
      },
      "source": [
        "<img src=\"https://www.uit.edu.vn/sites/vi/files/banner.png\" alt=\"UIT logo\" class=\"left\">\n",
        "<h1 align= \"center\">   <strong>     CS112.PHÂN TÍCH VÀ THIẾT KẾ THUẬT TOÁN</strong> </h1>\n",
        "\n",
        "\n"
      ]
    },
    {
      "cell_type": "markdown",
      "metadata": {
        "id": "U_Pca_MGyrHm"
      },
      "source": [
        "# **CS112.L11.KHTN**\n",
        "## **NHÓM 5**\n",
        "\n",
        "|  STT | HỌ TÊN             | MSSV     | VAI TRÒ     | LIÊN HỆ |\n",
        "|---|--------------------|-----------------|----------------|---------|\n",
        "|**1** | **VŨ QUÍ SAN**         | **18520143** | **NHÓM TRƯỞNG** |[**GitHub**](https://github.com/santheipman) **và** **Gmail**: 18520143@gm.uit.edu.vn          |\n",
        "| **2** | **PHẠM MẠNH TIẾN**     | **18520166**| **THÀNH VIÊN**  | [**GitHub**](https://github.com/tienpm) **và** **Gmail**: 18520166@gm.uit.edu.vn        |\n",
        "| **3** |**NGUYỄN VƯƠNG THỊNH** | **18520367** | **THÀNH VIÊN**  |  [**GitHub**](https://github.com/ThinhNguyen209) **và** **Gmail**: 18520367@gm.uit.edu.vn      |"
      ]
    },
    {
      "cell_type": "markdown",
      "metadata": {
        "id": "pGqnl3eMlXiy"
      },
      "source": [
        "## **ĐỀ BÀI**\n",
        "\n",
        "### **PHẦN THƯỞNG**\n",
        "\n",
        "<p style=\"text-align:justify\">Harry v&agrave; Hermione thắng cuộc trong một tr&ograve; chơi truyền h&igrave;nh v&agrave; b&acirc;y giờ l&agrave; giai đoạn trao thưởng. Quy tắc trao thưởng l&agrave; như sau: c&oacute; <strong><em>n</em></strong> phần thưởng xếp th&agrave;nh một h&agrave;ng d&agrave;i, đ&aacute;nh số từ 1 đến <strong><em>n</em></strong>. T&ugrave;y thuộc v&agrave;o số điểm đ&atilde; đạt được của cặp chơi, người dẫn chương tr&igrave;nh sẽ n&oacute;i một số <strong><em>k</em></strong> (1 &le; <strong><em>k</em></strong> &le; <strong><em>n</em></strong>/3). Một người chơi sẽ chọn cho m&igrave;nh <strong><em>k</em></strong> phần thưởng xếp li&ecirc;n tiếp nhau, người thứ hai cũng sẽ chọn cho m&igrave;nh <strong><em>k</em></strong> phần thưởng xếp li&ecirc;n tiếp nhau <em>trong số c&ograve;n lại</em>. Hermione l&agrave; nữ n&ecirc;n được ưu ti&ecirc;n chọn trước.</p>\n",
        "\n",
        "<p style=\"text-align:justify\">Tr&ograve; chơi đ&atilde; kết th&uacute;c. B&acirc;y giờ kh&ocirc;ng cần phải đồng t&acirc;m hiệp lực. Hermione vẫn c&ograve;n rất giận Harry về một c&acirc;u n&oacute;i v&ocirc; t&acirc;m m&agrave; chắc b&acirc;y giờ Harry cũng kh&ocirc;ng nhớ l&agrave; m&igrave;nh n&oacute;i c&aacute;i g&igrave; v&agrave; khi n&agrave;o. Hermione hiểu rất r&otilde; gi&aacute; trị mỗi phần thưởng đối với Harry, cụ thể l&agrave; phần thưởng thứ <strong><em>i</em></strong> sẽ c&oacute; gi&aacute; trị <strong><em>a<sub>i</sub></em></strong>, <strong><em>i</em></strong>= 1 &divide; <strong><em>n</em></strong> v&agrave; quyết định c&aacute;ch chọn của m&igrave;nh sao cho tổng gi&aacute; trị phần thưởng m&agrave; Harry c&oacute; thể đạt được c&agrave;ng nhỏ c&agrave;ng tốt. Về tổng gi&aacute; trị phần thưởng của m&igrave;nh, Hermione kh&ocirc;ng mảy may quan t&acirc;m!</p>\n",
        "\n",
        "<p style=\"text-align:justify\">H&atilde;y x&aacute;c định <strong><em>x</em></strong> &ndash; tổng nhỏ nhất gi&aacute; trị phần thưởng m&agrave; Hermione c&oacute; thể chọn để Harry kh&ocirc;ng c&oacute; c&aacute;ch chọn phần thưởng với tổng gi&aacute; trị lớn hơn <strong><em>x</em></strong>.</p>\n",
        "\n",
        "<p style=\"text-align:justify\"><strong><em>Dữ liệu:</em></strong> V&agrave;o từ thiết bị nhập chuẩn:</p>\n",
        "\n",
        "<ul>\n",
        "\t<li style=\"text-align:justify\">D&ograve;ng đầu ti&ecirc;n chứa 2 số nguy&ecirc;n <strong><em>n</em></strong> v&agrave; <strong><em>k</em></strong> (3 &le; <strong><em>n</em></strong> &le; 10<sup>5</sup>, 1 &le; <strong><em>k</em></strong> &le; n/3),</li>\n",
        "\t<li style=\"text-align:justify\">D&ograve;ng thứ 2 chứa <strong><em>n</em></strong> số nguy&ecirc;n <strong><em>a<sub>1</sub></em></strong>, <strong><em>a<sub>2</sub></em></strong>, . . ., <strong><em>a<sub>n</sub></em></strong> (1 &le; <strong><em>a<sub>i</sub></em></strong> &le; 10<sup>9</sup>, <strong><em>i</em></strong> = 1 &divide; <strong><em>n</em></strong>).</li>\n",
        "</ul>\n",
        "\n",
        "<p style=\"text-align:justify\"><strong><em>Kết quả:</em></strong> Đưa ra thiết bị xuất chuẩn số nguy&ecirc;n <strong><em>x</em></strong>.</p>\n",
        "\n",
        "<p style=\"text-align:justify\"><strong><em>V&iacute; dụ:</em></strong></p>\n",
        "\n",
        "<table border=\"1\" bordercolor=\"#ccc\" cellpadding=\"5\" cellspacing=\"0\" style=\"border-collapse:collapse\">\n",
        "\t<tbody>\n",
        "\t\t<tr>\n",
        "\t\t\t<td style=\"background-color:#ffffcc; width:153.0pt\">\n",
        "\t\t\t<p style=\"text-align:center\"><tt><strong>INPUT</strong></tt></p>\n",
        "\t\t\t</td>\n",
        "\t\t\t<td style=\"vertical-align:top; width:27.0pt\">\n",
        "\t\t\t<p style=\"text-align:center\">&nbsp;</p>\n",
        "\t\t\t</td>\n",
        "\t\t\t<td style=\"background-color:#ffffcc; width:121.5pt\">\n",
        "\t\t\t<p style=\"text-align:center\"><tt><strong>OUTPUT</strong></tt></p>\n",
        "\t\t\t</td>\n",
        "\t\t</tr>\n",
        "\t\t<tr>\n",
        "\t\t\t<td rowspan=\"2\" style=\"background-color:#ffffcc; height:16.6pt; width:153.0pt\">\n",
        "\t\t\t  <p><tt><strong><span style=\"color:black\">10 2 </span></strong></tt></p>\n",
        "\t\t\t  <p><tt><strong>1 2 4 5 2 4 2 2 1 6 </strong></tt></p>\n",
        "\t\t\t</td>\n",
        "\t\t\t<td style=\"height:16.6pt; vertical-align:top; width:27.0pt\">\n",
        "\t\t\t<p>&nbsp;</p>\n",
        "\t\t\t</td>\n",
        "\t\t\t  <td style=\"background-color:#ffffcc; height:16.6pt; width:121.5pt\">\n",
        "\t\t\t  <p><tt><strong>7</strong></tt></p>\n",
        "\t\t\t</td>\n",
        "\t\t</tr>\n",
        "\t\t<tr>\n",
        "\t\t\t<td style=\"height:16.6pt; vertical-align:top; width:27.0pt\">\n",
        "\t\t\t<p>&nbsp;</p>\n",
        "\t\t\t</td>\n",
        "\t\t\t<td style=\"height:16.6pt; vertical-align:bottom; width:121.5pt\">\n",
        "\t\t\t<p style=\"text-align:center\">&nbsp;</p>\n",
        "\t\t\t</td>\n",
        "\t\t</tr>\n",
        "\t</tbody>\n",
        "</table>"
      ]
    },
    {
      "cell_type": "markdown",
      "metadata": {
        "id": "RM6YkI9nAXvO"
      },
      "source": [
        "## **1. Tóm tắt bài toán**"
      ]
    },
    {
      "cell_type": "markdown",
      "metadata": {
        "id": "DZ_ZHpmNlXi2"
      },
      "source": [
        "Cho một dãy **n** phần tử . Xác định tổng **k** phần tử  liên tiếp sao cho sau khi xóa **k** phần tử liên tiếp đó khỏi dãy (dãy sau khi xóa chia thành 2 phần) không tồn tại tổng của **k** phần tử  lớn hơn tổng **k** phần tử đã xóa."
      ]
    },
    {
      "cell_type": "markdown",
      "metadata": {
        "id": "KMl_1yZt-t46"
      },
      "source": [
        "## **2. Nhận dạng mẫu (Pattern-Recognition)**"
      ]
    },
    {
      "cell_type": "markdown",
      "metadata": {
        "id": "MvKc6MnglXi5"
      },
      "source": [
        "- Nhận thấy khi Hermione chọn **k** phần thưởng liên tiếp từ vị trí thì tổng giá trị các phần thưởg còn lại từ 0 tới i và từ i + k tới n sẽ thay đổi. Vì vậy ta cần lưu lại giá trị lớn nhất k phần tử liên tiếp khi xét từ phần tử đầu tiên tới i và phần tử i + k tới cuối dãy. Sau đó tìm min của các giá trị khi xét từ hai phía như trên là tổng k phần tử liên tiếp nhỏ nhất cần xóa.\n",
        "\n",
        "- Giải thuật: Quy hoạch động"
      ]
    },
    {
      "cell_type": "markdown",
      "metadata": {
        "id": "DHEyVW9BlXi9"
      },
      "source": [
        "## **3. Thuật toán**\n",
        "\n",
        "### **3.1. Ý tưởng**\n",
        "\n",
        "- Gọi maxleft[i] là tổng phần tử lớn nhất khi xóa k phần tử liên tiếp từ đoạn i - k  đến i xét từ 0 tới i.\n",
        "- Gọi maxright[i] là tổng phần tử lớn nhất khi xóa k phần tử liên tiếp từ đoạn i tới i + k, xét từ i tới n\n",
        "- Tìm min(maxleft[i], maxright[i+k])\n",
        "Với i = 1 -> n\n",
        "\n",
        "### **3.2. Mã giả thuật toán**\n",
        "\n",
        "```pseudocode\n",
        "\n",
        "Initialize n, k, prize\n",
        "\n",
        "Insert 0 to first and last element of prize array\n",
        "n = n + 2\n",
        "maxleft = [0] * n\n",
        "maxright = [0] * n\n",
        "\n",
        "tmp = 0\n",
        "for i = 0 to k do\n",
        "  tmp = tmp + prize[i]\n",
        "\n",
        "tmp = prize[k]\n",
        "\n",
        "for i = k to n do\n",
        "  tmp = tmp + a[i] - a[i-k]\n",
        "  maxleft[i] = max(maxleft[i-1], k)\n",
        "\n",
        "tmp = 0\n",
        "for i = n down to n-k do\n",
        "  tmp = tmp + prize[i]\n",
        "\n",
        "tmp = maxright[n-k]\n",
        "\n",
        "for i = n - k - 1 down to 0 do\n",
        "  tmp = tmp + a[i] - a[i+k]\n",
        "  maxright[i] = max(maxright[i+1], tmp)\n",
        "\n",
        "sum_digit = 0\n",
        "for i = 0 to len(digits) - 1 do\n",
        "  sum_digit <- sum_digit + digits[i]\n",
        "\n",
        "ans = 10^6\n",
        "for i = 1 to n-k do\n",
        "  ans = min(ans, max(maxleft[i], maxright[i+k]))\n",
        "\n",
        "Return ans\n",
        "```"
      ]
    },
    {
      "cell_type": "markdown",
      "metadata": {
        "id": "2QLVpwgwLB6z"
      },
      "source": [
        "## **4. Cài đặt**"
      ]
    },
    {
      "cell_type": "code",
      "metadata": {
        "id": "QXuzuI9clXjA",
        "colab": {
          "base_uri": "https://localhost:8080/"
        },
        "outputId": "284570b5-8c73-4c23-a7b9-3d5198164fe8"
      },
      "source": [
        "n, k = map(int,input().split())\n",
        "prize = list(map(int,input().split()))\n",
        "a = [0]\n",
        "for i in prize:\n",
        "  a.append(i)\n",
        "a.append(0)\n",
        "\n",
        "n = n + 2\n",
        "\n",
        "maxleft = [int(0)]*n\n",
        "maxright = [int(0)]*n\n",
        "\n",
        "tmp = 0\n",
        "for i in range(k):\n",
        "    maxleft[k] += a[i]\n",
        "\n",
        "tmp = maxleft[k]\n",
        "\n",
        "for i in range(k, n):\n",
        "    tmp = tmp + a[i] - a[i-k]\n",
        "    maxleft[i] = max(maxleft[i-1], tmp)\n",
        "\n",
        "for i in range(n-1, n-k-1, -1):\n",
        "    maxright[n-k] += a[i]\n",
        "\n",
        "tmp = maxright[n-k]\n",
        "\n",
        "for i in range(n-k-1,-1,-1):\n",
        "    tmp = tmp + a[i] - a[i+k]\n",
        "    maxright[i] = max(maxright[i+1], tmp)\n",
        "\n",
        "ans = 10**16\n",
        "for i in range(1,n-k):\n",
        "    ans = min(ans, max(maxleft[i-1], maxright[i+k]))\n",
        "print(ans)"
      ],
      "execution_count": 3,
      "outputs": [
        {
          "output_type": "stream",
          "text": [
            "10 2\n",
            "1 2 4 5 2 4 2 2 1 6\n",
            "7\n"
          ],
          "name": "stdout"
        }
      ]
    },
    {
      "cell_type": "markdown",
      "metadata": {
        "id": "MDpEYQJOLB7F"
      },
      "source": [
        "## **5. Kết quả trên Wecode**"
      ]
    },
    {
      "cell_type": "markdown",
      "metadata": {
        "id": "q8ElylpcLB7I"
      },
      "source": [
        "![image.png](data:image/png;base64,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)"
      ]
    }
  ]
}