{
  "nbformat": 4,
  "nbformat_minor": 0,
  "metadata": {
    "colab": {
      "name": "KhoaSo.ipynb",
      "provenance": [],
      "collapsed_sections": [],
      "include_colab_link": true
    },
    "kernelspec": {
      "display_name": "Python 3",
      "language": "python",
      "name": "python3"
    },
    "language_info": {
      "codemirror_mode": {
        "name": "ipython",
        "version": 3
      },
      "file_extension": ".py",
      "mimetype": "text/x-python",
      "name": "python",
      "nbconvert_exporter": "python",
      "pygments_lexer": "ipython3",
      "version": "3.7.7"
    }
  },
  "cells": [
    {
      "cell_type": "markdown",
      "metadata": {
        "id": "view-in-github",
        "colab_type": "text"
      },
      "source": [
        "<a href=\"https://colab.research.google.com/github/santheipman/CS112.L11.KHTN/blob/master/EXCERCISE/WEEK_05/KhoaSo.ipynb\" target=\"_parent\"><img src=\"https://colab.research.google.com/assets/colab-badge.svg\" alt=\"Open In Colab\"/></a>"
      ]
    },
    {
      "cell_type": "markdown",
      "metadata": {
        "id": "Uq5n_LmrwDSx"
      },
      "source": [
        "<img src=\"https://www.uit.edu.vn/sites/vi/files/banner.png\" alt=\"UIT logo\" class=\"left\">\n",
        "<h1 align= \"center\">   <strong>     CS112.PHÂN TÍCH VÀ THIẾT KẾ THUẬT TOÁN</strong> </h1>\n",
        "\n",
        "\n"
      ]
    },
    {
      "cell_type": "markdown",
      "metadata": {
        "id": "U_Pca_MGyrHm"
      },
      "source": [
        "# **CS112.L11.KHTN**\n",
        "## **NHÓM 5**\n",
        "\n",
        "|  STT | HỌ TÊN             | MSSV     | VAI TRÒ     | LIÊN HỆ |\n",
        "|---|--------------------|-----------------|----------------|---------|\n",
        "|**1** | **VŨ QUÍ SAN**         | **18520143** | **NHÓM TRƯỞNG** |[**GitHub**](https://github.com/santheipman) **và** **Gmail**: 18520143@gm.uit.edu.vn          |\n",
        "| **2** | **PHẠM MẠNH TIẾN**     | **18520166**| **THÀNH VIÊN**  | [**GitHub**](https://github.com/tienpm) **và** **Gmail**: 18520166@gm.uit.edu.vn        |\n",
        "| **3** |**NGUYỄN VƯƠNG THỊNH** | **18520367** | **THÀNH VIÊN**  |  [**GitHub**](https://github.com/ThinhNguyen209) **và** **Gmail**: 18520367@gm.uit.edu.vn      |"
      ]
    },
    {
      "cell_type": "markdown",
      "metadata": {
        "id": "vme-ibFDdtRI"
      },
      "source": [
        "## **Đề bài**\n",
        "\n",
        "### **Khóa Số (0.15s, 100MB)**\n",
        "\n",
        "<p style=\"text-align:justify\">Để tăng độ an toàn chống hiện tượng cướp ngân hàng ngày càng phổ biến người ta dùng khóa số với mã mở khóa đơn giản nhưng rất hiệu quả. Trên cửa ra vào hiển thị một xâu khá dài các ký tự số. Các chữ số có thể di chuyển đổi chổ cho nhau hoặc bị xóa. Muốn mở khóa người ta phải di chuyển các chữ số và trong trường hợp cần thiết – xóa vài chữ số để nhận được <em>xâu lớn nhất</em> thỏa mãn điều kiện đã cài đặt. Điều kiện này được thay đổi thường xuyên. Hôm nay điều kiện đó là “Số nhận được phải chia hết cho 3”. Số nhận được có thể bắt đầu bằng các chữ số 0. Xâu “000” sẽ lớn hơn xâu “00”.</p>\n",
        "\n",
        "<p style=\"text-align:justify\">Hãy xác định khóa mở cửa.</p>\n",
        "\n",
        "<p style=\"text-align:justify\"><strong><em><span style=\"color:black\">Dữ liệu:</span></em></strong> Vào từ thiết bị nhập chuẩn gồm một xâu ký tự số có độ dài lớn hơn 2 và không vượt quá 10<sup>5</sup>.</p>\n",
        "\n",
        "<p style=\"text-align:justify\"><strong><em><span style=\"color:black\">Kết quả:</span></em></strong> Đưa ra thiết bị xuất chuẩn xâu khóa mở cửa<span style=\"color:black\">.</span></p>\n",
        "\n",
        "<p style=\"text-align:justify\"><strong><em><span style=\"color:black\">Ví dụ:</span></em></strong></p>\n",
        "\n",
        "<table cellspacing=\"0\" border=\"1\">\n",
        "\t<tbody>\n",
        "\t\t<tr>\n",
        "\t\t\t<td style=\"background-color:#ffffcc; width:63.0pt\">\n",
        "\t\t\t<p style=\"text-align:justify\"><tt><span style=\"color:black\">INPUT</span></tt></p>\n",
        "\t\t\t</td>\n",
        "\t\t\t<td style=\"vertical-align:top; width:58.5pt\">\n",
        "\t\t\t<p style=\"text-align:justify\">&nbsp;</p>\n",
        "\t\t\t</td>\n",
        "\t\t\t<td style=\"background-color:#ffffcc; width:67.5pt\">\n",
        "\t\t\t<p style=\"text-align:justify\"><tt><span style=\"color:black\">OUTPUT</span></tt></p>\n",
        "\t\t\t</td>\n",
        "\t\t</tr>\n",
        "\t\t<tr>\n",
        "\t\t\t<td style=\"background-color:#ffffcc; width:63.0pt\">\n",
        "\t\t\t<p style=\"text-align:justify\"><tt><strong><span style=\"color:black\">105</span></strong></tt></p>\n",
        "\t\t\t</td>\n",
        "\t\t\t<td style=\"vertical-align:top; width:58.5pt\">\n",
        "\t\t\t<p style=\"text-align:justify\">&nbsp;</p>\n",
        "\t\t\t</td>\n",
        "\t\t\t<td style=\"background-color:#ffffcc; width:67.5pt\">\n",
        "\t\t\t<p style=\"text-align:justify\"><tt><strong><span style=\"color:black\">510</span></strong></tt></p>\n",
        "\t\t\t</td>\n",
        "\t\t</tr>\n",
        "\t</tbody>\n",
        "</table>\n",
        "\n",
        "<p style=\"text-align:justify\">&nbsp;</p>\n",
        "\n",
        "\t\t"
      ]
    },
    {
      "cell_type": "markdown",
      "metadata": {
        "id": "RM6YkI9nAXvO"
      },
      "source": [
        "## **1. Tóm tắt bài toán**"
      ]
    },
    {
      "cell_type": "markdown",
      "metadata": {
        "id": "xCMAAJzadtRM"
      },
      "source": [
        "Tìm xâu ký tự số lớn nhất chia hết cho 3 thu được từ việc hoán vị phần tử hoặc xóa phần tử từ một xâu ký tự số cho trước"
      ]
    },
    {
      "cell_type": "markdown",
      "metadata": {
        "id": "KMl_1yZt-t46"
      },
      "source": [
        "## **2. Nhận dạng mẫu (Pattern-Recognition)**"
      ]
    },
    {
      "cell_type": "markdown",
      "metadata": {
        "id": "tSK7Qg7wdtRP"
      },
      "source": [
        "**Áp dụng dấu hiệu chia hết cho 3**\n",
        "\n",
        "- Xâu ký tự số cho trước có độ dài lên đến $10^{5}$ nên việc chia trực tiếp để kiểm tra số có chia hết cho 3 hay không là điều rất khó thực hiện.\n",
        "\n",
        "- Thay vào đó, ta có thể áp dụng dấu hiệu chia hết cho 3: một số nguyên dương chia hết cho 3 khi và chỉ khi tổng các chữ số của nó chia hết cho 3.\n",
        "\n",
        "**Counting Sort**\n",
        "\n",
        "- Khi xâu số đã chia hết cho 3 rồi, ta còn phải sắp xếp lại thứ tự các số của xâu đó để tạo thành xâu lớn nhất.\n",
        "- Để ý rằng giá trị của các số chỉ nằm từ 0-9, do đó ta có thể dùng [Counting Sort](https://www.geeksforgeeks.org/counting-sort/) để sắp xếp các số với thời gian $\\mathbf{O(n)}$, với $n$ là độ dài xâu."
      ]
    },
    {
      "cell_type": "markdown",
      "metadata": {
        "id": "YkMlev1hdtRU"
      },
      "source": [
        "## **3. Thuật toán**\n",
        "\n",
        "### **3.1. Ý tưởng**\n",
        "\n",
        "Ta có hai việc chính cần thực hiện là: (1) xóa số để xâu chia hết cho 3 và (2) sắp xếp lại xâu.\n",
        "\n",
        "Việc sắp xếp lại xâu có thể được giải quyết dễ dàng bằng cách dùng Counting Sort như đã nói ở mục 2. Việc còn lại ta cần quan tâm là làm sao để xóa số cho đúng.\n",
        "\n",
        "**Xóa số**\n",
        "\n",
        "Ta xóa số khi xâu hiện tại chưa chia hết cho 3, tức là xâu chia 3 dư 1 hoặc chia 3 dư 2:\n",
        "- Trường hợp chia 3 dư 1:\n",
        "    - xóa 1 số nhỏ nhất chia 3 dư 1,\n",
        "    - nếu không thực hiện được ý trên thì ta xóa 2 số nhỏ nhất chia 3 dư 2.\n",
        "- Trường hợp chia 3 dư 2:\n",
        "    - xóa 1 số nhỏ nhất chia 3 dư 2,\n",
        "    - nếu không thực hiện được ý trên thì ta xóa 2 số nhỏ nhất chia 3 dư 1.\n",
        "\n",
        "Trong cả 2 trường hợp ta đều ưu tiên thử cách xóa 1 số đi trước bởi vì ta đang muốn xâu số lượng số xóa đi là ít nhất, để xâu thu được là dài nhất.\n",
        "\n",
        "### **3.2. Mã giả thuật toán**\n",
        "\n",
        "```pseudocode\n",
        "sum = Tổng các số trong xâu\n",
        "\n",
        "nếu sum chia 3 dư 1:\n",
        "    nếu xâu có số chia 3 dư 1:\n",
        "        xóa 1 số nhỏ nhất chia 3 dư 1 trong xâu\n",
        "    \n",
        "    nếu xâu không có số chia 3 dư 1:\n",
        "        xóa 2 số nhỏ nhất chia 3 dư 2 trong xâu\n",
        "        \n",
        "nếu sum chia 3 dư 2:\n",
        "    nếu xâu có số chia 3 dư 2:\n",
        "        xóa 1 số nhỏ nhất chia 3 dư 2 trong xâu\n",
        "    \n",
        "    nếu xâu không có số chia 3 dư 2:\n",
        "        xóa 2 số nhỏ nhất chia 3 dư 1 trong xâu\n",
        "        \n",
        "sắp xếp xâu bằng Counting Sort\n",
        "```"
      ]
    },
    {
      "cell_type": "markdown",
      "metadata": {
        "id": "2QLVpwgwLB6z"
      },
      "source": [
        "## **4. Cài đặt**"
      ]
    },
    {
      "cell_type": "markdown",
      "metadata": {
        "id": "yPhDtq7edtRW"
      },
      "source": [
        "**Cài đặt 1**\n",
        "\n",
        "Bởi vì cách xử lý ở hai trường hợp chia 3 dư 1 và chia 3 dư 2 là tương tự nhau nên ta có thể viết hàm `delete_num(count, l1, l2)` để xử lý chung cho cả hai trường hợp. Tuy nhiên chương trình lại chạy quá thời gian tại test 56."
      ]
    },
    {
      "cell_type": "code",
      "metadata": {
        "id": "lx5PwfkadtRY",
        "outputId": "e7ebe33a-50d6-4b25-a2c9-78761753dbd4"
      },
      "source": [
        "# Time Limit Exceeded on test 56\n",
        "\n",
        "def delete_num(count, l1, l2):\n",
        "    for num in l1:\n",
        "        if count[num] > 0:\n",
        "            count[num] -= 1\n",
        "            break\n",
        "    else:\n",
        "        delete = 2\n",
        "        for num in l2:\n",
        "            if count[num] >= 2:\n",
        "                count[num] -= 2\n",
        "                delete -= 2\n",
        "            elif count[num] == 1:\n",
        "                count[num] -= 1\n",
        "                delete -= 1\n",
        "            \n",
        "            if delete == 0:\n",
        "                break\n",
        "\n",
        "\n",
        "input_string = input().strip()\n",
        "\n",
        "total = 0\n",
        "count = [0, 0, 0, 0, 0, 0, 0, 0, 0 ,0]\n",
        "two = [2, 5, 8]\n",
        "one = [1, 4, 7]\n",
        "\n",
        "for character in input_string:\n",
        "    digit = int(character)\n",
        "    total += digit\n",
        "    count[digit] += 1\n",
        "\n",
        "if total % 3 == 1:\n",
        "    delete_num(count, one, two)\n",
        "elif total % 3 == 2:\n",
        "    delete_num(count, two, one)\n",
        "\n",
        "password = ''\n",
        "for i in range(9, -1, -1):\n",
        "    password += str(i) * count[i]\n",
        "\n",
        "print(password)"
      ],
      "execution_count": null,
      "outputs": [
        {
          "output_type": "stream",
          "text": [
            "0984024019230\n",
            "9984432210000\n"
          ],
          "name": "stdout"
        }
      ]
    },
    {
      "cell_type": "markdown",
      "metadata": {
        "id": "cLafsBUpdtRh"
      },
      "source": [
        "**Cài đặt 2**\n",
        "\n",
        "Nếu không dùng hàm `delete_num(count, l1, l2)` mà tách phần xử lý của hai trường hợp ra thì tuy code hơi lặp lại nhưng nó lại giúp ta chạy kịp tất cả các test trong thời gian cho phép. Nguyên nhân của việc này có thể tại vì việc sử dụng hàm làm tốn thêm thời gian truyền đối số."
      ]
    },
    {
      "cell_type": "code",
      "metadata": {
        "id": "DpfMqu4qdtRj",
        "outputId": "908caf9f-2437-4f43-a672-fb51cbfc5e50"
      },
      "source": [
        "# ACCEPTED\n",
        "\n",
        "input_string = input().strip()\n",
        "\n",
        "total = 0\n",
        "count = [0, 0, 0, 0, 0, 0, 0, 0, 0 ,0]\n",
        "two = [2, 5, 8]\n",
        "one = [1, 4, 7]\n",
        "\n",
        "for character in input_string:\n",
        " \n",
        "    digit = int(character)\n",
        "\n",
        "    total += digit\n",
        "\n",
        "    count[digit] += 1\n",
        "\n",
        "if total % 3 == 1:\n",
        "    for num in one:\n",
        "        if count[num] > 0:\n",
        "            count[num] -= 1\n",
        "            break\n",
        "    else:\n",
        "        delete = 2\n",
        "        for num in two:\n",
        "            if count[num] >= 2:\n",
        "                count[num] -= 2\n",
        "                delete -= 2\n",
        "            elif count[num] == 1:\n",
        "                count[num] -= 1\n",
        "                delete -= 1\n",
        "            \n",
        "            if delete == 0:\n",
        "                break\n",
        "\n",
        "elif total % 3 == 2:\n",
        "    for num in two:\n",
        "        if count[num] > 0:\n",
        "            count[num] -= 1\n",
        "            break\n",
        "    else:\n",
        "        delete = 2\n",
        "        for num in one:\n",
        "            if count[num] >= 2:\n",
        "                count[num] -= 2\n",
        "                delete -= 2\n",
        "            elif count[num] == 1:\n",
        "                count[num] -= 1\n",
        "                delete -= 1\n",
        "            \n",
        "            if delete == 0:\n",
        "                break\n",
        "\n",
        "password = ''\n",
        "for i in range(9, -1, -1):\n",
        "    password += str(i) * count[i]\n",
        "\n",
        "print(password)"
      ],
      "execution_count": null,
      "outputs": [
        {
          "output_type": "stream",
          "text": [
            "0984024019230\n",
            "9984432210000\n"
          ],
          "name": "stdout"
        }
      ]
    },
    {
      "cell_type": "markdown",
      "metadata": {
        "id": "MDpEYQJOLB7F"
      },
      "source": [
        "## **5. Kết quả trên Wecode**"
      ]
    },
    {
      "cell_type": "markdown",
      "metadata": {
        "id": "q8ElylpcLB7I"
      },
      "source": [
        "![wecode_khoaso.jpg](data:image/png;base64,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)"
      ]
    }
  ]
}